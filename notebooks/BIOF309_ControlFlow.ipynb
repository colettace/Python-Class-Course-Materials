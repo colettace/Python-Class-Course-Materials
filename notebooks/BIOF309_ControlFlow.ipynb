{
 "metadata": {
  "name": ""
 },
 "nbformat": 3,
 "nbformat_minor": 0,
 "worksheets": [
  {
   "cells": [
    {
     "cell_type": "markdown",
     "metadata": {},
     "source": [
      "# BIOF 309 - Introduction to Python\n",
      "## Class 3: Lists, Loops and Logic\n",
      "### Thursday, February 13, 2014\n",
      "\n",
      "\n",
      "## Part 2: Iterables\n",
      "\n",
      "An [iterable](http://docs.python.org/2/glossary.html#term-iterable) is a container object capable of returning its members one at a time. Examples of iterables include all sequence types (such as list, str, and tuple) and some non-sequence types like dict and file (more on files later in the semester).\n",
      "\n",
      "In this notebook we explore of some of the most important iterable types built into Python.\n",
      "\n",
      "### Table Of Contents\n",
      "1. [Lists](#lists)\n",
      "2. [Tuples](#tuples)\n",
      "3. [Dictionaries](#dicts)\n",
      "4. [Sets](#sets)\n",
      "5. [Strings](#strings)\n",
      "6. [Iterables of Iterables](#compound)\n",
      "7. [Shallow Copy vs. Deep Copy](#deep)\n",
      "8. [Using Iterables](#using)\n",
      "\n",
      "---"
     ]
    },
    {
     "cell_type": "markdown",
     "metadata": {},
     "source": [
      "## <a name=\"boolean\">Boolean Expressions</a>\n",
      "\n",
      "<code>True</code> and <code>False</code> are reserved words in Python."
     ]
    },
    {
     "cell_type": "code",
     "collapsed": false,
     "input": [
      "value1 = True\n",
      "value2 = False"
     ],
     "language": "python",
     "metadata": {},
     "outputs": [],
     "prompt_number": 3
    },
    {
     "cell_type": "markdown",
     "metadata": {},
     "source": [
      "### Truth Value Testing\n",
      "\n",
      "The following evaluate to <code>False</code> in a truth test:\n",
      "\n",
      "+ <code>False</code>\n",
      "+ <code>None</code>\n",
      "+ 0 of any type, including 0, 0L, 0.0, 0j\n",
      "+ An empty sequence: \"\", (), [], {}"
     ]
    },
    {
     "cell_type": "code",
     "collapsed": false,
     "input": [
      "if not 0: print \"False!\""
     ],
     "language": "python",
     "metadata": {},
     "outputs": [
      {
       "output_type": "stream",
       "stream": "stdout",
       "text": [
        "False!\n"
       ]
      }
     ],
     "prompt_number": 4
    },
    {
     "cell_type": "markdown",
     "metadata": {},
     "source": [
      "## Boolean Operators\n",
      "\n",
      "* <code>x or y</code> - "
     ]
    },
    {
     "cell_type": "code",
     "collapsed": false,
     "input": [],
     "language": "python",
     "metadata": {},
     "outputs": []
    }
   ],
   "metadata": {}
  }
 ]
}