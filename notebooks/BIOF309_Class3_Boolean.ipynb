{
 "metadata": {
  "name": ""
 },
 "nbformat": 3,
 "nbformat_minor": 0,
 "worksheets": [
  {
   "cells": [
    {
     "cell_type": "markdown",
     "metadata": {},
     "source": [
      "## <a name=\"boolean\">Boolean Expressions</a>\n",
      "\n",
      "<code>True</code> and <code>False</code> are reserved words in Python."
     ]
    },
    {
     "cell_type": "code",
     "collapsed": false,
     "input": [
      "value1 = True\n",
      "value2 = False"
     ],
     "language": "python",
     "metadata": {},
     "outputs": [],
     "prompt_number": 3
    },
    {
     "cell_type": "markdown",
     "metadata": {},
     "source": [
      "### Truth Value Testing\n",
      "\n",
      "The following evaluate to <code>False</code> in a truth test:\n",
      "\n",
      "+ <code>False</code>\n",
      "+ <code>None</code>\n",
      "+ 0 of any type, including 0, 0L, 0.0, 0j\n",
      "+ An empty sequence: \"\", (), [], {}"
     ]
    },
    {
     "cell_type": "code",
     "collapsed": false,
     "input": [
      "if not 0: print \"False!\""
     ],
     "language": "python",
     "metadata": {},
     "outputs": [
      {
       "output_type": "stream",
       "stream": "stdout",
       "text": [
        "False!\n"
       ]
      }
     ],
     "prompt_number": 4
    },
    {
     "cell_type": "code",
     "collapsed": false,
     "input": [],
     "language": "python",
     "metadata": {},
     "outputs": []
    }
   ],
   "metadata": {}
  }
 ]
}