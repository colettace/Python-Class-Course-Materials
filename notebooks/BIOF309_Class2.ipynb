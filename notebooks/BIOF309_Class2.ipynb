{
 "metadata": {
  "name": ""
 },
 "nbformat": 3,
 "nbformat_minor": 0,
 "worksheets": [
  {
   "cells": [
    {
     "cell_type": "markdown",
     "metadata": {},
     "source": [
      "# Class 2: Python Primitives\n",
      "BIOF 309 Introduction to Python\n",
      "\n",
      "Christopher Coletta\n",
      "\n",
      "## Outline\n",
      "0. Moving around in IPython Notebook\n",
      "1. Exceptions\n",
      "2. Names Values (a.k.a. Variables)\n",
      "3. Core Python Types\n",
      "4. Conversion between types\n",
      "5. Math Expressions\n",
      "6. Matrix operation using <code>numpy</code>\n",
      "7. Strings, with escape characters"
     ]
    },
    {
     "cell_type": "code",
     "collapsed": false,
     "input": [],
     "language": "python",
     "metadata": {},
     "outputs": []
    }
   ],
   "metadata": {}
  }
 ]
}