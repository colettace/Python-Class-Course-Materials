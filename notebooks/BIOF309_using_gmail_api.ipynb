{
 "metadata": {
  "name": "",
  "signature": "sha256:6d85f981e54b9dfe0e551e3c030ec102e41797c7059973db0555f2962b84a4f3"
 },
 "nbformat": 3,
 "nbformat_minor": 0,
 "worksheets": [
  {
   "cells": [
    {
     "cell_type": "markdown",
     "metadata": {},
     "source": [
      "# Assigning Extra Credit based on class email list participation\n",
      "\n",
      "by Chris Coletta\n",
      "BIOF 309 - May 15, 2014\n",
      "\n",
      "Step 1: install Charlie Guo's \"gmail\" [Python package](https://github.com/charlierguo/gmail)"
     ]
    },
    {
     "cell_type": "code",
     "collapsed": false,
     "input": [
      "import gmail"
     ],
     "language": "python",
     "metadata": {},
     "outputs": [],
     "prompt_number": 1
    },
    {
     "cell_type": "code",
     "collapsed": false,
     "input": [
      "help(gmail)"
     ],
     "language": "python",
     "metadata": {},
     "outputs": [
      {
       "output_type": "stream",
       "stream": "stdout",
       "text": [
        "Help on package gmail:\n",
        "\n",
        "NAME\n",
        "    gmail - GMail! Woo!\n",
        "\n",
        "FILE\n",
        "    /opt/local/Library/Frameworks/Python.framework/Versions/2.7/lib/python2.7/site-packages/gmail-0.0.5-py2.7.egg/gmail/__init__.py\n",
        "\n",
        "PACKAGE CONTENTS\n",
        "    exceptions\n",
        "    gmail\n",
        "    mailbox\n",
        "    message\n",
        "    utf\n",
        "    utils\n",
        "\n",
        "DATA\n",
        "    __author__ = 'Charlie Guo'\n",
        "    __build__ = 1\n",
        "    __copyright__ = 'Copyright 2013 Charlie Guo'\n",
        "    __license__ = 'Apache 2.0'\n",
        "    __loader__ = <zipimporter object \"/opt/local/Library/Framewor...b/pyth...\n",
        "    __title__ = 'gmail'\n",
        "    __version__ = '0.1'\n",
        "\n",
        "VERSION\n",
        "    0.1\n",
        "\n",
        "AUTHOR\n",
        "    Charlie Guo\n",
        "\n",
        "\n"
       ]
      }
     ],
     "prompt_number": 2
    },
    {
     "cell_type": "markdown",
     "metadata": {},
     "source": [
      "### Make a Google \"App Password\"\n",
      "\n",
      "You can't log into your gmail using your normal password, but rather you must generate yourself an App Password. Go to your Google account [security page](https://www.google.com/settings/security) and where it says \"App Passwords\" click settings. "
     ]
    },
    {
     "cell_type": "code",
     "collapsed": false,
     "input": [
      "username = \"christopher.coletta@gmail.com\"\n",
      "password = \"vfemoywrfsinuofa\""
     ],
     "language": "python",
     "metadata": {},
     "outputs": [],
     "prompt_number": 7
    },
    {
     "cell_type": "code",
     "collapsed": false,
     "input": [
      "from gmail import Gmail"
     ],
     "language": "python",
     "metadata": {},
     "outputs": [],
     "prompt_number": 4
    },
    {
     "cell_type": "code",
     "collapsed": false,
     "input": [
      "g = Gmail()"
     ],
     "language": "python",
     "metadata": {},
     "outputs": [],
     "prompt_number": 5
    },
    {
     "cell_type": "code",
     "collapsed": false,
     "input": [
      "g.login(username, password)"
     ],
     "language": "python",
     "metadata": {},
     "outputs": [
      {
       "metadata": {},
       "output_type": "pyout",
       "prompt_number": 8,
       "text": [
        "True"
       ]
      }
     ],
     "prompt_number": 8
    },
    {
     "cell_type": "code",
     "collapsed": false,
     "input": [
      "g.logged_in"
     ],
     "language": "python",
     "metadata": {},
     "outputs": [
      {
       "metadata": {},
       "output_type": "pyout",
       "prompt_number": 9,
       "text": [
        "True"
       ]
      }
     ],
     "prompt_number": 9
    },
    {
     "cell_type": "markdown",
     "metadata": {},
     "source": [
      "### Pull all class emails via class label\n",
      "\n",
      "At the beginning of the semester I created a filter for all class emails to be tagged with the label \"biof309_2014\". This includes ones sent to the class email list, as well as student email sent to me directly off-list."
     ]
    },
    {
     "cell_type": "code",
     "collapsed": false,
     "input": [
      "all_biof309_emails = g.label(\"biof309_2014\").mail()"
     ],
     "language": "python",
     "metadata": {},
     "outputs": [],
     "prompt_number": 10
    },
    {
     "cell_type": "code",
     "collapsed": false,
     "input": [
      "type(all_biof309_emails)"
     ],
     "language": "python",
     "metadata": {},
     "outputs": [
      {
       "metadata": {},
       "output_type": "pyout",
       "prompt_number": 14,
       "text": [
        "list"
       ]
      }
     ],
     "prompt_number": 14
    },
    {
     "cell_type": "code",
     "collapsed": false,
     "input": [
      "len(all_biof309_emails)"
     ],
     "language": "python",
     "metadata": {},
     "outputs": [
      {
       "metadata": {},
       "output_type": "pyout",
       "prompt_number": 11,
       "text": [
        "537"
       ]
      }
     ],
     "prompt_number": 11
    },
    {
     "cell_type": "code",
     "collapsed": false,
     "input": [
      "type(all_biof309_emails[0])"
     ],
     "language": "python",
     "metadata": {},
     "outputs": [
      {
       "metadata": {},
       "output_type": "pyout",
       "prompt_number": 16,
       "text": [
        "instance"
       ]
      }
     ],
     "prompt_number": 16
    },
    {
     "cell_type": "code",
     "collapsed": false,
     "input": [
      "all_biof309_emails[0]"
     ],
     "language": "python",
     "metadata": {},
     "outputs": [
      {
       "metadata": {},
       "output_type": "pyout",
       "prompt_number": 17,
       "text": [
        "<gmail.message.Message instance at 0x10f22f290>"
       ]
      }
     ],
     "prompt_number": 17
    },
    {
     "cell_type": "code",
     "collapsed": false,
     "input": [
      "help(gmail.message.Message)"
     ],
     "language": "python",
     "metadata": {},
     "outputs": [
      {
       "output_type": "stream",
       "stream": "stdout",
       "text": [
        "Help on class Message in module gmail.message:\n",
        "\n",
        "class Message\n",
        " |  Methods defined here:\n",
        " |  \n",
        " |  __init__(self, mailbox, uid)\n",
        " |  \n",
        " |  add_label(self, label)\n",
        " |  \n",
        " |  archive(self)\n",
        " |  \n",
        " |  delete(self)\n",
        " |  \n",
        " |  fetch(self)\n",
        " |  \n",
        " |  fetch_thread(self)\n",
        " |      # returns a list of fetched messages (both sent and received) in chronological order\n",
        " |  \n",
        " |  has_label(self, label)\n",
        " |  \n",
        " |  is_deleted(self)\n",
        " |  \n",
        " |  is_draft(self)\n",
        " |  \n",
        " |  is_read(self)\n",
        " |  \n",
        " |  is_starred(self)\n",
        " |  \n",
        " |  move_to(self, name)\n",
        " |  \n",
        " |  parse(self, raw_message)\n",
        " |  \n",
        " |  parse_flags(self, headers)\n",
        " |  \n",
        " |  parse_headers(self, message)\n",
        " |  \n",
        " |  parse_labels(self, headers)\n",
        " |  \n",
        " |  parse_subject(self, encoded_subject)\n",
        " |  \n",
        " |  read(self)\n",
        " |  \n",
        " |  remove_label(self, label)\n",
        " |  \n",
        " |  star(self)\n",
        " |  \n",
        " |  unread(self)\n",
        " |  \n",
        " |  unstar(self)\n",
        "\n"
       ]
      }
     ],
     "prompt_number": 18
    },
    {
     "cell_type": "code",
     "collapsed": false,
     "input": [
      "dir(all_biof309_emails[0])"
     ],
     "language": "python",
     "metadata": {},
     "outputs": [
      {
       "metadata": {},
       "output_type": "pyout",
       "prompt_number": 19,
       "text": [
        "['__doc__',\n",
        " '__init__',\n",
        " '__module__',\n",
        " 'add_label',\n",
        " 'archive',\n",
        " 'attachments',\n",
        " 'body',\n",
        " 'cc',\n",
        " 'delete',\n",
        " 'delivered_to',\n",
        " 'fetch',\n",
        " 'fetch_thread',\n",
        " 'flags',\n",
        " 'fr',\n",
        " 'gmail',\n",
        " 'has_label',\n",
        " 'headers',\n",
        " 'html',\n",
        " 'is_deleted',\n",
        " 'is_draft',\n",
        " 'is_read',\n",
        " 'is_starred',\n",
        " 'labels',\n",
        " 'mailbox',\n",
        " 'message',\n",
        " 'message_id',\n",
        " 'move_to',\n",
        " 'parse',\n",
        " 'parse_flags',\n",
        " 'parse_headers',\n",
        " 'parse_labels',\n",
        " 'parse_subject',\n",
        " 'read',\n",
        " 'remove_label',\n",
        " 'sent_at',\n",
        " 'star',\n",
        " 'subject',\n",
        " 'thread',\n",
        " 'thread_id',\n",
        " 'to',\n",
        " 'uid',\n",
        " 'unread',\n",
        " 'unstar']"
       ]
      }
     ],
     "prompt_number": 19
    },
    {
     "cell_type": "code",
     "collapsed": false,
     "input": [
      "for theemail in all_biof309_emails:\n",
      "    theemail.fetch()"
     ],
     "language": "python",
     "metadata": {},
     "outputs": [],
     "prompt_number": 12
    },
    {
     "cell_type": "code",
     "collapsed": false,
     "input": [
      "all_biof309_emails[0].body"
     ],
     "language": "python",
     "metadata": {},
     "outputs": []
    },
    {
     "cell_type": "code",
     "collapsed": false,
     "input": [
      "all_biof309_emails[1].body"
     ],
     "language": "python",
     "metadata": {},
     "outputs": []
    },
    {
     "cell_type": "code",
     "collapsed": false,
     "input": [
      "type(all_biof309_emails[2])"
     ],
     "language": "python",
     "metadata": {},
     "outputs": [
      {
       "metadata": {},
       "output_type": "pyout",
       "prompt_number": 29,
       "text": [
        "instance"
       ]
      }
     ],
     "prompt_number": 29
    },
    {
     "cell_type": "code",
     "collapsed": false,
     "input": [
      "all_biof309_emails[2].flags"
     ],
     "language": "python",
     "metadata": {},
     "outputs": [
      {
       "metadata": {},
       "output_type": "pyout",
       "prompt_number": 30,
       "text": [
        "['\\\\Seen']"
       ]
      }
     ],
     "prompt_number": 30
    },
    {
     "cell_type": "code",
     "collapsed": false,
     "input": [
      "all_biof309_emails[2].labels"
     ],
     "language": "python",
     "metadata": {},
     "outputs": [
      {
       "metadata": {},
       "output_type": "pyout",
       "prompt_number": 31,
       "text": [
        "['\\\\Important']"
       ]
      }
     ],
     "prompt_number": 31
    },
    {
     "cell_type": "code",
     "collapsed": false,
     "input": [
      "all_biof309_emails[2].headers"
     ],
     "language": "python",
     "metadata": {},
     "outputs": []
    },
    {
     "cell_type": "code",
     "collapsed": false,
     "input": [
      "all_biof309_emails[2].cc"
     ],
     "language": "python",
     "metadata": {},
     "outputs": [],
     "prompt_number": 108
    },
    {
     "cell_type": "code",
     "collapsed": false,
     "input": [
      "all_biof309_emails[2].sent_at"
     ],
     "language": "python",
     "metadata": {},
     "outputs": [
      {
       "metadata": {},
       "output_type": "pyout",
       "prompt_number": 39,
       "text": [
        "datetime.datetime(2014, 1, 30, 20, 10, 48)"
       ]
      }
     ],
     "prompt_number": 39
    },
    {
     "cell_type": "code",
     "collapsed": false,
     "input": [
      "sorted_by_date = sorted(all_biof309_emails, key=lambda email: email.sent_at)"
     ],
     "language": "python",
     "metadata": {},
     "outputs": [],
     "prompt_number": 13
    },
    {
     "cell_type": "code",
     "collapsed": false,
     "input": [
      "str(all_biof309_emails[2].sent_at)"
     ],
     "language": "python",
     "metadata": {},
     "outputs": [
      {
       "metadata": {},
       "output_type": "pyout",
       "prompt_number": 14,
       "text": [
        "'2014-01-30 20:10:48'"
       ]
      }
     ],
     "prompt_number": 14
    },
    {
     "cell_type": "markdown",
     "metadata": {},
     "source": [
      "Use a regular expression to pull the raw email address out of the string formatted <code>\"Fname Lname < email.address.com >\"</code>"
     ]
    },
    {
     "cell_type": "code",
     "collapsed": false,
     "input": [
      "import re"
     ],
     "language": "python",
     "metadata": {},
     "outputs": [],
     "prompt_number": 2
    },
    {
     "cell_type": "code",
     "collapsed": false,
     "input": [
      "re.search(r'<(.+)>', r'Christopher Coletta <christopher.coletta@gmail.com>', ).groups()"
     ],
     "language": "python",
     "metadata": {},
     "outputs": [
      {
       "metadata": {},
       "output_type": "pyout",
       "prompt_number": 3,
       "text": [
        "('christopher.coletta@gmail.com',)"
       ]
      }
     ],
     "prompt_number": 3
    },
    {
     "cell_type": "code",
     "collapsed": false,
     "input": [
      "# Make a utility function that strips the email address strings to their raw address\n",
      "\n",
      "def get_raw_email_address( input_string ):\n",
      "    \"\"\"Get the part inside the <>, otherwise, just return input_string\"\"\"\n",
      "    \n",
      "    match = re.search( r'<(.+)>', input_string )\n",
      "    if match:\n",
      "        return match.groups()[0]\n",
      "\n",
      "    return input_string"
     ],
     "language": "python",
     "metadata": {},
     "outputs": [],
     "prompt_number": 17
    },
    {
     "cell_type": "code",
     "collapsed": false,
     "input": [
      "for count, email in enumerate(sorted_by_date):\n",
      "    # Weird... some messages don't have a From:\n",
      "    if not email.fr:\n",
      "        continue\n",
      "    address = get_raw_email_address( email.fr )\n",
      "    print count, (email.sent_at), address\n"
     ],
     "language": "python",
     "metadata": {},
     "outputs": []
    },
    {
     "cell_type": "markdown",
     "metadata": {},
     "source": [
      "## Filter out emails from Fall 2013 R class\n",
      "\n",
      "By insection, only emails index 37 and later are related to this class."
     ]
    },
    {
     "cell_type": "code",
     "collapsed": false,
     "input": [
      "r_emails_removed = sorted_by_date[37:]"
     ],
     "language": "python",
     "metadata": {},
     "outputs": [],
     "prompt_number": 19
    },
    {
     "cell_type": "code",
     "collapsed": false,
     "input": [
      "str(r_emails_removed[0].sent_at)"
     ],
     "language": "python",
     "metadata": {},
     "outputs": [
      {
       "metadata": {},
       "output_type": "pyout",
       "prompt_number": 102,
       "text": [
        "'2013-12-10 15:41:26'"
       ]
      }
     ],
     "prompt_number": 102
    },
    {
     "cell_type": "code",
     "collapsed": false,
     "input": [
      "r_emails_removed[0].body.splitlines()"
     ],
     "language": "python",
     "metadata": {},
     "outputs": [
      {
       "metadata": {},
       "output_type": "pyout",
       "prompt_number": 101,
       "text": [
        "['Hi Chris,',\n",
        " '',\n",
        " 'Anatoly is interested in teaching a lecture or two for the python course.',\n",
        " 'I have seen him teach and he can explain some quite complicated constructs',\n",
        " 'with simple examples.  Maybe a lecture on object oriented with python? (its',\n",
        " 'your baby, just throwing out an example)',\n",
        " '',\n",
        " \"He is a chemist so throwing him into Matt's shoes exactly might not be the\",\n",
        " 'best fit.',\n",
        " '',\n",
        " 'Ben',\n",
        " '',\n",
        " '-- ',\n",
        " 'What have you done today to make the world a better place?']"
       ]
      }
     ],
     "prompt_number": 101
    },
    {
     "cell_type": "code",
     "collapsed": false,
     "input": [
      "r_emails_removed[1].body.splitlines()"
     ],
     "language": "python",
     "metadata": {},
     "outputs": [
      {
       "metadata": {},
       "output_type": "pyout",
       "prompt_number": 104,
       "text": [
        "['Hi Anatoly,',\n",
        " '',\n",
        " \"Here is the (outdated) syllabus from last year's course. Anything of\",\n",
        " 'interest to you?',\n",
        " '',\n",
        " \"Matt Shirley and I haven't nailed down what his involvement in the course\",\n",
        " 'will be. He has first dibbs on teaching. His talks were great in that they',\n",
        " 'were Python applied to Bioinformatics lectures (High-throughput sequencing',\n",
        " 'data <http://mattshirley.com/uploads/2013/04/lecture12-notes.html>, and',\n",
        " 'Biopython <http://mattshirley.com/uploads/2013/04/lecture13-notes.html>). I',\n",
        " \"understand you're interested in teaching topics that is more pure Python\",\n",
        " 'oriented.',\n",
        " '',\n",
        " \"I'm very interested in you teaching a lecture on how you use Python in your\",\n",
        " 'research, especially if you use some of the Python data',\n",
        " 'processing/visualization stack (Numpy, Scipy, Pandas, Matplotlib, etc...)',\n",
        " '',\n",
        " 'Another question I have is, are you willing to give and grade a class',\n",
        " \"assignment? I have 5 assignments that I gave last year. This year I'm\",\n",
        " 'planning on slightly modifying the the assignments so I can use the',\n",
        " 'unittest framework to automatedly grade assignments. I plan on giving out',\n",
        " 'the test code for each assignment as part of the assignment so the students',\n",
        " 'can check their work and get 100 on all their homeworks. This eases the',\n",
        " 'grading burden on the instructor.',\n",
        " '',\n",
        " 'Another option is that I plan on using screencasts more this year, to give',\n",
        " 'the students more options, and to open up classtime to be more of a',\n",
        " 'workshop and less of a lecture. Would you be interested in recording a',\n",
        " 'screencast, then leading a workshop on your screencast?',\n",
        " '',\n",
        " 'Thanks,',\n",
        " 'Chris',\n",
        " '',\n",
        " '',\n",
        " 'On Tue, Dec 10, 2013 at 3:41 PM, Ben Busby <ben.busby@gmail.com> wrote:',\n",
        " '',\n",
        " '> Hi Chris,',\n",
        " '>',\n",
        " '> Anatoly is interested in teaching a lecture or two for the python course.',\n",
        " '> I have seen him teach and he can explain some quite complicated constructs',\n",
        " '> with simple examples.  Maybe a lecture on object oriented with python? (its',\n",
        " '> your baby, just throwing out an example)',\n",
        " '>',\n",
        " \"> He is a chemist so throwing him into Matt's shoes exactly might not be the\",\n",
        " '> best fit.',\n",
        " '>',\n",
        " '> Ben',\n",
        " '>',\n",
        " '> --',\n",
        " '> What have you done today to make the world a better place?',\n",
        " '>',\n",
        " '',\n",
        " '',\n",
        " '',\n",
        " '-- ',\n",
        " 'christopher coletta',\n",
        " '1715 saint paul street, apt. 103',\n",
        " 'baltimore, maryland 21202-2869',\n",
        " '+1.617.943.9745',\n",
        " 'chriscoletta.com <http://www.chriscoletta.com>']"
       ]
      }
     ],
     "prompt_number": 104
    },
    {
     "cell_type": "markdown",
     "metadata": {},
     "source": [
      "## Use only emails that sent either TO the class email address, or CC'ed"
     ]
    },
    {
     "cell_type": "code",
     "collapsed": false,
     "input": [
      "len(r_emails_removed)"
     ],
     "language": "python",
     "metadata": {},
     "outputs": [
      {
       "metadata": {},
       "output_type": "pyout",
       "prompt_number": 20,
       "text": [
        "500"
       ]
      }
     ],
     "prompt_number": 20
    },
    {
     "cell_type": "code",
     "collapsed": false,
     "input": [
      "r_emails_removed[0].to"
     ],
     "language": "python",
     "metadata": {},
     "outputs": [
      {
       "metadata": {},
       "output_type": "pyout",
       "prompt_number": 118,
       "text": [
        "'Anatoly Dryga <anatoly.dryga@nih.gov>, \\r\\n\\tChristopher Coletta <christopher.coletta@gmail.com>'"
       ]
      }
     ],
     "prompt_number": 118
    },
    {
     "cell_type": "code",
     "collapsed": false,
     "input": [
      "[ get_raw_email_address( addr_string ) for addr_string in r_emails_removed[0].to.splitlines()]"
     ],
     "language": "python",
     "metadata": {},
     "outputs": [
      {
       "metadata": {},
       "output_type": "pyout",
       "prompt_number": 117,
       "text": [
        "['anatoly.dryga@nih.gov', 'christopher.coletta@gmail.com']"
       ]
      }
     ],
     "prompt_number": 117
    },
    {
     "cell_type": "code",
     "collapsed": false,
     "input": [
      "r_emails_removed[4].to"
     ],
     "language": "python",
     "metadata": {},
     "outputs": [
      {
       "metadata": {},
       "output_type": "pyout",
       "prompt_number": 122,
       "text": [
        "'Christopher Coletta <christopher.coletta@gmail.com>'"
       ]
      }
     ],
     "prompt_number": 122
    },
    {
     "cell_type": "code",
     "collapsed": false,
     "input": [
      "class_list_emails = []\n",
      "for count, email in enumerate(r_emails_removed):\n",
      "    #print count\n",
      "    if email.to:\n",
      "        to_list = [ get_raw_email_address( addr_string ) for addr_string in email.to.splitlines()]\n",
      "    else:\n",
      "        # For some reason, some emails here don't have a \"to\"\n",
      "        to_list = []\n",
      "    if email.cc:\n",
      "        cc_list = [ get_raw_email_address( addr_string ) for addr_string in email.cc.splitlines()]\n",
      "        #print cc_list\n",
      "        to_list += cc_list\n",
      "    #print to_list\n",
      "    if 'faes_biof309_spring2014@googlegroups.com' in to_list:\n",
      "        class_list_emails.append( email )\n",
      "        "
     ],
     "language": "python",
     "metadata": {},
     "outputs": [],
     "prompt_number": 24
    },
    {
     "cell_type": "code",
     "collapsed": false,
     "input": [
      "len(class_list_emails)"
     ],
     "language": "python",
     "metadata": {},
     "outputs": [
      {
       "metadata": {},
       "output_type": "pyout",
       "prompt_number": 25,
       "text": [
        "292"
       ]
      }
     ],
     "prompt_number": 25
    },
    {
     "cell_type": "markdown",
     "metadata": {},
     "source": [
      "## Filter out email signatures and quoted emails in replies\n",
      "\n",
      "Strategy:\n",
      "\n",
      "1. Anytime you see a line starting with '--' or '<>', get rid of all subsequent lines\n",
      "2. Anytime the line begins with a '>', get rid of it\n",
      "3. Get rid of lines that start with \"On\" and end with \"wrote:\""
     ]
    },
    {
     "cell_type": "code",
     "collapsed": false,
     "input": [
      "def filter_email( bodytext ):\n",
      "    \"\"\"Returns: single string with all applicable text\"\"\"\n",
      "    rawlines = bodytext.splitlines()\n",
      "    countable_lines = []\n",
      "    for line in rawlines:\n",
      "        if line.startswith('--') or line.startswith('<>'):\n",
      "            break\n",
      "        if line.startswith( '>' ):\n",
      "            continue\n",
      "        if line.startswith('On') and line.endswith('wrote:'):\n",
      "            continue\n",
      "        countable_lines.append( line )\n",
      "    return ' '.join(countable_lines)\n",
      "\n",
      "    "
     ],
     "language": "python",
     "metadata": {},
     "outputs": [],
     "prompt_number": 141
    },
    {
     "cell_type": "code",
     "collapsed": false,
     "input": [
      "filter_email( class_list_emails[83].body)"
     ],
     "language": "python",
     "metadata": {},
     "outputs": [
      {
       "metadata": {},
       "output_type": "pyout",
       "prompt_number": 146,
       "text": [
        "' The problem lies in that you produced a \"list\" (i.e. array) of tuples  (which is what the directions said). The autograder wants you to return a tuple of tuples.  I found it convenient to generate an array of tuples also, but before I  returned the results I converted it to a tuple of tuples. One easy way to convert a list of tuples to a tuple of tuples (found it  on a web site and I think it\\'s a form of type-casting): myList = [(1,2,3), (4,5,6)] myTupleOfTuples = tuple(myList)   '"
       ]
      }
     ],
     "prompt_number": 146
    },
    {
     "cell_type": "code",
     "collapsed": false,
     "input": [
      "p = re.compile(r\"[\\w']+\")\n",
      "from collections import Counter"
     ],
     "language": "python",
     "metadata": {},
     "outputs": [],
     "prompt_number": 43
    },
    {
     "cell_type": "code",
     "collapsed": false,
     "input": [
      "senders = []\n",
      "messages = []\n",
      "date_sent = []\n",
      "per_individual_word_count = Counter()\n",
      "\n",
      "for email in class_list_emails:\n",
      "    sender = get_raw_email_address( email.fr )\n",
      "    senders.append( sender )\n",
      "    message = filter_email( email.body )\n",
      "    messages.append( message )\n",
      "    date_sent.append( str( email.sent_at ))\n",
      "    per_individual_word_count[ sender ] += len( p.findall( message ) )"
     ],
     "language": "python",
     "metadata": {},
     "outputs": [],
     "prompt_number": 169
    },
    {
     "cell_type": "code",
     "collapsed": false,
     "input": [
      "for count, i in enumerate(messages):\n",
      "    print count, '***************************'\n",
      "    print i"
     ],
     "language": "python",
     "metadata": {},
     "outputs": []
    },
    {
     "cell_type": "code",
     "collapsed": false,
     "input": [
      "per_individual_word_count.most_common()"
     ],
     "language": "python",
     "metadata": {},
     "outputs": []
    },
    {
     "cell_type": "code",
     "collapsed": false,
     "input": [
      "# In my case message index 2 is an outlier, don't use it when calculating word counts\n",
      "del senders[2]\n",
      "del messages[2]\n",
      "del date_sent[2]"
     ],
     "language": "python",
     "metadata": {},
     "outputs": [],
     "prompt_number": 160
    },
    {
     "cell_type": "code",
     "collapsed": false,
     "input": [
      "allwords = ' '.join( messages )"
     ],
     "language": "python",
     "metadata": {},
     "outputs": [],
     "prompt_number": 162
    },
    {
     "cell_type": "code",
     "collapsed": false,
     "input": [
      "punctuation_removed = p.findall( allwords )"
     ],
     "language": "python",
     "metadata": {},
     "outputs": [],
     "prompt_number": 163
    },
    {
     "cell_type": "code",
     "collapsed": false,
     "input": [
      "len(punctuation_removed)"
     ],
     "language": "python",
     "metadata": {},
     "outputs": [
      {
       "metadata": {},
       "output_type": "pyout",
       "prompt_number": 164,
       "text": [
        "8568"
       ]
      }
     ],
     "prompt_number": 164
    },
    {
     "cell_type": "code",
     "collapsed": false,
     "input": [
      "word_counter = Counter()\n",
      "for word in punctuation_removed:\n",
      "    if len(word) >= 4:\n",
      "        word_counter[word] += 1"
     ],
     "language": "python",
     "metadata": {},
     "outputs": [],
     "prompt_number": 165
    },
    {
     "cell_type": "code",
     "collapsed": false,
     "input": [
      "word_counter.most_common(50)"
     ],
     "language": "python",
     "metadata": {},
     "outputs": [
      {
       "metadata": {},
       "output_type": "pyout",
       "prompt_number": 166,
       "text": [
        "[('that', 98),\n",
        " ('class', 60),\n",
        " ('your', 53),\n",
        " ('this', 48),\n",
        " ('with', 46),\n",
        " ('have', 46),\n",
        " ('matches', 44),\n",
        " ('found', 41),\n",
        " ('what', 39),\n",
        " ('Thanks', 37),\n",
        " ('exact', 35),\n",
        " ('Chris', 33),\n",
        " ('will', 32),\n",
        " ('when', 29),\n",
        " ('from', 26),\n",
        " ('there', 23),\n",
        " ('list', 22),\n",
        " ('sequence', 21),\n",
        " ('function', 20),\n",
        " ('string', 19),\n",
        " ('into', 19),\n",
        " ('code', 19),\n",
        " ('should', 19),\n",
        " ('Python', 18),\n",
        " ('problem', 18),\n",
        " ('line', 17),\n",
        " ('raw_input', 17),\n",
        " ('make', 16),\n",
        " ('just', 16),\n",
        " ('still', 16),\n",
        " ('first', 15),\n",
        " ('sure', 15),\n",
        " (\"don't\", 15),\n",
        " ('else', 15),\n",
        " ('lecture', 15),\n",
        " ('which', 15),\n",
        " ('like', 15),\n",
        " ('IPython', 14),\n",
        " ('file', 14),\n",
        " ('print', 14),\n",
        " ('homework', 14),\n",
        " ('error', 14),\n",
        " ('input', 14),\n",
        " ('integer', 14),\n",
        " ('some', 14),\n",
        " ('notebook', 14),\n",
        " ('words', 14),\n",
        " ('know', 14),\n",
        " ('would', 13),\n",
        " ('want', 13)]"
       ]
      }
     ],
     "prompt_number": 166
    },
    {
     "cell_type": "code",
     "collapsed": false,
     "input": [
      "sender_count = Counter()\n",
      "\n",
      "for sender in senders:\n",
      "    sender_count[sender] += 1\n",
      "\n",
      "sender_count.most_common()"
     ],
     "language": "python",
     "metadata": {},
     "outputs": []
    },
    {
     "cell_type": "code",
     "collapsed": false,
     "input": [
      "df = pd.DataFrame( { 'date': date_sent, 'senders': senders, 'message'})"
     ],
     "language": "python",
     "metadata": {},
     "outputs": []
    },
    {
     "cell_type": "markdown",
     "metadata": {},
     "source": [
      "## Collect HW submissions"
     ]
    },
    {
     "cell_type": "code",
     "collapsed": false,
     "input": [
      "submissions = []\n",
      "for email in r_emails_removed:\n",
      "    if 'ubmission' in email.subject:\n",
      "        submissions.append( email)"
     ],
     "language": "python",
     "metadata": {},
     "outputs": [],
     "prompt_number": 29
    },
    {
     "cell_type": "code",
     "collapsed": false,
     "input": [
      "len(submissions)"
     ],
     "language": "python",
     "metadata": {},
     "outputs": [
      {
       "metadata": {},
       "output_type": "pyout",
       "prompt_number": 30,
       "text": [
        "81"
       ]
      }
     ],
     "prompt_number": 30
    },
    {
     "cell_type": "code",
     "collapsed": false,
     "input": [
      "dir(submissions[0])"
     ],
     "language": "python",
     "metadata": {},
     "outputs": [
      {
       "metadata": {},
       "output_type": "pyout",
       "prompt_number": 31,
       "text": [
        "['__doc__',\n",
        " '__init__',\n",
        " '__module__',\n",
        " 'add_label',\n",
        " 'archive',\n",
        " 'attachments',\n",
        " 'body',\n",
        " 'cc',\n",
        " 'delete',\n",
        " 'delivered_to',\n",
        " 'fetch',\n",
        " 'fetch_thread',\n",
        " 'flags',\n",
        " 'fr',\n",
        " 'gmail',\n",
        " 'has_label',\n",
        " 'headers',\n",
        " 'html',\n",
        " 'is_deleted',\n",
        " 'is_draft',\n",
        " 'is_read',\n",
        " 'is_starred',\n",
        " 'labels',\n",
        " 'mailbox',\n",
        " 'message',\n",
        " 'message_id',\n",
        " 'move_to',\n",
        " 'parse',\n",
        " 'parse_flags',\n",
        " 'parse_headers',\n",
        " 'parse_labels',\n",
        " 'parse_subject',\n",
        " 'read',\n",
        " 'remove_label',\n",
        " 'sent_at',\n",
        " 'star',\n",
        " 'subject',\n",
        " 'thread',\n",
        " 'thread_id',\n",
        " 'to',\n",
        " 'uid',\n",
        " 'unread',\n",
        " 'unstar']"
       ]
      }
     ],
     "prompt_number": 31
    },
    {
     "cell_type": "code",
     "collapsed": false,
     "input": [
      "submissions[0].attachments"
     ],
     "language": "python",
     "metadata": {},
     "outputs": [
      {
       "metadata": {},
       "output_type": "pyout",
       "prompt_number": 32,
       "text": [
        "[<gmail.message.Attachment instance at 0x112cde950>]"
       ]
      }
     ],
     "prompt_number": 32
    },
    {
     "cell_type": "code",
     "collapsed": false,
     "input": [
      "dir(submissions[0].attachments)"
     ],
     "language": "python",
     "metadata": {},
     "outputs": [
      {
       "metadata": {},
       "output_type": "pyout",
       "prompt_number": 33,
       "text": [
        "['__add__',\n",
        " '__class__',\n",
        " '__contains__',\n",
        " '__delattr__',\n",
        " '__delitem__',\n",
        " '__delslice__',\n",
        " '__doc__',\n",
        " '__eq__',\n",
        " '__format__',\n",
        " '__ge__',\n",
        " '__getattribute__',\n",
        " '__getitem__',\n",
        " '__getslice__',\n",
        " '__gt__',\n",
        " '__hash__',\n",
        " '__iadd__',\n",
        " '__imul__',\n",
        " '__init__',\n",
        " '__iter__',\n",
        " '__le__',\n",
        " '__len__',\n",
        " '__lt__',\n",
        " '__mul__',\n",
        " '__ne__',\n",
        " '__new__',\n",
        " '__reduce__',\n",
        " '__reduce_ex__',\n",
        " '__repr__',\n",
        " '__reversed__',\n",
        " '__rmul__',\n",
        " '__setattr__',\n",
        " '__setitem__',\n",
        " '__setslice__',\n",
        " '__sizeof__',\n",
        " '__str__',\n",
        " '__subclasshook__',\n",
        " 'append',\n",
        " 'count',\n",
        " 'extend',\n",
        " 'index',\n",
        " 'insert',\n",
        " 'pop',\n",
        " 'remove',\n",
        " 'reverse',\n",
        " 'sort']"
       ]
      }
     ],
     "prompt_number": 33
    },
    {
     "cell_type": "code",
     "collapsed": false,
     "input": [
      "len(submissions[0].attachments)"
     ],
     "language": "python",
     "metadata": {},
     "outputs": [
      {
       "metadata": {},
       "output_type": "pyout",
       "prompt_number": 34,
       "text": [
        "1"
       ]
      }
     ],
     "prompt_number": 34
    },
    {
     "cell_type": "code",
     "collapsed": false,
     "input": [
      "submissions[0].attachments[0]"
     ],
     "language": "python",
     "metadata": {},
     "outputs": [
      {
       "metadata": {},
       "output_type": "pyout",
       "prompt_number": 35,
       "text": [
        "<gmail.message.Attachment instance at 0x112cde950>"
       ]
      }
     ],
     "prompt_number": 35
    },
    {
     "cell_type": "code",
     "collapsed": false,
     "input": [
      "dir(submissions[0].attachments[0])"
     ],
     "language": "python",
     "metadata": {},
     "outputs": [
      {
       "metadata": {},
       "output_type": "pyout",
       "prompt_number": 37,
       "text": [
        "['__doc__', '__init__', '__module__', 'name', 'payload', 'save', 'size']"
       ]
      }
     ],
     "prompt_number": 37
    },
    {
     "cell_type": "markdown",
     "metadata": {},
     "source": [
      "### better to grab the emails with attachments"
     ]
    },
    {
     "cell_type": "code",
     "collapsed": false,
     "input": [
      "lengths = []\n",
      "for email in r_emails_removed:\n",
      "    lengths.append( len(email.attachments) )\n",
      "print sorted(lengths)\n",
      "    "
     ],
     "language": "python",
     "metadata": {},
     "outputs": [
      {
       "output_type": "stream",
       "stream": "stdout",
       "text": [
        "[0, 0, 0, 0, 0, 0, 0, 0, 0, 0, 0, 0, 0, 0, 0, 0, 0, 0, 0, 0, 0, 0, 0, 0, 0, 0, 0, 0, 0, 0, 0, 0, 0, 0, 0, 0, 0, 0, 0, 0, 0, 0, 0, 0, 0, 0, 0, 0, 0, 0, 0, 0, 0, 0, 0, 0, 0, 0, 0, 0, 0, 0, 0, 0, 0, 0, 0, 0, 0, 0, 0, 0, 0, 0, 0, 0, 0, 0, 0, 0, 0, 0, 0, 0, 0, 0, 0, 0, 0, 0, 0, 0, 0, 0, 0, 0, 0, 0, 0, 0, 0, 0, 0, 0, 0, 0, 0, 0, 0, 0, 0, 0, 0, 0, 0, 0, 0, 0, 0, 0, 0, 0, 0, 0, 0, 0, 0, 0, 0, 0, 0, 0, 0, 0, 0, 0, 0, 0, 0, 0, 0, 0, 0, 0, 0, 0, 0, 0, 0, 0, 0, 0, 0, 0, 0, 0, 0, 0, 0, 0, 0, 0, 0, 0, 0, 0, 0, 0, 0, 0, 0, 0, 0, 0, 0, 0, 0, 0, 0, 0, 0, 0, 0, 0, 0, 0, 0, 0, 0, 0, 0, 0, 0, 0, 0, 0, 0, 0, 0, 0, 0, 0, 0, 0, 0, 0, 0, 0, 0, 0, 0, 0, 0, 0, 0, 0, 0, 0, 0, 0, 0, 0, 0, 0, 0, 0, 0, 0, 0, 0, 0, 0, 0, 0, 0, 0, 0, 0, 0, 0, 0, 0, 0, 0, 0, 0, 0, 0, 0, 0, 0, 0, 0, 0, 0, 0, 0, 0, 0, 0, 0, 0, 0, 0, 0, 0, 0, 0, 0, 0, 0, 0, 0, 0, 0, 0, 0, 0, 0, 0, 0, 0, 0, 0, 0, 0, 0, 0, 0, 0, 0, 0, 0, 0, 0, 0, 0, 0, 0, 0, 0, 0, 0, 0, 0, 0, 0, 0, 0, 0, 0, 0, 0, 0, 0, 0, 0, 0, 0, 0, 0, 0, 0, 0, 0, 0, 0, 0, 0, 0, 0, 0, 0, 0, 0, 0, 0, 0, 0, 0, 0, 0, 0, 0, 0, 0, 0, 0, 0, 0, 0, 0, 0, 0, 0, 0, 0, 0, 0, 0, 0, 0, 0, 0, 0, 0, 0, 0, 0, 0, 0, 0, 0, 0, 0, 0, 0, 0, 0, 0, 0, 0, 1, 1, 1, 1, 1, 1, 1, 1, 1, 1, 1, 1, 1, 1, 1, 1, 1, 1, 1, 1, 1, 1, 1, 1, 1, 1, 1, 1, 1, 1, 1, 1, 1, 1, 1, 1, 1, 1, 1, 1, 1, 1, 1, 1, 1, 1, 1, 1, 1, 1, 1, 1, 1, 1, 1, 1, 1, 1, 1, 1, 1, 1, 1, 1, 1, 1, 1, 1, 1, 1, 1, 1, 1, 1, 1, 1, 1, 1, 1, 1, 1, 1, 1, 1, 1, 1, 1, 1, 1, 1, 1, 1, 1, 1, 1, 1, 1, 1, 1, 1, 1, 1, 1, 2, 2, 2, 2, 2, 2, 2, 2, 2, 3, 3, 4, 4, 4, 38]\n"
       ]
      }
     ],
     "prompt_number": 38
    },
    {
     "cell_type": "code",
     "collapsed": false,
     "input": [
      "with_attachments = []\n",
      "attachment_counter = Counter()\n",
      "for email in r_emails_removed:\n",
      "    if len(email.attachments) > 0:\n",
      "        with_attachments.append( email )\n",
      "        fromaddy = get_raw_email_address( email.fr )\n",
      "        attachment_counter[fromaddy] += 1\n",
      "        print attachment_counter[fromaddy], fromaddy, str(email.sent_at), email.subject\n",
      "\n",
      "    "
     ],
     "language": "python",
     "metadata": {},
     "outputs": []
    },
    {
     "cell_type": "code",
     "collapsed": false,
     "input": [
      "sorted(attachment_counter.most_common(), key=lambda A: A[0] )"
     ],
     "language": "python",
     "metadata": {},
     "outputs": []
    }
   ],
   "metadata": {}
  }
 ]
}