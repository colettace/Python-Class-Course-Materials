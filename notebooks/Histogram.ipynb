{
 "metadata": {
  "name": ""
 },
 "nbformat": 3,
 "nbformat_minor": 0,
 "worksheets": [
  {
   "cells": [
    {
     "cell_type": "code",
     "collapsed": false,
     "input": [
      "gt = {\n",
      "\"A\" :\t2,\n",
      "\"AB\" :\t1.75,\n",
      "\"AC\" :\t1.75,\n",
      "\"AD\" :\t1.25,\n",
      "\"AE\" :\t2,\n",
      "\"AF\" :\t2.25,\n",
      "\"AG\" :\t1.75,\n",
      "\"AH\" :\t1.75,\n",
      "\"AI\" :\t1.75,\n",
      "\"AJ\" :\t2.25,\n",
      "\"AK\" :\t2,\n",
      "\"AL\" :\t1.25,\n",
      "\"AM\" :\t2.5,\n",
      "\"B\" :\t2.75,\n",
      "\"C\" :\t1.75,\n",
      "\"D\" :\t3.25,\n",
      "\"E\" :\t1.25,\n",
      "\"F\" :\t1,\n",
      "\"G\" :\t1.5,\n",
      "\"H\" :\t1.25,\n",
      "\"I\" :\t4.25,\n",
      "\"J\" :\t2.25,\n",
      "\"K\" :\t2.5,\n",
      "\"L\" :\t1.25,\n",
      "\"M\" :\t1,\n",
      "\"N\" :\t2.25,\n",
      "\"O\" :\t4.5,\n",
      "\"P\" :\t4.5,\n",
      "\"Q\" :\t3,\n",
      "\"R\" :\t2.5,\n",
      "\"S\" :\t2.75,\n",
      "\"T\" :\t2,\n",
      "\"U\" :\t2,\n",
      "\"V\" :\t4.25,\n",
      "\"W\" :\t2,\n",
      "\"X\" :\t2.5,\n",
      "\"Y\" :\t1,\n",
      "\"Z\" :\t1.5,\n",
      "}"
     ],
     "language": "python",
     "metadata": {},
     "outputs": [],
     "prompt_number": 1
    },
    {
     "cell_type": "code",
     "collapsed": false,
     "input": [
      "gt.keys()"
     ],
     "language": "python",
     "metadata": {},
     "outputs": [
      {
       "metadata": {},
       "output_type": "pyout",
       "prompt_number": 2,
       "text": [
        "['A',\n",
        " 'M',\n",
        " 'AC',\n",
        " 'AB',\n",
        " 'AE',\n",
        " 'AD',\n",
        " 'AG',\n",
        " 'AF',\n",
        " 'AI',\n",
        " 'AH',\n",
        " 'AK',\n",
        " 'AJ',\n",
        " 'AM',\n",
        " 'AL',\n",
        " 'O',\n",
        " 'L',\n",
        " 'Q',\n",
        " 'P',\n",
        " 'S',\n",
        " 'B',\n",
        " 'U',\n",
        " 'T',\n",
        " 'W',\n",
        " 'V',\n",
        " 'X',\n",
        " 'E',\n",
        " 'N',\n",
        " 'J',\n",
        " 'D',\n",
        " 'Z',\n",
        " 'G',\n",
        " 'C',\n",
        " 'F',\n",
        " 'I',\n",
        " 'R',\n",
        " 'H',\n",
        " 'K',\n",
        " 'Y']"
       ]
      }
     ],
     "prompt_number": 2
    },
    {
     "cell_type": "code",
     "collapsed": false,
     "input": [
      "gt.values()"
     ],
     "language": "python",
     "metadata": {},
     "outputs": [
      {
       "metadata": {},
       "output_type": "pyout",
       "prompt_number": 3,
       "text": [
        "[2,\n",
        " 1,\n",
        " 1.75,\n",
        " 1.75,\n",
        " 2,\n",
        " 1.25,\n",
        " 1.75,\n",
        " 2.25,\n",
        " 1.75,\n",
        " 1.75,\n",
        " 2,\n",
        " 2.25,\n",
        " 2.5,\n",
        " 1.25,\n",
        " 4.5,\n",
        " 1.25,\n",
        " 3,\n",
        " 4.5,\n",
        " 2.75,\n",
        " 2.75,\n",
        " 2,\n",
        " 2,\n",
        " 2,\n",
        " 4.25,\n",
        " 2.5,\n",
        " 1.25,\n",
        " 2.25,\n",
        " 2.25,\n",
        " 3.25,\n",
        " 1.5,\n",
        " 1.5,\n",
        " 1.75,\n",
        " 1,\n",
        " 4.25,\n",
        " 2.5,\n",
        " 1.25,\n",
        " 2.5,\n",
        " 1]"
       ]
      }
     ],
     "prompt_number": 3
    },
    {
     "cell_type": "code",
     "collapsed": false,
     "input": [
      "import numpy as np\n",
      "import matplotlib.pyplot as plt"
     ],
     "language": "python",
     "metadata": {},
     "outputs": [],
     "prompt_number": 4
    },
    {
     "cell_type": "code",
     "collapsed": false,
     "input": [
      "my_figure = plt.figure()"
     ],
     "language": "python",
     "metadata": {},
     "outputs": [],
     "prompt_number": 5
    },
    {
     "cell_type": "code",
     "collapsed": false,
     "input": [
      "my_axes = my_figure.add_subplot(111)"
     ],
     "language": "python",
     "metadata": {},
     "outputs": [],
     "prompt_number": 6
    },
    {
     "cell_type": "code",
     "collapsed": false,
     "input": [
      "np.histogram?"
     ],
     "language": "python",
     "metadata": {},
     "outputs": [],
     "prompt_number": 7
    },
    {
     "cell_type": "code",
     "collapsed": false,
     "input": [
      "hist_y_vals, bin_edges = np.histogram( gt.values(), 7 )"
     ],
     "language": "python",
     "metadata": {},
     "outputs": [],
     "prompt_number": 8
    },
    {
     "cell_type": "code",
     "collapsed": false,
     "input": [
      "hist_y_vals"
     ],
     "language": "python",
     "metadata": {},
     "outputs": [
      {
       "metadata": {},
       "output_type": "pyout",
       "prompt_number": 9,
       "text": [
        "array([ 8,  8, 10,  6,  2,  0,  4])"
       ]
      }
     ],
     "prompt_number": 9
    },
    {
     "cell_type": "code",
     "collapsed": false,
     "input": [
      "bin_edges"
     ],
     "language": "python",
     "metadata": {},
     "outputs": [
      {
       "metadata": {},
       "output_type": "pyout",
       "prompt_number": 10,
       "text": [
        "array([ 1. ,  1.5,  2. ,  2.5,  3. ,  3.5,  4. ,  4.5])"
       ]
      }
     ],
     "prompt_number": 10
    },
    {
     "cell_type": "code",
     "collapsed": false,
     "input": [
      "my_figure = plt.hist( gt.values(), 7, align='left' )"
     ],
     "language": "python",
     "metadata": {},
     "outputs": [],
     "prompt_number": 11
    },
    {
     "cell_type": "code",
     "collapsed": false,
     "input": [
      "plt.hist?"
     ],
     "language": "python",
     "metadata": {},
     "outputs": [],
     "prompt_number": 12
    },
    {
     "cell_type": "code",
     "collapsed": false,
     "input": [],
     "language": "python",
     "metadata": {},
     "outputs": [],
     "prompt_number": 12
    }
   ],
   "metadata": {}
  }
 ]
}