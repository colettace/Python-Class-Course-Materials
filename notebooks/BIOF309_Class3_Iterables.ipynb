{
 "metadata": {
  "name": ""
 },
 "nbformat": 3,
 "nbformat_minor": 0,
 "worksheets": [
  {
   "cells": [
    {
     "cell_type": "markdown",
     "metadata": {},
     "source": [
      "# BIOF 309 - Introduction to Python\n",
      "## Class 3: Lists, Loops and Logic\n",
      "### Thursday, February 13, 2014\n",
      "\n",
      "\n",
      "## Part 1: Iterables\n",
      "\n",
      "An [iterable](http://docs.python.org/2/glossary.html#term-iterable) is a container object capable of returning its members one at a time. Examples of iterables include all sequence types (such as list, str, and tuple) and some non-sequence types like dict and file (more on files later in the semester).\n",
      "\n",
      "In this notebook we explore of some of the most important iterable types built into Python.\n",
      "\n",
      "### Table Of Contents\n",
      "1. [Lists](#lists)\n",
      "2. [Tuples](#tuples)\n",
      "3. [Dictionaries](#dicts)\n",
      "4. [Sets](#sets)\n",
      "5. [Strings](#strings)\n",
      "6. [Iterables of Iterables](#compound)\n",
      "7. [Shallow Copy vs. Deep Copy](#deep)\n",
      "8. [Using Iterables](#using)\n",
      "\n",
      "---"
     ]
    },
    {
     "cell_type": "markdown",
     "metadata": {},
     "source": [
      "## <a name=\"lists\">Lists</a>\n",
      "\n",
      "* Usually known as an \"array\" in most other languages.\n",
      "* Container for a group of values which can all be the same type (homogenous) or they can have different types (heterogenous).\n",
      "* Declared by bracket outside, comma delimited within.\n",
      "* The order of the values in the list is remembered\n",
      "* Is mutable = Can append/insert new values to the list, and remove values.\n",
      "* As with all iterables in Python, the values in a list are indexed starting with 0."
     ]
    },
    {
     "cell_type": "code",
     "collapsed": false,
     "input": [
      "a_list = [1, 2, 3, \"a dog\"]\n",
      "a_list"
     ],
     "language": "python",
     "metadata": {},
     "outputs": [
      {
       "metadata": {},
       "output_type": "pyout",
       "prompt_number": 1,
       "text": [
        "[1, 2, 3, 'a dog']"
       ]
      }
     ],
     "prompt_number": 1
    },
    {
     "cell_type": "code",
     "collapsed": false,
     "input": [
      "a_list.append( \"Hi there!\" )\n",
      "a_list"
     ],
     "language": "python",
     "metadata": {},
     "outputs": [
      {
       "metadata": {},
       "output_type": "pyout",
       "prompt_number": 2,
       "text": [
        "[1, 2, 3, 'a dog', 'Hi there!']"
       ]
      }
     ],
     "prompt_number": 2
    },
    {
     "cell_type": "code",
     "collapsed": false,
     "input": [
      "# Use index notation ([]) to get at the nth thing in the list:\n",
      "\n",
      "# Remove the third value in the list\n",
      "del a_list[2] # Remember, the count starts at 0\n",
      "a_list"
     ],
     "language": "python",
     "metadata": {},
     "outputs": [
      {
       "metadata": {},
       "output_type": "pyout",
       "prompt_number": 3,
       "text": [
        "[1, 2, 'a dog', 'Hi there!']"
       ]
      }
     ],
     "prompt_number": 3
    },
    {
     "cell_type": "code",
     "collapsed": false,
     "input": [
      "# A list can have one or zero values in it:\n",
      "empty_list = []\n",
      "len( empty_list )"
     ],
     "language": "python",
     "metadata": {},
     "outputs": [
      {
       "metadata": {},
       "output_type": "pyout",
       "prompt_number": 4,
       "text": [
        "0"
       ]
      }
     ],
     "prompt_number": 4
    },
    {
     "cell_type": "code",
     "collapsed": false,
     "input": [
      "empty_list.append( \"sumn\" )\n",
      "len( empty_list )"
     ],
     "language": "python",
     "metadata": {},
     "outputs": [
      {
       "metadata": {},
       "output_type": "pyout",
       "prompt_number": 5,
       "text": [
        "1"
       ]
      }
     ],
     "prompt_number": 5
    },
    {
     "cell_type": "markdown",
     "metadata": {},
     "source": [
      "## <a name=\"tuples\">Tuples</a>\n",
      "\n",
      "* The name \"tuple\" comes from math concept, i.e., quadruple, quintuple, sextuple, ... n-tuple\n",
      "* A tuple is just an immutable list: once you make it, you can't change it.\n",
      "* The order of the values in the list is remembered.\n",
      "* Usually declared by surrounding a comma-separated sequence with optional parentheses\n",
      "* Declare a tuple with one value in it by suffixing the value with a comma"
     ]
    },
    {
     "cell_type": "code",
     "collapsed": false,
     "input": [
      "a_tuple = 1, 2, 3, \"four\"\n",
      "readable_tuple = ( 1, 2, 3, \"four\" ) # Parentheses are optional\n",
      "empty_tuple = ()\n",
      "tuple_with_one_item = \"an item\",\n",
      "len( tuple_with_one_item )"
     ],
     "language": "python",
     "metadata": {},
     "outputs": [
      {
       "metadata": {},
       "output_type": "pyout",
       "prompt_number": 8,
       "text": [
        "1"
       ]
      }
     ],
     "prompt_number": 8
    },
    {
     "cell_type": "code",
     "collapsed": false,
     "input": [
      "# Index notation works for tuples too\n",
      "a_tuple[3]"
     ],
     "language": "python",
     "metadata": {},
     "outputs": [
      {
       "metadata": {},
       "output_type": "pyout",
       "prompt_number": 9,
       "text": [
        "'four'"
       ]
      }
     ],
     "prompt_number": 9
    },
    {
     "cell_type": "markdown",
     "metadata": {},
     "source": [
      "## <a name='dicts'>Dictionaries</a>\n",
      "\n",
      "* A <code>dict</code> is associative array, where arbitrary \"keys\" are mapped to \"values.\"\n",
      "* <code>dict</code>s are called hashes in Perl and maps in C++.\n",
      "* DOES NOT KEEP TRACK OF ORDER OF KEY-VALUE PAIRS\n",
      "    * For that you need the type <code>collections.OrderedDict</code>\n",
      "* Declare using curly braces {}. The key-value pairs are separated by a colon :, delineated by commas.\n",
      "* Declare empty dict with {}, or dict()."
     ]
    },
    {
     "cell_type": "code",
     "collapsed": false,
     "input": [
      "a_dict = {}\n",
      "type( a_dict )"
     ],
     "language": "python",
     "metadata": {},
     "outputs": [
      {
       "metadata": {},
       "output_type": "pyout",
       "prompt_number": 26,
       "text": [
        "dict"
       ]
      }
     ],
     "prompt_number": 26
    },
    {
     "cell_type": "code",
     "collapsed": false,
     "input": [
      "a_dict = {\"key 1\":\"value 1\", 2:3, 4:['a','list'], \"expects spanish inquisition\": None}"
     ],
     "language": "python",
     "metadata": {},
     "outputs": [],
     "prompt_number": 16
    },
    {
     "cell_type": "code",
     "collapsed": false,
     "input": [
      "# To get a value out of a dict, put the key into the brackets:\n",
      "print a_dict['key 1'], \",\", a_dict['expects spanish inquisition']"
     ],
     "language": "python",
     "metadata": {},
     "outputs": [
      {
       "output_type": "stream",
       "stream": "stdout",
       "text": [
        "value 1 , None\n"
       ]
      }
     ],
     "prompt_number": 20
    },
    {
     "cell_type": "code",
     "collapsed": false,
     "input": [
      "# Return a list of keys:\n",
      "a_dict.keys()"
     ],
     "language": "python",
     "metadata": {},
     "outputs": [
      {
       "metadata": {},
       "output_type": "pyout",
       "prompt_number": 22,
       "text": [
        "['key 1', 2, 'expects spanish inquisition', 4]"
       ]
      }
     ],
     "prompt_number": 22
    },
    {
     "cell_type": "code",
     "collapsed": false,
     "input": [
      "# Return a list of values:\n",
      "a_dict.values()"
     ],
     "language": "python",
     "metadata": {},
     "outputs": [
      {
       "metadata": {},
       "output_type": "pyout",
       "prompt_number": 23,
       "text": [
        "['value 1', 3, None, ['a', 'list']]"
       ]
      }
     ],
     "prompt_number": 23
    },
    {
     "cell_type": "code",
     "collapsed": false,
     "input": [
      "# dicts only go in one direction, i.e., you can't put in a value and get out a key.\n",
      "# If you reference a key that's not there, a KeyError exception is raised:\n",
      "a_dict[3]"
     ],
     "language": "python",
     "metadata": {},
     "outputs": [
      {
       "ename": "KeyError",
       "evalue": "3",
       "output_type": "pyerr",
       "traceback": [
        "\u001b[0;31m---------------------------------------------------------------------------\u001b[0m\n\u001b[0;31mKeyError\u001b[0m                                  Traceback (most recent call last)",
        "\u001b[0;32m<ipython-input-25-bd0e85181315>\u001b[0m in \u001b[0;36m<module>\u001b[0;34m()\u001b[0m\n\u001b[1;32m      1\u001b[0m \u001b[0;31m# dicts only go in one direction, i.e., you can't put in a value and get out a key.\u001b[0m\u001b[0;34m\u001b[0m\u001b[0;34m\u001b[0m\u001b[0m\n\u001b[1;32m      2\u001b[0m \u001b[0;31m# If you reference a key that's not there, a KeyError exception is raised:\u001b[0m\u001b[0;34m\u001b[0m\u001b[0;34m\u001b[0m\u001b[0m\n\u001b[0;32m----> 3\u001b[0;31m \u001b[0ma_dict\u001b[0m\u001b[0;34m[\u001b[0m\u001b[0;36m3\u001b[0m\u001b[0;34m]\u001b[0m\u001b[0;34m\u001b[0m\u001b[0m\n\u001b[0m",
        "\u001b[0;31mKeyError\u001b[0m: 3"
       ]
      }
     ],
     "prompt_number": 25
    },
    {
     "cell_type": "markdown",
     "metadata": {},
     "source": [
      "## <a name=\"sets\">Sets</a>\n",
      "\n",
      "* Similar to math concept of sets; has operations like union, intersection, etc.\n",
      "* Sets are unindexed, unordered, and contains no duplicates.\n",
      "* Is mutable, i.e., you can change what values are in the set, but the values inside the set are immutable.\n",
      "* Immutable version of a set is a <code>frozenset</code>\n",
      "* Declare a set by putting values inside braces: <code>{'set', 'of', 'words'}</code>\n",
      "* <code>set()</code> = empty set\n",
      "* My personal favorite of the Python standard types!"
     ]
    },
    {
     "cell_type": "code",
     "collapsed": false,
     "input": [
      "some_set = {0, (), False}\n",
      "type( some_set )"
     ],
     "language": "python",
     "metadata": {},
     "outputs": [
      {
       "metadata": {},
       "output_type": "pyout",
       "prompt_number": 10,
       "text": [
        "set"
       ]
      }
     ],
     "prompt_number": 10
    },
    {
     "cell_type": "code",
     "collapsed": false,
     "input": [
      "empty_set = set() # not {}, that would be an empty dict"
     ],
     "language": "python",
     "metadata": {},
     "outputs": [],
     "prompt_number": 30
    },
    {
     "cell_type": "code",
     "collapsed": false,
     "input": [
      "# Here are two sets with one common value, 42.\n",
      "set1 = {12,34,56,78,90,42}\n",
      "set2 = {1,23,45,67,89,42}\n",
      "set3 = set1 | set2 # The pipe operator returns the union of the two sets\n",
      "set3"
     ],
     "language": "python",
     "metadata": {},
     "outputs": [
      {
       "metadata": {},
       "output_type": "pyout",
       "prompt_number": 28,
       "text": [
        "{1, 12, 23, 34, 42, 45, 56, 67, 78, 89, 90}"
       ]
      }
     ],
     "prompt_number": 28
    },
    {
     "cell_type": "code",
     "collapsed": false,
     "input": [
      "# The ampersand operator returns the intersection of the two sets\n",
      "set4 = set1 & set2\n",
      "set4"
     ],
     "language": "python",
     "metadata": {},
     "outputs": [
      {
       "metadata": {},
       "output_type": "pyout",
       "prompt_number": 29,
       "text": [
        "{42}"
       ]
      }
     ],
     "prompt_number": 29
    },
    {
     "cell_type": "markdown",
     "metadata": {},
     "source": [
      "## <a name=\"strings\">Strings</a>\n",
      "\n",
      "A review from last class:\n",
      "\n",
      "* Like a tuple of chararcters\n",
      "* Are immutable\n",
      "* Concatenate them with a +\n",
      "* Delineate by surrounding with single ('hi'), double (\"hi\"), or triple-double  quotes (\"\"\"hi\"\"\"). You decide which to use based on what's required in the given context.\n",
      "* Escape characters use a backslash followed by a single letter\n",
      "    * '\\n' - a newline character\n",
      "    * '\\t' - a tab character\n",
      "    * '\\\\' - a backslash character (escape the escape character)\n",
      "    * \"\\\"\" - a single quote (but why wouldn't you just use '\"'?\n",
      "    * Escape characters not recognized when using triple double quotes, or by prefacing the string with the letter r"
     ]
    },
    {
     "cell_type": "code",
     "collapsed": false,
     "input": [
      "some_escape_chars = 'line one\\nline two'\n",
      "print some_escape_chars"
     ],
     "language": "python",
     "metadata": {},
     "outputs": [
      {
       "output_type": "stream",
       "stream": "stdout",
       "text": [
        "line one\n",
        "line two\n"
       ]
      }
     ],
     "prompt_number": 33
    },
    {
     "cell_type": "code",
     "collapsed": false,
     "input": [
      "# triple double quotes capture the newlines\n",
      "no_need_for_escape_chars = \"\"\" hello\n",
      "what's up? nuttin'\n",
      "\"whatchu say to me?\"\n",
      "word.\n",
      "here are some backslashes: \\ \\\\ \\\\\\ \\\\\\\\\"\"\"\n",
      "print no_need_for_escape_chars"
     ],
     "language": "python",
     "metadata": {},
     "outputs": [
      {
       "output_type": "stream",
       "stream": "stdout",
       "text": [
        " hello\n",
        "what's up? nuttin'\n",
        "\"whatchu say to me?\"\n",
        "word.\n",
        "here are some backslashes: \\ \\ \\\\ \\\\\n"
       ]
      }
     ],
     "prompt_number": 34
    },
    {
     "cell_type": "code",
     "collapsed": false,
     "input": [
      "a_rawstring = r\"Are you\\ sure\\\\ we \\need all these\\ backslashes?\"\n",
      "print a_rawstring"
     ],
     "language": "python",
     "metadata": {},
     "outputs": [
      {
       "output_type": "stream",
       "stream": "stdout",
       "text": [
        "Are you\\ sure\\\\ we \\need all these\\ backslashes?\n"
       ]
      }
     ],
     "prompt_number": 36
    },
    {
     "cell_type": "code",
     "collapsed": false,
     "input": [
      "# Now the same string without the r preceeding it:\n",
      "not_rawstring = \"Are you\\ sure\\\\ we \\need all \\these\\ backslashes?\"\n",
      "print not_rawstring"
     ],
     "language": "python",
     "metadata": {},
     "outputs": [
      {
       "output_type": "stream",
       "stream": "stdout",
       "text": [
        "Are you\\ sure\\ we \n",
        "eed all \these\\ backslashes?\n"
       ]
      }
     ],
     "prompt_number": 38
    },
    {
     "cell_type": "code",
     "collapsed": false,
     "input": [
      "n = \"hello\"\n",
      "echo = n * 5 # Repeat the string 5 times\n",
      "echo"
     ],
     "language": "python",
     "metadata": {},
     "outputs": [
      {
       "metadata": {},
       "output_type": "pyout",
       "prompt_number": 70,
       "text": [
        "'hellohellohellohellohello'"
       ]
      }
     ],
     "prompt_number": 70
    },
    {
     "cell_type": "code",
     "collapsed": false,
     "input": [
      "# Concatenate with +\n",
      "boast = \"I am the very model of a \"\n",
      "occupation = \"modern major general.\"\n",
      "a_string = boast + occupation\n",
      "a_string"
     ],
     "language": "python",
     "metadata": {},
     "outputs": [
      {
       "metadata": {},
       "output_type": "pyout",
       "prompt_number": 41,
       "text": [
        "'I am the very model of a modern major general.'"
       ]
      }
     ],
     "prompt_number": 41
    },
    {
     "cell_type": "code",
     "collapsed": false,
     "input": [
      "# To concatenate strings, everything must already be a string\n",
      "# See the problem here?\n",
      "profound_statement = \"The answer to life, the universe, and everything is \" + 42"
     ],
     "language": "python",
     "metadata": {},
     "outputs": [
      {
       "ename": "TypeError",
       "evalue": "cannot concatenate 'str' and 'int' objects",
       "output_type": "pyerr",
       "traceback": [
        "\u001b[0;31m---------------------------------------------------------------------------\u001b[0m\n\u001b[0;31mTypeError\u001b[0m                                 Traceback (most recent call last)",
        "\u001b[0;32m<ipython-input-42-b2f14b3f668f>\u001b[0m in \u001b[0;36m<module>\u001b[0;34m()\u001b[0m\n\u001b[1;32m      1\u001b[0m \u001b[0;31m# To concatenate strings, everything must already be a string\u001b[0m\u001b[0;34m\u001b[0m\u001b[0;34m\u001b[0m\u001b[0m\n\u001b[1;32m      2\u001b[0m \u001b[0;31m# See the problem here?\u001b[0m\u001b[0;34m\u001b[0m\u001b[0;34m\u001b[0m\u001b[0m\n\u001b[0;32m----> 3\u001b[0;31m \u001b[0mprofound_statement\u001b[0m \u001b[0;34m=\u001b[0m \u001b[0;34m\"The answer to life, the universe, and everything is \"\u001b[0m \u001b[0;34m+\u001b[0m \u001b[0;36m42\u001b[0m\u001b[0;34m\u001b[0m\u001b[0m\n\u001b[0m",
        "\u001b[0;31mTypeError\u001b[0m: cannot concatenate 'str' and 'int' objects"
       ]
      }
     ],
     "prompt_number": 42
    },
    {
     "cell_type": "code",
     "collapsed": false,
     "input": [
      "# Try converting the value to a string\n",
      "profound_statement = \"The answer to life, the universe, and everything is \" + str(42)\n",
      "profound_statement"
     ],
     "language": "python",
     "metadata": {},
     "outputs": [
      {
       "metadata": {},
       "output_type": "pyout",
       "prompt_number": 44,
       "text": [
        "'The answer to life, the universe, and everything is 42'"
       ]
      }
     ],
     "prompt_number": 44
    },
    {
     "cell_type": "code",
     "collapsed": false,
     "input": [
      "# Either that, or embed the value into the string using the curly braces and the format function\n",
      "profound_statement = \"The answer to life, the universe, and everything is {}\"\n",
      "full_statement = profound_statement.format(42)\n",
      "full_statement"
     ],
     "language": "python",
     "metadata": {},
     "outputs": [
      {
       "metadata": {},
       "output_type": "pyout",
       "prompt_number": 46,
       "text": [
        "'The answer to life, the universe, and everything is 42'"
       ]
      }
     ],
     "prompt_number": 46
    },
    {
     "cell_type": "markdown",
     "metadata": {},
     "source": [
      "See how in that last one you can't change the value of the string in <code>profound_statement</code>. See, it's still the same as when you first declared it, because strings are immutable:"
     ]
    },
    {
     "cell_type": "code",
     "collapsed": false,
     "input": [
      "profound_statement"
     ],
     "language": "python",
     "metadata": {},
     "outputs": [
      {
       "metadata": {},
       "output_type": "pyout",
       "prompt_number": 47,
       "text": [
        "'The answer to life, the universe, and everything is {}'"
       ]
      }
     ],
     "prompt_number": 47
    },
    {
     "cell_type": "code",
     "collapsed": false,
     "input": [
      "# Return a substring using a brackets separated by a colon\n",
      "full_statement[3:22]"
     ],
     "language": "python",
     "metadata": {},
     "outputs": [
      {
       "metadata": {},
       "output_type": "pyout",
       "prompt_number": 51,
       "text": [
        "' answer to life, th'"
       ]
      }
     ],
     "prompt_number": 51
    },
    {
     "cell_type": "code",
     "collapsed": false,
     "input": [
      "# Just because you just returned a substring from a string\n",
      "# doesn't mean you changed the original string. \n",
      "full_statement"
     ],
     "language": "python",
     "metadata": {},
     "outputs": [
      {
       "metadata": {},
       "output_type": "pyout",
       "prompt_number": 52,
       "text": [
        "'The answer to life, the universe, and everything is 42'"
       ]
      }
     ],
     "prompt_number": 52
    },
    {
     "cell_type": "code",
     "collapsed": false,
     "input": [
      "# [begin index:end index:step]\n",
      "full_statement[3:32:3] # take every 3rd letter"
     ],
     "language": "python",
     "metadata": {},
     "outputs": [
      {
       "metadata": {},
       "output_type": "pyout",
       "prompt_number": 72,
       "text": [
        "' sroi,huvs'"
       ]
      }
     ],
     "prompt_number": 72
    },
    {
     "cell_type": "code",
     "collapsed": false,
     "input": [
      "# Leave the index blank to default to the beginning or end of the string\n",
      "full_statement[:25]"
     ],
     "language": "python",
     "metadata": {},
     "outputs": [
      {
       "metadata": {},
       "output_type": "pyout",
       "prompt_number": 76,
       "text": [
        "'The answer to life, the u'"
       ]
      }
     ],
     "prompt_number": 76
    },
    {
     "cell_type": "code",
     "collapsed": false,
     "input": [
      "full_statement[25:]"
     ],
     "language": "python",
     "metadata": {},
     "outputs": [
      {
       "metadata": {},
       "output_type": "pyout",
       "prompt_number": 77,
       "text": [
        "'niverse, and everything is 42'"
       ]
      }
     ],
     "prompt_number": 77
    },
    {
     "cell_type": "code",
     "collapsed": false,
     "input": [
      "# If i is negative, index is relative to end of string\n",
      "full_statement[-25:]"
     ],
     "language": "python",
     "metadata": {},
     "outputs": [
      {
       "metadata": {},
       "output_type": "pyout",
       "prompt_number": 78,
       "text": [
        "'rse, and everything is 42'"
       ]
      }
     ],
     "prompt_number": 78
    },
    {
     "cell_type": "code",
     "collapsed": false,
     "input": [
      "# Reverse a string by using a negative step value\n",
      "\"a man, a plan, a canal, panama\"[::-1]"
     ],
     "language": "python",
     "metadata": {},
     "outputs": [
      {
       "metadata": {},
       "output_type": "pyout",
       "prompt_number": 73,
       "text": [
        "'amanap ,lanac a ,nalp a ,nam a'"
       ]
      }
     ],
     "prompt_number": 73
    },
    {
     "cell_type": "markdown",
     "metadata": {},
     "source": [
      "Don't forget the bracket-colon slicing syntax works for plain old lists too, not just strings!"
     ]
    },
    {
     "cell_type": "markdown",
     "metadata": {},
     "source": [
      "## <a name=\"compound\">Iterables of Iterables</a>\n",
      "\n",
      "* It's fine as long as you don't violate the mutable rules"
     ]
    },
    {
     "cell_type": "code",
     "collapsed": false,
     "input": [
      "list1 = [1,2,3,4,5]\n",
      "list2 = [6,7,8,9,10]\n",
      "tuple1 = list1, list2\n",
      "tuple1"
     ],
     "language": "python",
     "metadata": {},
     "outputs": [
      {
       "metadata": {},
       "output_type": "pyout",
       "prompt_number": 62,
       "text": [
        "([1, 2, 3, 4, 5], [6, 7, 8, 9, 10])"
       ]
      }
     ],
     "prompt_number": 62
    },
    {
     "cell_type": "code",
     "collapsed": false,
     "input": [
      "# I guess this is legal:\n",
      "tuple1[0][0] = 99 # compound index notation\n",
      "tuple1"
     ],
     "language": "python",
     "metadata": {},
     "outputs": [
      {
       "metadata": {},
       "output_type": "pyout",
       "prompt_number": 63,
       "text": [
        "([99, 2, 3, 4, 5], [6, 7, 8, 9, 10])"
       ]
      }
     ],
     "prompt_number": 63
    },
    {
     "cell_type": "code",
     "collapsed": false,
     "input": [
      "dict1 = {'list1': list1, 'list2': list2}\n",
      "dict1['list2'][4] = 66\n",
      "dict1['list1'].append( 555 )\n",
      "dict1"
     ],
     "language": "python",
     "metadata": {},
     "outputs": [
      {
       "metadata": {},
       "output_type": "pyout",
       "prompt_number": 64,
       "text": [
        "{'list1': [99, 2, 3, 4, 5, 555], 'list2': [6, 7, 8, 9, 66]}"
       ]
      }
     ],
     "prompt_number": 64
    },
    {
     "cell_type": "markdown",
     "metadata": {},
     "source": [
      "## <a name=\"deep\">Shallow copy vs. deep copy</a>\n",
      "\n",
      "* Values that are composed of other values change when the original values change."
     ]
    },
    {
     "cell_type": "code",
     "collapsed": false,
     "input": [
      "# list1 is in dict1. You change one, you change the other:\n",
      "list1.remove(3)\n",
      "dict1\n",
      "# see? The value 3 is now gone from the dict too."
     ],
     "language": "python",
     "metadata": {},
     "outputs": [
      {
       "metadata": {},
       "output_type": "pyout",
       "prompt_number": 65,
       "text": [
        "{'list1': [99, 2, 4, 5, 555], 'list2': [6, 7, 8, 9, 66]}"
       ]
      }
     ],
     "prompt_number": 65
    },
    {
     "cell_type": "code",
     "collapsed": false,
     "input": [
      "# give list1 an alias\n",
      "the_same_damn_list = list1\n",
      "the_same_damn_list.append( 'NEE!' )\n",
      "list1"
     ],
     "language": "python",
     "metadata": {},
     "outputs": [
      {
       "metadata": {},
       "output_type": "pyout",
       "prompt_number": 66,
       "text": [
        "[99, 2, 4, 5, 555, 'NEE!']"
       ]
      }
     ],
     "prompt_number": 66
    },
    {
     "cell_type": "markdown",
     "metadata": {},
     "source": [
      "Here, <code>the_same_damn_list</code> is just a shallow copy of <code>list1</code>. To make a deep copy of a list, use <code>[:]</code>:"
     ]
    },
    {
     "cell_type": "code",
     "collapsed": false,
     "input": [
      "a_separate_list = list2[:]\n",
      "a_separate_list.append( 'I blow my nose at you!' )\n",
      "list2"
     ],
     "language": "python",
     "metadata": {},
     "outputs": [
      {
       "metadata": {},
       "output_type": "pyout",
       "prompt_number": 67,
       "text": [
        "[6, 7, 8, 9, 66]"
       ]
      }
     ],
     "prompt_number": 67
    },
    {
     "cell_type": "markdown",
     "metadata": {},
     "source": [
      "## <a name=\"using\">Using iterables</a>\n",
      "\n",
      "LEARN EVERYTHING ON THIS PAGE: [Standard types](http://docs.python.org/2/library/stdtypes.html)\n",
      "\n",
      "### Iterable stuff to try on your own:\n",
      "* <code>x in s</code> - The keyword <code>in</code>. A boolean expression to test if the value or substring x is in iterable s.\n",
      "* <code>x not in s</code> - Opposite of <code>in</code>.\n",
      "* <code>s + ',' + t ',' + u</code> - string concatenation\n",
      "    * See also the less computationally expensive <code>','.join(s,t,u)</code>\n",
      "* <code>len(s)</code> - length of iterable\n",
      "* <code>min(s)</code>\n",
      "* <code>max(s)</code> \n",
      "* <code>s.index(i)</code> - index of first occurrence of i in s\n",
      "* <code>s.count(i)</code> - total number of occurrences of i in s\n",
      "* <code>list.append(item)</code>\n",
      "* list.extend( another_list )\n",
      "* list.insert( position_index, value )\n",
      "* list.remove( value ) - removes first instance of value from list\n",
      "* list.pop() - remove last item from list and return it\n",
      "* list.pop(i) - remove the ith item in the list and return it\n",
      "* list.count( value ) - The number of times value appears in list\n",
      "* list.reverse()\n",
      "* del\n",
      "* sort( iterable )\n",
      "* truth value testing : all(), any()\n",
      "\n"
     ]
    },
    {
     "cell_type": "markdown",
     "metadata": {},
     "source": [
      "Now, move on to Class 3, Part 2: Boolean expressions - [HTML](BIOF309_Class3_Boolean.html) - [IPython Notebook](BIOF309_Class3_Boolean.ipynb)"
     ]
    }
   ],
   "metadata": {}
  }
 ]
}