{
 "metadata": {
  "name": ""
 },
 "nbformat": 3,
 "nbformat_minor": 0,
 "worksheets": [
  {
   "cells": [
    {
     "cell_type": "code",
     "collapsed": false,
     "input": [
      "class Student( object ):\n",
      "    pass"
     ],
     "language": "python",
     "metadata": {},
     "outputs": [],
     "prompt_number": 1
    },
    {
     "cell_type": "code",
     "collapsed": false,
     "input": [
      "type( Student)"
     ],
     "language": "python",
     "metadata": {},
     "outputs": [
      {
       "metadata": {},
       "output_type": "pyout",
       "prompt_number": 2,
       "text": [
        "type"
       ]
      }
     ],
     "prompt_number": 2
    },
    {
     "cell_type": "code",
     "collapsed": false,
     "input": [
      "chris = Student()"
     ],
     "language": "python",
     "metadata": {},
     "outputs": [],
     "prompt_number": 3
    },
    {
     "cell_type": "code",
     "collapsed": false,
     "input": [
      "type( chris )"
     ],
     "language": "python",
     "metadata": {},
     "outputs": [
      {
       "metadata": {},
       "output_type": "pyout",
       "prompt_number": 4,
       "text": [
        "__main__.Student"
       ]
      }
     ],
     "prompt_number": 4
    },
    {
     "cell_type": "code",
     "collapsed": false,
     "input": [
      "type( 79 )"
     ],
     "language": "python",
     "metadata": {},
     "outputs": [
      {
       "metadata": {},
       "output_type": "pyout",
       "prompt_number": 5,
       "text": [
        "int"
       ]
      }
     ],
     "prompt_number": 5
    },
    {
     "cell_type": "code",
     "collapsed": false,
     "input": [
      "class Student( object ):\n",
      "    def SayHi( self ):\n",
      "        print \"Hi!\""
     ],
     "language": "python",
     "metadata": {},
     "outputs": [],
     "prompt_number": 6
    },
    {
     "cell_type": "code",
     "collapsed": false,
     "input": [
      "chris = Student()"
     ],
     "language": "python",
     "metadata": {},
     "outputs": [],
     "prompt_number": 8
    },
    {
     "cell_type": "code",
     "collapsed": false,
     "input": [
      "chris.SayHi()"
     ],
     "language": "python",
     "metadata": {},
     "outputs": [
      {
       "output_type": "stream",
       "stream": "stdout",
       "text": [
        "Hi!\n"
       ]
      }
     ],
     "prompt_number": 9
    },
    {
     "cell_type": "code",
     "collapsed": false,
     "input": [
      "def regfunc():\n",
      "    print \"Hi!\""
     ],
     "language": "python",
     "metadata": {},
     "outputs": [],
     "prompt_number": 10
    },
    {
     "cell_type": "code",
     "collapsed": false,
     "input": [
      "type( regfunc)"
     ],
     "language": "python",
     "metadata": {},
     "outputs": [
      {
       "metadata": {},
       "output_type": "pyout",
       "prompt_number": 11,
       "text": [
        "function"
       ]
      }
     ],
     "prompt_number": 11
    },
    {
     "cell_type": "code",
     "collapsed": false,
     "input": [
      "type( Student.SayHi )"
     ],
     "language": "python",
     "metadata": {},
     "outputs": [
      {
       "metadata": {},
       "output_type": "pyout",
       "prompt_number": 12,
       "text": [
        "instancemethod"
       ]
      }
     ],
     "prompt_number": 12
    },
    {
     "cell_type": "code",
     "collapsed": false,
     "input": [
      "regfunc"
     ],
     "language": "python",
     "metadata": {},
     "outputs": [
      {
       "metadata": {},
       "output_type": "pyout",
       "prompt_number": 13,
       "text": [
        "<function __main__.regfunc>"
       ]
      }
     ],
     "prompt_number": 13
    },
    {
     "cell_type": "code",
     "collapsed": false,
     "input": [
      "regfunc()"
     ],
     "language": "python",
     "metadata": {},
     "outputs": [
      {
       "output_type": "stream",
       "stream": "stdout",
       "text": [
        "Hi!\n"
       ]
      }
     ],
     "prompt_number": 14
    },
    {
     "cell_type": "code",
     "collapsed": false,
     "input": [
      "class Student( object ):\n",
      "    def __init__( self, fname, lname ):\n",
      "        print \"making a new Student named, \", fname, lname\n",
      "        self.first_name = fname\n",
      "        self.last_name = lname\n",
      "        print \"done making new student\"\n",
      "    def SayHi( self ):\n",
      "        print \"Hi!\""
     ],
     "language": "python",
     "metadata": {},
     "outputs": [],
     "prompt_number": 15
    },
    {
     "cell_type": "code",
     "collapsed": false,
     "input": [
      "tim = Student('Tim', 'Gilpatrick')"
     ],
     "language": "python",
     "metadata": {},
     "outputs": [
      {
       "output_type": "stream",
       "stream": "stdout",
       "text": [
        "making a new Student named,  Tim Gilpatrick\n",
        "done making new student\n"
       ]
      }
     ],
     "prompt_number": 17
    },
    {
     "cell_type": "code",
     "collapsed": false,
     "input": [
      "dir(tim)"
     ],
     "language": "python",
     "metadata": {},
     "outputs": [
      {
       "metadata": {},
       "output_type": "pyout",
       "prompt_number": 18,
       "text": [
        "['SayHi',\n",
        " '__class__',\n",
        " '__delattr__',\n",
        " '__dict__',\n",
        " '__doc__',\n",
        " '__format__',\n",
        " '__getattribute__',\n",
        " '__hash__',\n",
        " '__init__',\n",
        " '__module__',\n",
        " '__new__',\n",
        " '__reduce__',\n",
        " '__reduce_ex__',\n",
        " '__repr__',\n",
        " '__setattr__',\n",
        " '__sizeof__',\n",
        " '__str__',\n",
        " '__subclasshook__',\n",
        " '__weakref__',\n",
        " 'first_name',\n",
        " 'last_name']"
       ]
      }
     ],
     "prompt_number": 18
    },
    {
     "cell_type": "code",
     "collapsed": false,
     "input": [
      "tim.first_name"
     ],
     "language": "python",
     "metadata": {},
     "outputs": [
      {
       "metadata": {},
       "output_type": "pyout",
       "prompt_number": 19,
       "text": [
        "'Tim'"
       ]
      }
     ],
     "prompt_number": 19
    },
    {
     "cell_type": "code",
     "collapsed": false,
     "input": [
      "tim.last_name"
     ],
     "language": "python",
     "metadata": {},
     "outputs": [
      {
       "metadata": {},
       "output_type": "pyout",
       "prompt_number": 20,
       "text": [
        "'Gilpatrick'"
       ]
      }
     ],
     "prompt_number": 20
    },
    {
     "cell_type": "code",
     "collapsed": false,
     "input": [
      "tim.SayHi()"
     ],
     "language": "python",
     "metadata": {},
     "outputs": [
      {
       "output_type": "stream",
       "stream": "stdout",
       "text": [
        "Hi!\n"
       ]
      }
     ],
     "prompt_number": 21
    },
    {
     "cell_type": "code",
     "collapsed": false,
     "input": [
      "class Student( object ):\n",
      "    def __init__( self, fname, lname ):\n",
      "        print \"making a new Student named, \", fname, lname\n",
      "        self.first_name = fname\n",
      "        self.last_name = lname\n",
      "        print \"done making new student\"\n",
      "    def SayHi( self ):\n",
      "        print \"Hi! I'm {}\".format( self.first_name )"
     ],
     "language": "python",
     "metadata": {},
     "outputs": [],
     "prompt_number": 22
    },
    {
     "cell_type": "code",
     "collapsed": false,
     "input": [
      "tim = Student('Tim', 'Gilpatrick')"
     ],
     "language": "python",
     "metadata": {},
     "outputs": [
      {
       "output_type": "stream",
       "stream": "stdout",
       "text": [
        "making a new Student named,  Tim Gilpatrick\n",
        "done making new student\n"
       ]
      }
     ],
     "prompt_number": 23
    },
    {
     "cell_type": "code",
     "collapsed": false,
     "input": [
      "tim.SayHi()"
     ],
     "language": "python",
     "metadata": {},
     "outputs": [
      {
       "output_type": "stream",
       "stream": "stdout",
       "text": [
        "Hi! I'm Tim\n"
       ]
      }
     ],
     "prompt_number": 24
    },
    {
     "cell_type": "code",
     "collapsed": false,
     "input": [
      "class GradStudent( Student ):\n",
      "    pass"
     ],
     "language": "python",
     "metadata": {},
     "outputs": [],
     "prompt_number": 25
    },
    {
     "cell_type": "code",
     "collapsed": false,
     "input": [
      "class Student( object ):\n",
      "    def __init__( self, fname=\"\", lname=\"\" ):\n",
      "        print \"making a new Student named, \", fname, lname\n",
      "        self.first_name = fname\n",
      "        self.last_name = lname\n",
      "        print \"done making new student\"\n",
      "    def SayHi( self ):\n",
      "        print \"Hi! I'm {}\".format( self.first_name )"
     ],
     "language": "python",
     "metadata": {},
     "outputs": [],
     "prompt_number": 32
    },
    {
     "cell_type": "code",
     "collapsed": false,
     "input": [
      "emptyy = Student('christopher', 'coletta')"
     ],
     "language": "python",
     "metadata": {},
     "outputs": [
      {
       "output_type": "stream",
       "stream": "stdout",
       "text": [
        "making a new Student named,  christopher coletta\n",
        "done making new student\n"
       ]
      }
     ],
     "prompt_number": 33
    },
    {
     "cell_type": "code",
     "collapsed": false,
     "input": [
      "class Student( object ):\n",
      "    list_of_students = []\n",
      "    def __init__( self, line ):\n",
      "        self.lname, self.fname, self.email, grades = line.split( '\\t', 3 )\n",
      "        self.hw1, self.hw2, self.hw3, self.hw4, self.final_proj = \\\n",
      "\t\t\t\t[ float( grade ) for grade in grades.split('\\t') ]\n",
      "        self.list_of_students.append(self)\n",
      "        print \"making a new Student named, \", self.fname, self.lname\n",
      "    def SayHi( self ):\n",
      "        print \"Hi! I'm {}\".format( self.fname )\n",
      "    def CalcFinalGrade( self ):\n",
      "\t\tself.final_grade = 0.8 * ( self.hw1 + self.hw2 + self.hw3 + self.hw4 ) / 4 \\\n",
      "\t\t                   + 0.2 * self.final_proj"
     ],
     "language": "python",
     "metadata": {},
     "outputs": [],
     "prompt_number": 44
    },
    {
     "cell_type": "code",
     "collapsed": false,
     "input": [
      "raw_data = \"\"\"Coletta\tChris\tme@chriscoletta.com\t88\t87\t86\t85\t81\n",
      "Busby\tBen\tben@busby.com\t98\t99\t90\t100\t95\n",
      "Dryga\tAnatoly\tadryga@gmail.com\t77\t74\t72\t77\t78\n",
      "Shirley\tMatt\tmdshw5@gmail.com\t61\t69\t60\t64\t67\"\"\""
     ],
     "language": "python",
     "metadata": {},
     "outputs": [],
     "prompt_number": 36
    },
    {
     "cell_type": "code",
     "collapsed": false,
     "input": [
      "for line in raw_data.split('\\n'):\n",
      "    Student(line)"
     ],
     "language": "python",
     "metadata": {},
     "outputs": [
      {
       "output_type": "stream",
       "stream": "stdout",
       "text": [
        "making a new Student named,  Chris Coletta\n",
        "making a new Student named,  Ben Busby\n",
        "making a new Student named,  Anatoly Dryga\n",
        "making a new Student named,  Matt Shirley\n"
       ]
      }
     ],
     "prompt_number": 45
    },
    {
     "cell_type": "code",
     "collapsed": false,
     "input": [
      "Student.list_of_students"
     ],
     "language": "python",
     "metadata": {},
     "outputs": [
      {
       "metadata": {},
       "output_type": "pyout",
       "prompt_number": 46,
       "text": [
        "[<__main__.Student at 0x10256f250>,\n",
        " <__main__.Student at 0x10256fc50>,\n",
        " <__main__.Student at 0x10256f950>,\n",
        " <__main__.Student at 0x10256fe90>]"
       ]
      }
     ],
     "prompt_number": 46
    },
    {
     "cell_type": "code",
     "collapsed": false,
     "input": [
      "for stud in Student.list_of_students:\n",
      "    stud.SayHi()"
     ],
     "language": "python",
     "metadata": {},
     "outputs": [
      {
       "output_type": "stream",
       "stream": "stdout",
       "text": [
        "Hi! I'm Chris\n",
        "Hi! I'm Ben\n",
        "Hi! I'm Anatoly\n",
        "Hi! I'm Matt\n"
       ]
      }
     ],
     "prompt_number": 47
    },
    {
     "cell_type": "code",
     "collapsed": false,
     "input": [
      "new_stud = Student(\"\"\"Vega\tHugo\tme@hugo.com\t88\t87\t86\t85\t91\"\"\")"
     ],
     "language": "python",
     "metadata": {},
     "outputs": [
      {
       "output_type": "stream",
       "stream": "stdout",
       "text": [
        "making a new Student named,  Hugo Vega\n"
       ]
      }
     ],
     "prompt_number": 53
    },
    {
     "cell_type": "code",
     "collapsed": false,
     "input": [
      "news = Student(\"\"\"Coletta\tChris\tme@chriscoletta.com\t88\t87\t86\t85\t81\"\"\")"
     ],
     "language": "python",
     "metadata": {},
     "outputs": [
      {
       "output_type": "stream",
       "stream": "stdout",
       "text": [
        "making a new Student named,  Chris Coletta\n"
       ]
      }
     ],
     "prompt_number": 49
    },
    {
     "cell_type": "code",
     "collapsed": false,
     "input": [
      "new_stud"
     ],
     "language": "python",
     "metadata": {},
     "outputs": [
      {
       "metadata": {},
       "output_type": "pyout",
       "prompt_number": 55,
       "text": [
        "<__main__.Student at 0x1025775d0>"
       ]
      }
     ],
     "prompt_number": 55
    },
    {
     "cell_type": "code",
     "collapsed": false,
     "input": [
      "class Student( object ):\n",
      "    list_of_students = []\n",
      "    def __init__( self, line ):\n",
      "        self.lname, self.fname, self.email, grades = line.split( '\\t', 3 )\n",
      "        self.hw1, self.hw2, self.hw3, self.hw4, self.final_proj = \\\n",
      "\t\t\t\t[ float( grade ) for grade in grades.split('\\t') ]\n",
      "        self.list_of_students.append(self)\n",
      "        print \"making a new Student named, \", self.fname, self.lname\n",
      "    def SayHi( self ):\n",
      "        print \"Hi! I'm {}\".format( self.fname )\n",
      "    def CalcFinalGrade( self ):\n",
      "\t\tself.final_grade = 0.8 * ( self.hw1 + self.hw2 + self.hw3 + self.hw4 ) / 4 \\\n",
      "\t\t                   + 0.2 * self.final_proj\n",
      "    def __repr__( self ):\n",
      "        student_number = self.list_of_students.index( self )\n",
      "        return \"Student # {} {} {}\".format(student_number, self.fname, self.lname) "
     ],
     "language": "python",
     "metadata": {},
     "outputs": [],
     "prompt_number": 56
    },
    {
     "cell_type": "code",
     "collapsed": false,
     "input": [
      "for line in raw_data.split('\\n'):\n",
      "    Student(line)"
     ],
     "language": "python",
     "metadata": {},
     "outputs": [
      {
       "output_type": "stream",
       "stream": "stdout",
       "text": [
        "making a new Student named,  Chris Coletta\n",
        "making a new Student named,  Ben Busby\n",
        "making a new Student named,  Anatoly Dryga\n",
        "making a new Student named,  Matt Shirley\n"
       ]
      }
     ],
     "prompt_number": 57
    },
    {
     "cell_type": "code",
     "collapsed": false,
     "input": [
      "Student.list_of_students"
     ],
     "language": "python",
     "metadata": {},
     "outputs": [
      {
       "metadata": {},
       "output_type": "pyout",
       "prompt_number": 58,
       "text": [
        "[Student # 0 Chris Coletta,\n",
        " Student # 1 Ben Busby,\n",
        " Student # 2 Anatoly Dryga,\n",
        " Student # 3 Matt Shirley]"
       ]
      }
     ],
     "prompt_number": 58
    },
    {
     "cell_type": "code",
     "collapsed": false,
     "input": [
      "some_list = ['a', 'b', 'c', 'd']"
     ],
     "language": "python",
     "metadata": {},
     "outputs": [],
     "prompt_number": 59
    },
    {
     "cell_type": "code",
     "collapsed": false,
     "input": [
      "some_list.index('a')"
     ],
     "language": "python",
     "metadata": {},
     "outputs": [
      {
       "metadata": {},
       "output_type": "pyout",
       "prompt_number": 60,
       "text": [
        "0"
       ]
      }
     ],
     "prompt_number": 60
    },
    {
     "cell_type": "code",
     "collapsed": false,
     "input": [
      "some_list.index('d')"
     ],
     "language": "python",
     "metadata": {},
     "outputs": [
      {
       "metadata": {},
       "output_type": "pyout",
       "prompt_number": 61,
       "text": [
        "3"
       ]
      }
     ],
     "prompt_number": 61
    },
    {
     "cell_type": "code",
     "collapsed": false,
     "input": [
      "some_list = ['a', 'b', 'c', 'd', 'c']"
     ],
     "language": "python",
     "metadata": {},
     "outputs": [],
     "prompt_number": 62
    },
    {
     "cell_type": "code",
     "collapsed": false,
     "input": [
      "some_list.index('c')"
     ],
     "language": "python",
     "metadata": {},
     "outputs": [
      {
       "metadata": {},
       "output_type": "pyout",
       "prompt_number": 63,
       "text": [
        "2"
       ]
      }
     ],
     "prompt_number": 63
    },
    {
     "cell_type": "code",
     "collapsed": false,
     "input": [
      "some_list.index('e')"
     ],
     "language": "python",
     "metadata": {},
     "outputs": [
      {
       "ename": "ValueError",
       "evalue": "'e' is not in list",
       "output_type": "pyerr",
       "traceback": [
        "\u001b[0;31m---------------------------------------------------------------------------\u001b[0m\n\u001b[0;31mValueError\u001b[0m                                Traceback (most recent call last)",
        "\u001b[0;32m<ipython-input-64-ba35afe22bc2>\u001b[0m in \u001b[0;36m<module>\u001b[0;34m()\u001b[0m\n\u001b[0;32m----> 1\u001b[0;31m \u001b[0msome_list\u001b[0m\u001b[0;34m.\u001b[0m\u001b[0mindex\u001b[0m\u001b[0;34m(\u001b[0m\u001b[0;34m'e'\u001b[0m\u001b[0;34m)\u001b[0m\u001b[0;34m\u001b[0m\u001b[0m\n\u001b[0m",
        "\u001b[0;31mValueError\u001b[0m: 'e' is not in list"
       ]
      }
     ],
     "prompt_number": 64
    },
    {
     "cell_type": "code",
     "collapsed": false,
     "input": [
      "class Student( object ):\n",
      "    list_of_students = []\n",
      "    def __init__( self, line ):\n",
      "        self.lname, self.fname, self.email, grades = line.split( '\\t', 3 )\n",
      "        self.hw1, self.hw2, self.hw3, self.hw4, self.final_proj = \\\n",
      "\t\t\t\t[ float( grade ) for grade in grades.split('\\t') ]\n",
      "        self.list_of_students.append(self)\n",
      "        print \"making a new Student named, \", self.fname, self.lname\n",
      "    def SayHi( self ):\n",
      "        print \"Hi! I'm {}\".format( self.fname )\n",
      "    def CalcFinalGrade( self ):\n",
      "\t\tself.final_grade = 0.8 * ( self.hw1 + self.hw2 + self.hw3 + self.hw4 ) / 4 \\\n",
      "\t\t                   + 0.2 * self.final_proj\n",
      "    def __repr__( self ):\n",
      "        student_number = self.list_of_students.index( self )\n",
      "        return \"Student # {} {} {}\".format(student_number, self.fname, self.lname)\n"
     ],
     "language": "python",
     "metadata": {},
     "outputs": [],
     "prompt_number": 65
    },
    {
     "cell_type": "code",
     "collapsed": false,
     "input": [
      "for line in raw_data.split('\\n'):\n",
      "    Student(line)"
     ],
     "language": "python",
     "metadata": {},
     "outputs": [
      {
       "output_type": "stream",
       "stream": "stdout",
       "text": [
        "making a new Student named,  Chris Coletta\n",
        "making a new Student named,  Ben Busby\n",
        "making a new Student named,  Anatoly Dryga\n",
        "making a new Student named,  Matt Shirley\n"
       ]
      }
     ],
     "prompt_number": 66
    },
    {
     "cell_type": "code",
     "collapsed": false,
     "input": [
      "Student.list_of_students[0]"
     ],
     "language": "python",
     "metadata": {},
     "outputs": [
      {
       "metadata": {},
       "output_type": "pyout",
       "prompt_number": 67,
       "text": [
        "Student # 0 Chris Coletta"
       ]
      }
     ],
     "prompt_number": 67
    },
    {
     "cell_type": "code",
     "collapsed": false,
     "input": [
      "len( Student.list_of_students[0] )"
     ],
     "language": "python",
     "metadata": {},
     "outputs": [
      {
       "metadata": {},
       "output_type": "pyout",
       "prompt_number": 68,
       "text": [
        "85"
       ]
      }
     ],
     "prompt_number": 68
    },
    {
     "cell_type": "code",
     "collapsed": false,
     "input": [
      "chris = Student.list_of_students[0]"
     ],
     "language": "python",
     "metadata": {},
     "outputs": [],
     "prompt_number": 69
    },
    {
     "cell_type": "code",
     "collapsed": false,
     "input": [
      "chris.__class__"
     ],
     "language": "python",
     "metadata": {},
     "outputs": [
      {
       "metadata": {},
       "output_type": "pyout",
       "prompt_number": 70,
       "text": [
        "__main__.Student"
       ]
      }
     ],
     "prompt_number": 70
    },
    {
     "cell_type": "code",
     "collapsed": false,
     "input": [
      "type(chris)\n"
     ],
     "language": "python",
     "metadata": {},
     "outputs": [
      {
       "metadata": {},
       "output_type": "pyout",
       "prompt_number": 71,
       "text": [
        "__main__.Student"
       ]
      }
     ],
     "prompt_number": 71
    },
    {
     "cell_type": "code",
     "collapsed": false,
     "input": [
      "chris.__dict__"
     ],
     "language": "python",
     "metadata": {},
     "outputs": [
      {
       "metadata": {},
       "output_type": "pyout",
       "prompt_number": 72,
       "text": [
        "{'email': 'me@chriscoletta.com',\n",
        " 'final_proj': 81.0,\n",
        " 'fname': 'Chris',\n",
        " 'hw1': 88.0,\n",
        " 'hw2': 87.0,\n",
        " 'hw3': 86.0,\n",
        " 'hw4': 85.0,\n",
        " 'lname': 'Coletta'}"
       ]
      }
     ],
     "prompt_number": 72
    },
    {
     "cell_type": "code",
     "collapsed": false,
     "input": [
      "dir(chris)"
     ],
     "language": "python",
     "metadata": {},
     "outputs": [
      {
       "metadata": {},
       "output_type": "pyout",
       "prompt_number": 74,
       "text": [
        "['CalcFinalGrade',\n",
        " 'SayHi',\n",
        " '__class__',\n",
        " '__delattr__',\n",
        " '__dict__',\n",
        " '__doc__',\n",
        " '__format__',\n",
        " '__getattribute__',\n",
        " '__hash__',\n",
        " '__init__',\n",
        " '__len__',\n",
        " '__module__',\n",
        " '__new__',\n",
        " '__reduce__',\n",
        " '__reduce_ex__',\n",
        " '__repr__',\n",
        " '__setattr__',\n",
        " '__sizeof__',\n",
        " '__str__',\n",
        " '__subclasshook__',\n",
        " '__weakref__',\n",
        " 'email',\n",
        " 'final_proj',\n",
        " 'fname',\n",
        " 'hw1',\n",
        " 'hw2',\n",
        " 'hw3',\n",
        " 'hw4',\n",
        " 'list_of_students',\n",
        " 'lname']"
       ]
      }
     ],
     "prompt_number": 74
    },
    {
     "cell_type": "code",
     "collapsed": false,
     "input": [
      "cmp(0,1)"
     ],
     "language": "python",
     "metadata": {},
     "outputs": [
      {
       "metadata": {},
       "output_type": "pyout",
       "prompt_number": 75,
       "text": [
        "-1"
       ]
      }
     ],
     "prompt_number": 75
    },
    {
     "cell_type": "code",
     "collapsed": false,
     "input": [
      "cmp(0,0)"
     ],
     "language": "python",
     "metadata": {},
     "outputs": [
      {
       "metadata": {},
       "output_type": "pyout",
       "prompt_number": 76,
       "text": [
        "0"
       ]
      }
     ],
     "prompt_number": 76
    },
    {
     "cell_type": "code",
     "collapsed": false,
     "input": [
      "cmp(1,0)"
     ],
     "language": "python",
     "metadata": {},
     "outputs": [
      {
       "metadata": {},
       "output_type": "pyout",
       "prompt_number": 77,
       "text": [
        "1"
       ]
      }
     ],
     "prompt_number": 77
    },
    {
     "cell_type": "code",
     "collapsed": false,
     "input": [
      "cmp('a', 'b')"
     ],
     "language": "python",
     "metadata": {},
     "outputs": [
      {
       "metadata": {},
       "output_type": "pyout",
       "prompt_number": 78,
       "text": [
        "-1"
       ]
      }
     ],
     "prompt_number": 78
    },
    {
     "cell_type": "code",
     "collapsed": false,
     "input": [
      "cmp( 'chris', 'doug')"
     ],
     "language": "python",
     "metadata": {},
     "outputs": [
      {
       "metadata": {},
       "output_type": "pyout",
       "prompt_number": 79,
       "text": [
        "-1"
       ]
      }
     ],
     "prompt_number": 79
    },
    {
     "cell_type": "code",
     "collapsed": false,
     "input": [
      "cmp( 'chris', 'doug')"
     ],
     "language": "python",
     "metadata": {},
     "outputs": [
      {
       "metadata": {},
       "output_type": "pyout",
       "prompt_number": 80,
       "text": [
        "-1"
       ]
      }
     ],
     "prompt_number": 80
    },
    {
     "cell_type": "code",
     "collapsed": false,
     "input": [
      "class Student( object ):\n",
      "    list_of_students = []\n",
      "    def __init__( self, line ):\n",
      "        self.lname, self.fname, self.email, grades = line.split( '\\t', 3 )\n",
      "        self.hw1, self.hw2, self.hw3, self.hw4, self.final_proj = \\\n",
      "\t\t\t\t[ float( grade ) for grade in grades.split('\\t') ]\n",
      "        self.list_of_students.append(self)\n",
      "        print \"making a new Student named, \", self.fname, self.lname\n",
      "    def SayHi( self ):\n",
      "        print \"Hi! I'm {}\".format( self.fname )\n",
      "    def CalcFinalGrade( self ):\n",
      "\t\tself.final_grade = 0.8 * ( self.hw1 + self.hw2 + self.hw3 + self.hw4 ) / 4 \\\n",
      "\t\t                   + 0.2 * self.final_proj\n",
      "    def __repr__( self ):\n",
      "        student_number = self.list_of_students.index( self )\n",
      "        return \"Student # {} {} {}\".format(student_number, self.fname, self.lname)\n",
      "    def __cmp__(self, other):\n",
      "        print \"sorting {} and {}\".format( self.fname, other.fname )\n",
      "        first_sort_val = cmp(self.lname, other.lname)\n",
      "        if first_sort_val != 0:\n",
      "            return first_sort_val\n",
      "        return cmp(self.grade, other.grade)\n",
      "\n"
     ],
     "language": "python",
     "metadata": {},
     "outputs": [],
     "prompt_number": 91
    },
    {
     "cell_type": "code",
     "collapsed": false,
     "input": [
      "for line in raw_data.split('\\n'):\n",
      "    Student(line)"
     ],
     "language": "python",
     "metadata": {},
     "outputs": [
      {
       "output_type": "stream",
       "stream": "stdout",
       "text": [
        "making a new Student named,  Chris Coletta\n",
        "making a new Student named,  Ben Busby\n",
        "making a new Student named,  Anatoly Dryga\n",
        "making a new Student named,  Matt Shirley\n"
       ]
      }
     ],
     "prompt_number": 92
    },
    {
     "cell_type": "code",
     "collapsed": false,
     "input": [
      "sorted( Student.list_of_students )"
     ],
     "language": "python",
     "metadata": {},
     "outputs": [
      {
       "output_type": "stream",
       "stream": "stdout",
       "text": [
        "sorting Ben and Chris\n",
        "sorting Anatoly and Ben\n",
        "sorting Anatoly and Chris\n",
        "sorting Matt and Chris\n",
        "sorting Matt and Anatoly\n",
        "sorting Chris and Ben\n",
        "sorting Chris and Anatoly\n",
        "sorting Ben and Anatoly\n",
        "sorting Chris and Matt\n",
        "sorting Ben and Matt\n",
        "sorting Anatoly and Matt\n"
       ]
      },
      {
       "metadata": {},
       "output_type": "pyout",
       "prompt_number": 98,
       "text": [
        "[Student # 1 Ben Busby,\n",
        " Student # 0 Chris Coletta,\n",
        " Student # 2 Anatoly Dryga,\n",
        " Student # 3 Matt Shirley]"
       ]
      }
     ],
     "prompt_number": 98
    },
    {
     "cell_type": "code",
     "collapsed": false,
     "input": [
      "Student.list_of_students"
     ],
     "language": "python",
     "metadata": {},
     "outputs": [
      {
       "metadata": {},
       "output_type": "pyout",
       "prompt_number": 87,
       "text": [
        "[Student # 0 Chris Coletta,\n",
        " Student # 1 Ben Busby,\n",
        " Student # 2 Anatoly Dryga,\n",
        " Student # 3 Matt Shirley]"
       ]
      }
     ],
     "prompt_number": 87
    },
    {
     "cell_type": "code",
     "collapsed": false,
     "input": [
      "help(sorted)"
     ],
     "language": "python",
     "metadata": {},
     "outputs": [
      {
       "output_type": "stream",
       "stream": "stdout",
       "text": [
        "Help on built-in function sorted in module __builtin__:\n",
        "\n",
        "sorted(...)\n",
        "    sorted(iterable, cmp=None, key=None, reverse=False) --> new sorted list\n",
        "\n"
       ]
      }
     ],
     "prompt_number": 99
    },
    {
     "cell_type": "code",
     "collapsed": false,
     "input": [
      "sorted( Student.list_of_students, cmp=lambda x,y: cmp(x.lname,y.lname) )"
     ],
     "language": "python",
     "metadata": {},
     "outputs": [
      {
       "output_type": "stream",
       "stream": "stdout",
       "text": [
        "sorting Chris and Ben\n",
        "sorting Chris and Anatoly\n",
        "sorting Ben and Anatoly\n",
        "sorting Chris and Matt\n",
        "sorting Ben and Matt\n",
        "sorting Anatoly and Matt\n"
       ]
      },
      {
       "metadata": {},
       "output_type": "pyout",
       "prompt_number": 97,
       "text": [
        "[Student # 1 Ben Busby,\n",
        " Student # 0 Chris Coletta,\n",
        " Student # 2 Anatoly Dryga,\n",
        " Student # 3 Matt Shirley]"
       ]
      }
     ],
     "prompt_number": 97
    },
    {
     "cell_type": "code",
     "collapsed": false,
     "input": [],
     "language": "python",
     "metadata": {},
     "outputs": []
    }
   ],
   "metadata": {}
  }
 ]
}