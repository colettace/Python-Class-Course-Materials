{
 "metadata": {
  "name": "",
  "signature": "sha256:f51dafd1ebb6d485b94218efe47e8c6ff84d96870f52b573c20c04bd9b8fd69f"
 },
 "nbformat": 3,
 "nbformat_minor": 0,
 "worksheets": [
  {
   "cells": [
    {
     "cell_type": "markdown",
     "metadata": {},
     "source": [
      "# BIOF 309 - Introduction to Python\n",
      "## Object Oriented Programming - Part 1\n",
      "\n",
      "### Table Of Contents\n",
      "1. [Classes and class instances](#instances)\n",
      "2. [Attributes](#attributes)\n",
      "3. [The \\_\\_init\\_\\_ method](#init)\n",
      "4. [Exploring your objects](#exploring)\n",
      "5. [Instance attributes vs. class attributes](#classattribs)\n",
      "6. [Case Study: Functional vs. Object Oriented approaches to parsing data](#casestudy)\n",
      "7. [More about \"Special\" atributes](#special)\n",
      "8. [Sorting user-defined objects](#sorting)\n",
      "\n",
      "---"
     ]
    },
    {
     "cell_type": "markdown",
     "metadata": {},
     "source": [
      "## <a name=\"instances\">Classes and class instances</a>\n",
      "\n",
      "\n",
      "* In Python, a <code>class</code> ([documentation](https://docs.python.org/2/tutorial/classes.html)) is how you define your own type, to go along with all the built-in Python types, like <code>int</code>, <code>string</code>, <code>dict</code>, etc.\n",
      "* When you define a class, it's like you're defining the shape of a cookie-cutter or cutting out a stencil."
     ]
    },
    {
     "cell_type": "code",
     "collapsed": false,
     "input": [
      "# In Python 2.x, you have to put (object) in the first line, but in 3.x you can leave it out\n",
      "class Student( object ):\n",
      "    pass"
     ],
     "language": "python",
     "metadata": {},
     "outputs": [],
     "prompt_number": 94
    },
    {
     "cell_type": "code",
     "collapsed": false,
     "input": [
      "type( Student )"
     ],
     "language": "python",
     "metadata": {},
     "outputs": [
      {
       "metadata": {},
       "output_type": "pyout",
       "prompt_number": 3,
       "text": [
        "type"
       ]
      }
     ],
     "prompt_number": 3
    },
    {
     "cell_type": "markdown",
     "metadata": {},
     "source": [
      "In programming terms, the cookie is an *instance* of the cookie-cutter. When you hold up your class stencil to the wall and spray-paint over it, you have *instantiated* and object of that class. The terms *instance* and *object* are interchangeable in this context.\n",
      "\n",
      "\n",
      "![example of a class and its instances](http://upload.wikimedia.org/wikipedia/commons/6/62/CPT-OOP-objects_and_classes.svg)\n",
      "\n",
      "In Python to instantiate any type of object you use the open-close parentheses syntax, a.k.a *functional notation*:"
     ]
    },
    {
     "cell_type": "code",
     "collapsed": false,
     "input": [
      "chris = Student()"
     ],
     "language": "python",
     "metadata": {},
     "outputs": [],
     "prompt_number": 3
    },
    {
     "cell_type": "code",
     "collapsed": false,
     "input": [
      "type( chris )"
     ],
     "language": "python",
     "metadata": {},
     "outputs": [
      {
       "metadata": {},
       "output_type": "pyout",
       "prompt_number": 4,
       "text": [
        "__main__.Student"
       ]
      }
     ],
     "prompt_number": 4
    },
    {
     "cell_type": "code",
     "collapsed": false,
     "input": [
      "print chris"
     ],
     "language": "python",
     "metadata": {},
     "outputs": [
      {
       "output_type": "stream",
       "stream": "stdout",
       "text": [
        "<__main__.Student object at 0x1022e8d90>\n"
       ]
      }
     ],
     "prompt_number": 32
    },
    {
     "cell_type": "code",
     "collapsed": false,
     "input": [
      "id(chris)"
     ],
     "language": "python",
     "metadata": {},
     "outputs": [
      {
       "metadata": {},
       "output_type": "pyout",
       "prompt_number": 33,
       "text": [
        "4331572624"
       ]
      }
     ],
     "prompt_number": 33
    },
    {
     "cell_type": "markdown",
     "metadata": {},
     "source": [
      "By the way, here the <code>\\_\\_main\\_\\_</code> part above is the [namespace](http://bytebaker.com/2008/07/30/python-namespaces/) which is just the container for all your local variables, functions, and classes, so that your class definition of <code>Student</code> wouldn't collide with Python's internal definition of Student if it had one, for example. It is the same <code>\\_\\_main\\_\\_</code> referred to in the <code>if \\_\\_name\\_\\_ == '\\_\\_main\\_\\_':</code> line that we've used in our homework. The <code>0xblahblahblah</code> is the objects address in memory and could be used for establishing identity (The hexadecimal number 1022e8d90 equals 4331572624 in base 10.)"
     ]
    },
    {
     "cell_type": "markdown",
     "metadata": {},
     "source": [
      "## <a name=\"attributes\">Attributes</a>\n",
      "\n",
      "* A class is like a noun in grammar. In our examples we've been using the noun *Student*. We will now define the attributes of what makes a student a student.\n",
      "* A class is like a container, too. It contains what we call attributes, of which there are two types:\n",
      "    * A *data attribute* is a value attached to each object\n",
      "    * A *method* is a function that \u201cbelongs to\u201d an object.\n",
      "* An *attribute* is \"anything after the dot\" on a class\n",
      "* Thus, related values and functions are bundled together in one container. The class is said to [encapsulate](http://en.wikipedia.org/wiki/Encapsulation_%28object-oriented_programming%29) the notion of all the data and logic related to that thing, in our case, a student."
     ]
    },
    {
     "cell_type": "markdown",
     "metadata": {},
     "source": [
      "#### Data Attributes\n",
      "\n",
      "*Data attributes* are just values that are attached to each instance."
     ]
    },
    {
     "cell_type": "code",
     "collapsed": false,
     "input": [
      "# fname and lname are data attributes\n",
      "chris = Student()\n",
      "chris.fname = \"Chris\"\n",
      "chris.lname = \"Coletta\"\n",
      "\n",
      "ben = Student()\n",
      "ben.fname = \"Ben\"\n",
      "ben.lname = \"Busby\"\n",
      "\n",
      "# Do we have the same first name? Nope.\n",
      "ben.fname == chris.fname"
     ],
     "language": "python",
     "metadata": {},
     "outputs": [
      {
       "metadata": {},
       "output_type": "pyout",
       "prompt_number": 9,
       "text": [
        "False"
       ]
      }
     ],
     "prompt_number": 9
    },
    {
     "cell_type": "markdown",
     "metadata": {},
     "source": [
      "#### Methods\n",
      "\n",
      "*Methods* are just functions that exist in the namespace of the class. Python automatically passes to methods a reference to the instance upon which the method is called. That's why you always include <code>self</code> in every method's argument list."
     ]
    },
    {
     "cell_type": "code",
     "collapsed": false,
     "input": [
      "# Define the method SayHi\n",
      "class Student( object ):\n",
      "    def SayHi( self ): # self is always the first argument to any method\n",
      "        print \"Hi! I'm {}\".format( self.fname )\n",
      "\n",
      "chris = Student()\n",
      "chris.fname = \"Chris\"\n",
      "\n",
      "ben = Student()\n",
      "ben.fname = \"Ben\"\n",
      "\n",
      "# See how I call the function without passing any arguments?\n",
      "# Python automatically adds self when the method is called.\n",
      "chris.SayHi()\n",
      "ben.SayHi()"
     ],
     "language": "python",
     "metadata": {},
     "outputs": [
      {
       "output_type": "stream",
       "stream": "stdout",
       "text": [
        "Hi! I'm Chris\n",
        "Hi! I'm Ben\n"
       ]
      }
     ],
     "prompt_number": 15
    },
    {
     "cell_type": "markdown",
     "metadata": {},
     "source": [
      "If you define a method with the <code>self</code> argument alone, that means it expects to be called with zero arguments. You will get an error if you try to pass an argument it wasn't expecting, just like any other function. In this case, it will say you gave *two* arguments, because the prepending of the self-reference to the argument list happens behind the scenes."
     ]
    },
    {
     "cell_type": "code",
     "collapsed": false,
     "input": [
      "# Call it with one argument, it'll say you gave two:\n",
      "chris.SayHi( \"superfluous!\" )"
     ],
     "language": "python",
     "metadata": {},
     "outputs": [
      {
       "ename": "TypeError",
       "evalue": "SayHi() takes exactly 1 argument (2 given)",
       "output_type": "pyerr",
       "traceback": [
        "\u001b[0;31m---------------------------------------------------------------------------\u001b[0m\n\u001b[0;31mTypeError\u001b[0m                                 Traceback (most recent call last)",
        "\u001b[0;32m<ipython-input-18-9bd08b0b0127>\u001b[0m in \u001b[0;36m<module>\u001b[0;34m()\u001b[0m\n\u001b[1;32m      1\u001b[0m \u001b[0;31m# Call it with one argument, it'll say you gave two:\u001b[0m\u001b[0;34m\u001b[0m\u001b[0;34m\u001b[0m\u001b[0m\n\u001b[0;32m----> 2\u001b[0;31m \u001b[0mchris\u001b[0m\u001b[0;34m.\u001b[0m\u001b[0mSayHi\u001b[0m\u001b[0;34m(\u001b[0m \u001b[0;34m\"superfluous!\"\u001b[0m \u001b[0;34m)\u001b[0m\u001b[0;34m\u001b[0m\u001b[0m\n\u001b[0m",
        "\u001b[0;31mTypeError\u001b[0m: SayHi() takes exactly 1 argument (2 given)"
       ]
      }
     ],
     "prompt_number": 18
    },
    {
     "cell_type": "markdown",
     "metadata": {},
     "source": [
      "## <a name=\"init\">The <code>\\_\\_init\\_\\_</code> method</a>\n",
      "\n",
      "The <code>\\_\\_init\\_\\_</code> is one of many *[\"special\" methods](http://www.rafekettler.com/magicmethods.html)*, a.k.a. magic methods. The method <code>\\_\\_init\\_\\_</code> is called automatically whenever an object is instantiated. In general computer science terms, this method roughly fulfills the role of a [constructor](http://en.wikipedia.org/wiki/Constructor_%28object-oriented_programming%29). You can define it to take arguments to initialize the data atributes, rather than set them explicitly as we did above."
     ]
    },
    {
     "cell_type": "code",
     "collapsed": false,
     "input": [
      "class Student( object ):\n",
      "    def __init__( self, first_name, last_name ):\n",
      "        print \"making a new Student named\", first_name, last_name\n",
      "        self.fname = first_name\n",
      "        self.lname = last_name\n",
      "        print \"done making new student\"\n",
      "    def SayHi( self ):\n",
      "        print \"Hi! I'm {}\".format( self.fname )\n",
      "        \n",
      "matt = Student('Matt', 'Shirley')\n",
      "matt.SayHi()"
     ],
     "language": "python",
     "metadata": {},
     "outputs": [
      {
       "output_type": "stream",
       "stream": "stdout",
       "text": [
        "making a new Student named Matt Shirley\n",
        "done making new student\n",
        "Hi! I'm Matt\n"
       ]
      }
     ],
     "prompt_number": 97
    },
    {
     "cell_type": "markdown",
     "metadata": {},
     "source": [
      "What if you wanted to define an empty student with the <code>fname</code> and the <code>lname</code> unitialized? You couldn't do it with the <code>Student</code> class as defined as above:"
     ]
    },
    {
     "cell_type": "code",
     "collapsed": false,
     "input": [
      "# With the __init__ function as defined above, it now\n",
      "# expects and requires you to pass a first name and a last name\n",
      "# on instantiation:\n",
      "blank_student = Student()"
     ],
     "language": "python",
     "metadata": {},
     "outputs": [
      {
       "ename": "TypeError",
       "evalue": "__init__() takes exactly 3 arguments (1 given)",
       "output_type": "pyerr",
       "traceback": [
        "\u001b[0;31m---------------------------------------------------------------------------\u001b[0m\n\u001b[0;31mTypeError\u001b[0m                                 Traceback (most recent call last)",
        "\u001b[0;32m<ipython-input-98-cb4314755f80>\u001b[0m in \u001b[0;36m<module>\u001b[0;34m()\u001b[0m\n\u001b[1;32m      2\u001b[0m \u001b[0;31m# expects and requires you to pass a first name and a last name\u001b[0m\u001b[0;34m\u001b[0m\u001b[0;34m\u001b[0m\u001b[0m\n\u001b[1;32m      3\u001b[0m \u001b[0;31m# on instantiation:\u001b[0m\u001b[0;34m\u001b[0m\u001b[0;34m\u001b[0m\u001b[0m\n\u001b[0;32m----> 4\u001b[0;31m \u001b[0mblank_student\u001b[0m \u001b[0;34m=\u001b[0m \u001b[0mStudent\u001b[0m\u001b[0;34m(\u001b[0m\u001b[0;34m)\u001b[0m\u001b[0;34m\u001b[0m\u001b[0m\n\u001b[0m",
        "\u001b[0;31mTypeError\u001b[0m: __init__() takes exactly 3 arguments (1 given)"
       ]
      }
     ],
     "prompt_number": 98
    },
    {
     "cell_type": "markdown",
     "metadata": {},
     "source": [
      "To get around this, just define the <code>\\_\\_init\\_\\_</code> method argument list with default values:"
     ]
    },
    {
     "cell_type": "code",
     "collapsed": false,
     "input": [
      "class Student( object ):\n",
      "    def __init__( self, first_name=\"\", last_name=\"\" ):\n",
      "        print \"making a new Student named\", first_name, last_name\n",
      "        self.fname = first_name\n",
      "        self.lname = last_name\n",
      "        print \"done making new student\"\n",
      "    def SayHi( self ):\n",
      "        print \"Hi! I'm {}\".format( self.fname )\n",
      "        \n",
      "empty = Student()\n",
      "empty.SayHi()"
     ],
     "language": "python",
     "metadata": {},
     "outputs": [
      {
       "output_type": "stream",
       "stream": "stdout",
       "text": [
        "making a new Student named  \n",
        "done making new student\n",
        "Hi! I'm \n"
       ]
      }
     ],
     "prompt_number": 26
    },
    {
     "cell_type": "markdown",
     "metadata": {},
     "source": [
      "## <a name=\"exploring\">Exploring your objects</a>"
     ]
    },
    {
     "cell_type": "markdown",
     "metadata": {},
     "source": [
      "### *Docstrings* and <code>help()</code>\n",
      "\n",
      "You can define a class's *docstring* by placing a string on the second line of the class definition. This is what Python will print out when you call for <code>help</code> on an object. Each method can have their own docstrings as well."
     ]
    },
    {
     "cell_type": "code",
     "collapsed": false,
     "input": [
      "class Student( object ):\n",
      "    \"A type we've defined to illustrate the use of OOP in Python.\"\n",
      "    def __init__( self, first_name=\"\", last_name=\"\" ):\n",
      "        \"Constructor method.\"\n",
      "        self.fname = first_name\n",
      "        self.lname = last_name\n",
      "        print \"done making new student\"\n",
      "    def SayHi( self ):\n",
      "        \"Prints a customized message.\"\n",
      "        print \"Hi! I'm {}\".format( self.fname )\n",
      "        \n",
      "help( Student)"
     ],
     "language": "python",
     "metadata": {},
     "outputs": [
      {
       "output_type": "stream",
       "stream": "stdout",
       "text": [
        "Help on class Student in module __main__:\n",
        "\n",
        "class Student(__builtin__.object)\n",
        " |  A type we've defined to illustrate the use of OOP in Python.\n",
        " |  \n",
        " |  Methods defined here:\n",
        " |  \n",
        " |  SayHi(self)\n",
        " |      Prints a customized message.\n",
        " |  \n",
        " |  __init__(self, first_name='', last_name='')\n",
        " |      Constructor method.\n",
        " |  \n",
        " |  ----------------------------------------------------------------------\n",
        " |  Data descriptors defined here:\n",
        " |  \n",
        " |  __dict__\n",
        " |      dictionary for instance variables (if defined)\n",
        " |  \n",
        " |  __weakref__\n",
        " |      list of weak references to the object (if defined)\n",
        "\n"
       ]
      }
     ],
     "prompt_number": 39
    },
    {
     "cell_type": "code",
     "collapsed": false,
     "input": [
      "help( Student.SayHi )"
     ],
     "language": "python",
     "metadata": {},
     "outputs": [
      {
       "output_type": "stream",
       "stream": "stdout",
       "text": [
        "Help on method SayHi in module __main__:\n",
        "\n",
        "SayHi(self) unbound __main__.Student method\n",
        "    Prints a customized message.\n",
        "\n"
       ]
      }
     ],
     "prompt_number": 38
    },
    {
     "cell_type": "markdown",
     "metadata": {},
     "source": [
      "### Using <code>dir()</code>\n",
      "Python defines some additional \"special\" attributes behind the scenes for you. You can see a full list of attributes by using the <code>dir</code> function."
     ]
    },
    {
     "cell_type": "code",
     "collapsed": false,
     "input": [
      "dir(chris)"
     ],
     "language": "python",
     "metadata": {},
     "outputs": [
      {
       "metadata": {},
       "output_type": "pyout",
       "prompt_number": 41,
       "text": [
        "['SayHi',\n",
        " '__class__',\n",
        " '__delattr__',\n",
        " '__dict__',\n",
        " '__doc__',\n",
        " '__format__',\n",
        " '__getattribute__',\n",
        " '__hash__',\n",
        " '__init__',\n",
        " '__module__',\n",
        " '__new__',\n",
        " '__reduce__',\n",
        " '__reduce_ex__',\n",
        " '__repr__',\n",
        " '__setattr__',\n",
        " '__sizeof__',\n",
        " '__str__',\n",
        " '__subclasshook__',\n",
        " '__weakref__',\n",
        " 'fname',\n",
        " 'lname']"
       ]
      }
     ],
     "prompt_number": 41
    },
    {
     "cell_type": "markdown",
     "metadata": {},
     "source": [
      "### The special attribute <code>\\_\\_class\\_\\_</code>\n",
      "\n",
      "For a given object <code>the\\_object</code>, if you want to know what type of class it is, you can call <code>type( the\\_object )</code>. All the <code>type()</code> function does is return the value contained in the <code>\\_\\_class\\_\\_</code> attribute, which is set for you automatically by Python."
     ]
    },
    {
     "cell_type": "code",
     "collapsed": false,
     "input": [
      "type(chris)"
     ],
     "language": "python",
     "metadata": {},
     "outputs": [
      {
       "metadata": {},
       "output_type": "pyout",
       "prompt_number": 42,
       "text": [
        "__main__.Student"
       ]
      }
     ],
     "prompt_number": 42
    },
    {
     "cell_type": "code",
     "collapsed": false,
     "input": [
      "chris.__class__"
     ],
     "language": "python",
     "metadata": {},
     "outputs": [
      {
       "metadata": {},
       "output_type": "pyout",
       "prompt_number": 43,
       "text": [
        "__main__.Student"
       ]
      }
     ],
     "prompt_number": 43
    },
    {
     "cell_type": "markdown",
     "metadata": {},
     "source": [
      "### The special attribute <code>\\_\\_dict\\_\\_</code>\n",
      "\n",
      "For a given object <code>the\\_object</code>, if you want to see what its instance's data attributes are, print out <code>the\\_object.\\_\\_dict\\_\\_</code>"
     ]
    },
    {
     "cell_type": "code",
     "collapsed": false,
     "input": [
      "matt.__dict__"
     ],
     "language": "python",
     "metadata": {},
     "outputs": [
      {
       "metadata": {},
       "output_type": "pyout",
       "prompt_number": 46,
       "text": [
        "{'fname': 'Matt', 'lname': 'Shirley'}"
       ]
      }
     ],
     "prompt_number": 46
    },
    {
     "cell_type": "markdown",
     "metadata": {},
     "source": [
      "## <a name=\"classattribs\">Instance attributes versus class attributes</a>\n",
      "\n",
      "When you instantiate an object and assign a value to one of it's data attributes, that value is not shared with the other instances. However sometimes it's useful to have each instance share one data field across all instances. For example, it might be useful to be able to have access to a list of all instances of a particular class. A shared data field is called a *class attribute*. To define a class attribute, just put the attribute somewhere outside any defined functions."
     ]
    },
    {
     "cell_type": "code",
     "collapsed": false,
     "input": [
      "class Student( object ):\n",
      "    \n",
      "    # This is a class attribute; a single list shared by all instances\n",
      "    list_of_students = []\n",
      "    \n",
      "    def __init__( self, first_name=\"\", last_name=\"\" ):\n",
      "        self.fname = first_name\n",
      "        self.lname = last_name\n",
      "        print \"Data parsed for student\", self.fname, self.lname\n",
      "        # In this case we use a list as a class attribute to keep track of\n",
      "        # all the Student objects instantiated. \n",
      "        # Add myself to the global list of all students:\n",
      "        self.list_of_students.append( self )\n",
      "        \n",
      "    def CalcFinalGrade( self ):\n",
      "\t\tself.final_grade = 0.8 * ( self.hw1 + self.hw2 + self.hw3 + self.hw4 ) / 4 \\\n",
      "\t\t                   + 0.2 * self.final_proj\n",
      "    def PrintInfo( self ):\n",
      "        print '{}, {}: \\t {}'.format( self.lname, self.fname, self.final_grade )"
     ],
     "language": "python",
     "metadata": {},
     "outputs": [],
     "prompt_number": 105
    },
    {
     "cell_type": "code",
     "collapsed": false,
     "input": [
      "# See how the list changes every time we create a new Student?\n",
      "chris = Student(\"Chris\", \"Coletta\")\n",
      "print len(chris.list_of_students)\n",
      "ben = Student(\"Ben\", \"Busby\")\n",
      "print len(chris.list_of_students)\n",
      "ben = Student(\"Anatoly\", \"Dryga\")\n",
      "print len(chris.list_of_students)"
     ],
     "language": "python",
     "metadata": {},
     "outputs": [
      {
       "output_type": "stream",
       "stream": "stdout",
       "text": [
        "Data parsed for student Chris Coletta\n",
        "1\n",
        "Data parsed for student Ben Busby\n",
        "2\n",
        "Data parsed for student Anatoly Dryga\n",
        "3\n"
       ]
      }
     ],
     "prompt_number": 106
    },
    {
     "cell_type": "code",
     "collapsed": false,
     "input": [
      "# The list is shared across all instances\n",
      "chris.list_of_students is ben.list_of_students"
     ],
     "language": "python",
     "metadata": {},
     "outputs": [
      {
       "metadata": {},
       "output_type": "pyout",
       "prompt_number": 107,
       "text": [
        "True"
       ]
      }
     ],
     "prompt_number": 107
    },
    {
     "cell_type": "code",
     "collapsed": false,
     "input": [
      "# Another way to get at the list is via the class name:\n",
      "chris.list_of_students is Student.list_of_students"
     ],
     "language": "python",
     "metadata": {},
     "outputs": [
      {
       "metadata": {},
       "output_type": "pyout",
       "prompt_number": 108,
       "text": [
        "True"
       ]
      }
     ],
     "prompt_number": 108
    },
    {
     "cell_type": "markdown",
     "metadata": {},
     "source": [
      "## <a name=\"casestudy\">Case Study: Functional vs. Object Oriented approaches to parsing data</a>\n",
      "\n",
      "Now we will illustrate the different how the Object Oriented programming paradigm from the functional programming paradigm we've been using thus far this semester. For the purposes of this demo, let's write some tab-separated student data to a file:"
     ]
    },
    {
     "cell_type": "code",
     "collapsed": false,
     "input": [
      "raw_data = \"\"\"Coletta\tChris\tme@chriscoletta.com\t88\t87\t86\t85\t81\n",
      "Busby\tBen\tben@busby.com\t98\t99\t90\t100\t95\n",
      "Dryga\tAnatoly\tadryga@gmail.com\t77\t74\t72\t77\t78\n",
      "Shirley\tMatt\tmdshw5@gmail.com\t61\t69\t60\t64\t67\"\"\"\n",
      "\n",
      "with open( 'student_data.txt', 'w' ) as data_file:\n",
      "    data_file.write( raw_data )"
     ],
     "language": "python",
     "metadata": {},
     "outputs": [],
     "prompt_number": 47
    },
    {
     "cell_type": "markdown",
     "metadata": {},
     "source": [
      "### Functional programming version\n",
      "\n",
      "You could try to use a <code>dict</code> to emulate class functionality, but it's clunky especially if you're trying to keep functions related to a certain data type bundled with the data. The following program uses functional programming to read student data from a file, parse the data, save the data into a list of <code>dict</code>s, calculate the final grades, and print out the data."
     ]
    },
    {
     "cell_type": "code",
     "collapsed": false,
     "input": [
      "def CalcFinalGrade( hw1, hw2, hw3, hw4, final_proj ):\n",
      "\treturn 0.8 * ( hw1 + hw2 + hw3 + hw4 ) / 4 + 0.2 * final_proj\n",
      "\n",
      "def CreateStudentFromLineOfText( the_line ):\n",
      "    stu = {}\n",
      "    stu['lname'], stu['fname'], stu['email'], the_grades = the_line.split( '\\t', 3 )\n",
      "    stu['hw1'], stu['hw2'], stu['hw3'], stu['hw4'], stu['final_proj'] = \\\n",
      "\t\t\t         [ float( grade ) for grade in the_grades.split() ]\n",
      "    stu['final_grade'] = \\\n",
      "        CalcFinalGrade( stu['hw1'], stu['hw2'], stu['hw3'], stu['hw4'], stu['final_proj'] )\n",
      "    print \"Data parsed for student\", stu['fname'], stu['lname']\n",
      "    return stu\n",
      "\n",
      "def PrintStudentInfo( stu ):\n",
      "    print '{}, {}: \\t {}'.format(stu['lname'], stu['fname'], stu['final_grade'])\n",
      "\n",
      "student_list = []\n",
      "\n",
      "with open( 'student_data.txt' ) as the_file:\n",
      "    for the_line in the_file:\n",
      "        student_list.append( CreateStudentFromLineOfText( the_line ) )\n",
      "\n",
      "for stu in student_list:\n",
      "    PrintStudentInfo(stu)\n"
     ],
     "language": "python",
     "metadata": {},
     "outputs": [
      {
       "output_type": "stream",
       "stream": "stdout",
       "text": [
        "Data parsed for student Chris Coletta\n",
        "Data parsed for student Ben Busby\n",
        "Data parsed for student Anatoly Dryga\n",
        "Data parsed for student Matt Shirley\n",
        "Coletta, Chris: \t 85.4\n",
        "Busby, Ben: \t 96.4\n",
        "Dryga, Anatoly: \t 75.6\n",
        "Shirley, Matt: \t 64.2\n"
       ]
      }
     ],
     "prompt_number": 92
    },
    {
     "cell_type": "markdown",
     "metadata": {},
     "source": [
      "Here's the exact same thing, encapsulating all the aspects of the noun student into the class <code>Student</code>:"
     ]
    },
    {
     "cell_type": "code",
     "collapsed": false,
     "input": [
      "class Student( object ):\n",
      "    \n",
      "    list_of_students = []\n",
      "    \n",
      "    def __init__( self, line ):\n",
      "        self.lname, self.fname, self.email, grades = line.split( '\\t', 3 )\n",
      "        self.hw1, self.hw2, self.hw3, self.hw4, self.final_proj = \\\n",
      "\t\t\t\t[ float( grade ) for grade in grades.split('\\t') ]\n",
      "        self.CalcFinalGrade()\n",
      "        self.list_of_students.append(self)\n",
      "        print \"Data parsed for student\", self.fname, self.lname\n",
      "        \n",
      "    def CalcFinalGrade( self ):\n",
      "\t\tself.final_grade = 0.8 * ( self.hw1 + self.hw2 + self.hw3 + self.hw4 ) / 4 \\\n",
      "\t\t                   + 0.2 * self.final_proj\n",
      "    def PrintInfo( self ):\n",
      "        print '{}, {}: \\t {}'.format( self.lname, self.fname, self.final_grade )\n",
      "        \n",
      "with open( 'student_data.txt' ) as the_file:\n",
      "    for the_line in the_file:\n",
      "        Student( the_line )\n",
      "\n",
      "for stu in Student.list_of_students:\n",
      "    stu.PrintInfo()"
     ],
     "language": "python",
     "metadata": {},
     "outputs": [
      {
       "output_type": "stream",
       "stream": "stdout",
       "text": [
        "Data parsed for student Chris Coletta\n",
        "Data parsed for student Ben Busby\n",
        "Data parsed for student Anatoly Dryga\n",
        "Data parsed for student Matt Shirley\n",
        "Coletta, Chris: \t 85.4\n",
        "Busby, Ben: \t 96.4\n",
        "Dryga, Anatoly: \t 75.6\n",
        "Shirley, Matt: \t 64.2\n"
       ]
      }
     ],
     "prompt_number": 73
    },
    {
     "cell_type": "markdown",
     "metadata": {},
     "source": [
      "## <a name=\"special\">More about \"special\" methods</a>\n",
      "\n",
      "The special methods are \"hooks\" which are called at certain times. Certain features of the Python language get \"turned-on\" when you implement them. The more special methods you implement for your class, the more your class will look and behave like a built-in Python object.\n",
      "\n",
      "One of the easiest and most useful methods you can implement for your class is the <code>\\_\\_repr\\_\\_</code> or string representation method, which defines what gets printed out when you try to print your object."
     ]
    },
    {
     "cell_type": "code",
     "collapsed": false,
     "input": [
      "# Remember, we set up a class attribute on the Student class to\n",
      "# keep track of all the instances of Student?\n",
      "Student.list_of_students"
     ],
     "language": "python",
     "metadata": {},
     "outputs": [
      {
       "metadata": {},
       "output_type": "pyout",
       "prompt_number": 74,
       "text": [
        "[<__main__.Student at 0x102574350>,\n",
        " <__main__.Student at 0x102574290>,\n",
        " <__main__.Student at 0x102574310>,\n",
        " <__main__.Student at 0x102574390>]"
       ]
      }
     ],
     "prompt_number": 74
    },
    {
     "cell_type": "markdown",
     "metadata": {},
     "source": [
      "All that memory address gobbledy-gook isn't very helpful in telling us which object contains which student's info. So let's again redefine the class, implementing the <code>\\_\\_repr\\_\\_</code> which will get called whenever we print the object to the screen. And let's also make it fancy and have it print out which student it is in terms of class attribute instance list index order:"
     ]
    },
    {
     "cell_type": "code",
     "collapsed": false,
     "input": [
      "class Student( object ):\n",
      "    list_of_students = []\n",
      "    def __init__( self, line ):\n",
      "        self.lname, self.fname, self.email, grades = line.split( '\\t', 3 )\n",
      "        self.hw1, self.hw2, self.hw3, self.hw4, self.final_proj = \\\n",
      "\t\t\t\t[ float( grade ) for grade in grades.split('\\t') ]\n",
      "        self.CalcFinalGrade()\n",
      "        self.list_of_students.append(self)\n",
      "        print \"Data parsed for student\", self.fname, self.lname\n",
      "    def CalcFinalGrade( self ):\n",
      "\t\tself.final_grade = 0.8 * ( self.hw1 + self.hw2 + self.hw3 + self.hw4 ) / 4 \\\n",
      "\t\t                   + 0.2 * self.final_proj\n",
      "    def PrintInfo( self ):\n",
      "        print '{}, {}: \\t {}'.format( self.lname, self.fname, self.final_grade )\n",
      "    # ******* NEW! ***********\n",
      "    def __repr__( self ):\n",
      "        student_number = self.list_of_students.index( self )\n",
      "        return \"Student #{}: {} {}\".format(student_number, self.fname, self.lname)"
     ],
     "language": "python",
     "metadata": {},
     "outputs": [],
     "prompt_number": 117
    },
    {
     "cell_type": "code",
     "collapsed": false,
     "input": [
      "for line in raw_data.split('\\n'):\n",
      "    Student(line)"
     ],
     "language": "python",
     "metadata": {},
     "outputs": [
      {
       "output_type": "stream",
       "stream": "stdout",
       "text": [
        "Data parsed for student Chris Coletta\n",
        "Data parsed for student Ben Busby\n",
        "Data parsed for student Anatoly Dryga\n",
        "Data parsed for student Matt Shirley\n"
       ]
      }
     ],
     "prompt_number": 118
    },
    {
     "cell_type": "code",
     "collapsed": false,
     "input": [
      "# The __repr__ functions defines the pretty print style\n",
      "# See how the output here is different from before?\n",
      "Student.list_of_students"
     ],
     "language": "python",
     "metadata": {},
     "outputs": [
      {
       "metadata": {},
       "output_type": "pyout",
       "prompt_number": 111,
       "text": [
        "[Student #0: Chris Coletta,\n",
        " Student #1: Ben Busby,\n",
        " Student #2: Anatoly Dryga,\n",
        " Student #3: Matt Shirley]"
       ]
      }
     ],
     "prompt_number": 111
    },
    {
     "cell_type": "markdown",
     "metadata": {},
     "source": [
      "Here's a crazy example: when you implement the <code>\\_\\_len\\_\\_</code> special method, that unlocks the <code>len()</code> functionality for that object. Not that it makes any sense to do so, but let's define the \"length\" of a student to be the number of characters in the student's name:"
     ]
    },
    {
     "cell_type": "code",
     "collapsed": false,
     "input": [
      "# Not defined yet\n",
      "len(chris)"
     ],
     "language": "python",
     "metadata": {},
     "outputs": [
      {
       "ename": "TypeError",
       "evalue": "object of type 'Student' has no len()",
       "output_type": "pyerr",
       "traceback": [
        "\u001b[0;31m---------------------------------------------------------------------------\u001b[0m\n\u001b[0;31mTypeError\u001b[0m                                 Traceback (most recent call last)",
        "\u001b[0;32m<ipython-input-113-6c32904d890e>\u001b[0m in \u001b[0;36m<module>\u001b[0;34m()\u001b[0m\n\u001b[1;32m      1\u001b[0m \u001b[0;31m# Not defined yet\u001b[0m\u001b[0;34m\u001b[0m\u001b[0;34m\u001b[0m\u001b[0m\n\u001b[0;32m----> 2\u001b[0;31m \u001b[0mlen\u001b[0m\u001b[0;34m(\u001b[0m\u001b[0mchris\u001b[0m\u001b[0;34m)\u001b[0m\u001b[0;34m\u001b[0m\u001b[0m\n\u001b[0m",
        "\u001b[0;31mTypeError\u001b[0m: object of type 'Student' has no len()"
       ]
      }
     ],
     "prompt_number": 113
    },
    {
     "cell_type": "code",
     "collapsed": false,
     "input": [
      "class Student( object ):\n",
      "    list_of_students = []\n",
      "    def __init__( self, line ):\n",
      "        self.lname, self.fname, self.email, grades = line.split( '\\t', 3 )\n",
      "        self.hw1, self.hw2, self.hw3, self.hw4, self.final_proj = \\\n",
      "\t\t\t\t[ float( grade ) for grade in grades.split('\\t') ]\n",
      "        self.CalcFinalGrade()\n",
      "        self.list_of_students.append(self)\n",
      "        print \"Data parsed for student\", self.fname, self.lname\n",
      "    def CalcFinalGrade( self ):\n",
      "\t\tself.final_grade = 0.8 * ( self.hw1 + self.hw2 + self.hw3 + self.hw4 ) / 4 \\\n",
      "\t\t                   + 0.2 * self.final_proj\n",
      "    def PrintInfo( self ):\n",
      "        print '{}, {}: \\t {}'.format( self.lname, self.fname, self.final_grade )\n",
      "    def __repr__( self ):\n",
      "        student_number = self.list_of_students.index( self )\n",
      "        return \"Student #{}: {} {}\".format(student_number, self.fname, self.lname)\n",
      "    # ******* NEW! ***********\n",
      "    def __len__(self):\n",
      "        \"Defining the length of a Student object\"\n",
      "        return len( self.fname ) + len( self.lname ) # fname and lname are strings\n",
      "                                                     # and len() is already defined for strings"
     ],
     "language": "python",
     "metadata": {},
     "outputs": [],
     "prompt_number": 114
    },
    {
     "cell_type": "code",
     "collapsed": false,
     "input": [
      "chris = Student(\"Coletta\tChris\tme@chriscoletta.com\t88\t87\t86\t85\t81\")\n",
      "len(chris)"
     ],
     "language": "python",
     "metadata": {},
     "outputs": [
      {
       "output_type": "stream",
       "stream": "stdout",
       "text": [
        "Data parsed for student Chris Coletta\n"
       ]
      },
      {
       "metadata": {},
       "output_type": "pyout",
       "prompt_number": 115,
       "text": [
        "12"
       ]
      }
     ],
     "prompt_number": 115
    },
    {
     "cell_type": "markdown",
     "metadata": {},
     "source": [
      "Here's another example. The Python addition operator <code>+</code> \"turns on\" for your object when you implement the <code>\\_\\_add\\_\\_</code>. Let's create an object that emulates the adding behavior of a built-in Python integer:"
     ]
    },
    {
     "cell_type": "code",
     "collapsed": false,
     "input": [
      "class addable_thing( object ):\n",
      "\n",
      "  def __init__( self, value ):\n",
      "    self.val = value\n",
      "\n",
      "  def AddMeWithAnotherThing( self, other ):\n",
      "    return self.__class__( self.val + other.val )\n",
      "\n",
      "  def __add__( self, other ):\n",
      "    return self.AddMeWithAnotherThing( other )\n",
      "\n",
      "  def __repr__(self):\n",
      "    return \"addable_thing(\" + str(self.val) + \")\"\n",
      "\n",
      "val1 = addable_thing(42)\n",
      "val2 = addable_thing(53)\n",
      "\n",
      "val1 + val2"
     ],
     "language": "python",
     "metadata": {},
     "outputs": [
      {
       "metadata": {},
       "output_type": "pyout",
       "prompt_number": 80,
       "text": [
        "addable_thing(95)"
       ]
      }
     ],
     "prompt_number": 80
    },
    {
     "cell_type": "code",
     "collapsed": false,
     "input": [
      "# The subtract operator still hasn't been implemented, though!\n",
      "val2 - val1"
     ],
     "language": "python",
     "metadata": {},
     "outputs": [
      {
       "ename": "TypeError",
       "evalue": "unsupported operand type(s) for -: 'addable_thing' and 'addable_thing'",
       "output_type": "pyerr",
       "traceback": [
        "\u001b[0;31m---------------------------------------------------------------------------\u001b[0m\n\u001b[0;31mTypeError\u001b[0m                                 Traceback (most recent call last)",
        "\u001b[0;32m<ipython-input-81-88bec6e9fd16>\u001b[0m in \u001b[0;36m<module>\u001b[0;34m()\u001b[0m\n\u001b[1;32m      1\u001b[0m \u001b[0;31m# The subtract operator still hasn't been implemented, though!\u001b[0m\u001b[0;34m\u001b[0m\u001b[0;34m\u001b[0m\u001b[0m\n\u001b[0;32m----> 2\u001b[0;31m \u001b[0mval2\u001b[0m \u001b[0;34m-\u001b[0m \u001b[0mval1\u001b[0m\u001b[0;34m\u001b[0m\u001b[0m\n\u001b[0m",
        "\u001b[0;31mTypeError\u001b[0m: unsupported operand type(s) for -: 'addable_thing' and 'addable_thing'"
       ]
      }
     ],
     "prompt_number": 81
    },
    {
     "cell_type": "markdown",
     "metadata": {},
     "source": [
      "For a comprehensive list of all the special method names, as well as the shorthand Python syntax that the special methods hook into, refer to the [Special Method Names](https://docs.python.org/2/reference/datamodel.html#special-method-names) section of the Python documentation. A good place to start would be to check out the [Emulating Numeric Types](https://docs.python.org/2/reference/datamodel.html#emulating-numeric-types) subsection."
     ]
    },
    {
     "cell_type": "markdown",
     "metadata": {},
     "source": [
      "## <a name=\"sorting\">Sorting user-defined objects</a>\n",
      "\n",
      "In class I showed one way to change the sort order by implementing the <code>\\_\\_cmp\\_\\_</code> method. Forget about that, it's deprecated. Just use the key/lambda method of sorting objects like I demonstrated a few classes back. For more info see the [Sorting Mini-How-To](https://wiki.python.org/moin/HowTo/Sorting) in the Python documentation."
     ]
    },
    {
     "cell_type": "code",
     "collapsed": false,
     "input": [
      "# the list currently ordred by creation\n",
      "Student.list_of_students"
     ],
     "language": "python",
     "metadata": {},
     "outputs": [
      {
       "metadata": {},
       "output_type": "pyout",
       "prompt_number": 120,
       "text": [
        "[Student #0: Chris Coletta,\n",
        " Student #1: Ben Busby,\n",
        " Student #2: Anatoly Dryga,\n",
        " Student #3: Matt Shirley]"
       ]
      }
     ],
     "prompt_number": 120
    },
    {
     "cell_type": "code",
     "collapsed": false,
     "input": [
      "# Now sort based on last name\n",
      "sorted( Student.list_of_students, key=lambda student: student.lname )"
     ],
     "language": "python",
     "metadata": {},
     "outputs": [
      {
       "metadata": {},
       "output_type": "pyout",
       "prompt_number": 121,
       "text": [
        "[Student #1: Ben Busby,\n",
        " Student #0: Chris Coletta,\n",
        " Student #2: Anatoly Dryga,\n",
        " Student #3: Matt Shirley]"
       ]
      }
     ],
     "prompt_number": 121
    },
    {
     "cell_type": "code",
     "collapsed": false,
     "input": [
      "# Now sort based on final grade\n",
      "sorted( Student.list_of_students, key=lambda student: student.final_grade )"
     ],
     "language": "python",
     "metadata": {},
     "outputs": [
      {
       "metadata": {},
       "output_type": "pyout",
       "prompt_number": 122,
       "text": [
        "[Student #3: Matt Shirley,\n",
        " Student #2: Anatoly Dryga,\n",
        " Student #0: Chris Coletta,\n",
        " Student #1: Ben Busby]"
       ]
      }
     ],
     "prompt_number": 122
    }
   ],
   "metadata": {}
  }
 ]
}