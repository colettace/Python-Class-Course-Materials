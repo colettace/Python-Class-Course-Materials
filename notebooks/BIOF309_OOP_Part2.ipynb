{
 "metadata": {
  "name": "",
  "signature": "sha256:de8907ab0a261ab795076206671ca107318c84957b56cbd66667208a174602d9"
 },
 "nbformat": 3,
 "nbformat_minor": 0,
 "worksheets": [
  {
   "cells": [
    {
     "cell_type": "markdown",
     "metadata": {},
     "source": [
      "# BIOF 309 - Introduction to Python\n",
      "## Object Oriented Programming - Part 2\n",
      "\n",
      "### Table Of Contents\n",
      "1. [Review: why classes again?](#review)\n",
      "2. [Anatomy of a class](#anatomy)\n",
      "3. [The Constructor Problem](#ctor)\n",
      "4. [Data Hiding and Interfaces](#interface)\n",
      "4. [Inheritance](#inheritance)\n",
      "5. [Exceptions are classes, too](#exceptions)\n",
      "5. [Abstract Base Class](#ABC)\n",
      "6. [Homework 4: Nucleotide to Amino Acid Translator](#hw4)\n",
      "\n",
      "---"
     ]
    },
    {
     "cell_type": "markdown",
     "metadata": {},
     "source": [
      "## <a name=\"review\">Review: why classes again?</code>\n",
      "\n",
      "Simple collections are good, but nested collections can be a pain "
     ]
    },
    {
     "cell_type": "markdown",
     "metadata": {},
     "source": [
      "## <a name=\"anatomy\">The anatomy of a class</a>\n",
      "\n",
      "- Predicate Methods = Return True or False\n",
      "- Access methods - get something\n",
      "- Modification methods - set something\n",
      "- action methods\n",
      "- private support methods"
     ]
    },
    {
     "cell_type": "code",
     "collapsed": false,
     "input": [
      "# !!!!!!!!!!!!!!!WARNING!!!!!!!!!!!!!!!!!!!!!!\n",
      "# THE FOLLOWING IS PSEUDOCODE AND DOES NOT\n",
      "# REPRESENT PROPER PYTHON SYNTAX!!!!!!!!!!!! \n",
      "\n",
      "class ExampleClass( object ):\n",
      "    \"\"\"This is the class docstring\"\"\"\n",
      "\n",
      "    # Some Fundamental Methods:\n",
      "\n",
      "    def __init__( self, ... ):\n",
      "        \"\"\"Initialization Method\"\"\"\n",
      "        # initialize new instance's fields\n",
      "        # no return\n",
      "        self.valueA = ...\n",
      "        self.valueB = ...\n",
      "        self._private_value = ...\n",
      "\n",
      "    def __repr__( self ):\n",
      "        \"\"\"The String used by the interpreter to print instances\"\"\"\n",
      "        return ...\n",
      "\n",
      "    def __str__( self ):\n",
      "        \"\"\"string used by print and str()\"\"\"\n",
      "        return ...\n",
      "\n",
      "    # Predicate Methods:\n",
      "    # Methods that return only True or False\n",
      "\n",
      "    def __lt__( self, other_instance ):\n",
      "        \"\"\"The method called by sorted() and list.sort() when\n",
      "           no key arument is provided.\"\"\"\n",
      "        if type( self ) != type( other_instance ):\n",
      "            raise TypeError( 'Incompatible argument to __lt__: ' + str( other_instance ) )\n",
      "        return self.get_something() < other_instance.get_something()\n",
      "\n",
      "    def is_some_characteristic( self ):\n",
      "        return # True or False\n",
      "\n",
      "    def isPassing( self ):\n",
      "        if self.final_grade >= 60:\n",
      "            return True\n",
      "        return False\n",
      "\n",
      "    # Access Methods\n",
      "\n",
      "    def get_something( self ):\n",
      "        return  # value obtained by one of:\n",
      "                # accessing a field\n",
      "                # lookup by key\n",
      "                # computation\n",
      "                # filtering a collection\n",
      "                # searching a collection\n",
      "\n",
      "    # Modification Methods\n",
      "\n",
      "    def set_something( self, ... ):\n",
      "        \"\"\"Change the value of one or more fields passed on the parameters\n",
      "        supplied in the call. Generally no return value\"\"\"\n",
      "\n",
      "    # Action Methods\n",
      "    def do_something( self, ... ):\n",
      "        \"\"\"Do something that has effects outside the class\"\"\"\n",
      "\n",
      "    # Private Support Methods\n",
      "    def _helper_method( self ):\n",
      "        \"\"\"Something used by other methods of the class only\"\"\"\n",
      "    "
     ],
     "language": "python",
     "metadata": {},
     "outputs": [
      {
       "ename": "SyntaxError",
       "evalue": "invalid syntax (<ipython-input-4-12bccd3891b2>, line 10)",
       "output_type": "pyerr",
       "traceback": [
        "\u001b[0;36m  File \u001b[0;32m\"<ipython-input-4-12bccd3891b2>\"\u001b[0;36m, line \u001b[0;32m10\u001b[0m\n\u001b[0;31m    def __init__( self, ... ):\u001b[0m\n\u001b[0m                        ^\u001b[0m\n\u001b[0;31mSyntaxError\u001b[0m\u001b[0;31m:\u001b[0m invalid syntax\n"
       ]
      }
     ],
     "prompt_number": 4
    },
    {
     "cell_type": "markdown",
     "metadata": {},
     "source": [
      "## <a name=\"ctor\">The Constructor Problem</a>\n",
      "\n",
      "- What if there are two or more types of inputs from which a Student could have its data attributes initialized?\n",
      "    - Previously we would pass the constructor a single tab delimited string which would be parsed (because we were reading lines of input from a file)\n",
      "    - What if we \n",
      "Use a [decorator](http://simeonfranklin.com/blog/2012/jul/1/python-decorators-in-12-steps/). dynamically alter the functionality of a function, method, or class without having to directly use subclasses or change the source code of the function being decorated\n",
      "\n",
      "example: define a decorator which calls the decorated function 10 times "
     ]
    },
    {
     "cell_type": "code",
     "collapsed": false,
     "input": [
      "class Cheer( object ):\n",
      "\n",
      "    def __init__( self, what_to_say ):\n",
      "        print \"Initializing!!!\"\n",
      "        self.the_cheer = what_to_say\n",
      "\n",
      "    @classmethod\n",
      "    def NewHoorayCheer( cls ):\n",
      "        print \"Making a new hooray!\"\n",
      "        return cls( \"Hooray!\" )\n",
      "\n",
      "    @classmethod\n",
      "    def NewYipeeCheer( cls ):\n",
      "        print \"Making a new Yipee\"\n",
      "        return cls( \"Yipee!\" )"
     ],
     "language": "python",
     "metadata": {},
     "outputs": [],
     "prompt_number": 4
    },
    {
     "cell_type": "code",
     "collapsed": false,
     "input": [
      "first_cheer = Cheer.NewHoorayCheer()\n",
      "second_cheer = Cheer.NewYipeeCheer()"
     ],
     "language": "python",
     "metadata": {},
     "outputs": [
      {
       "output_type": "stream",
       "stream": "stdout",
       "text": [
        "Making a new hooray!\n",
        "Initializing!!!\n",
        "Making a new Yipee\n",
        "Initializing!!!\n"
       ]
      }
     ],
     "prompt_number": 6
    },
    {
     "cell_type": "markdown",
     "metadata": {},
     "source": [
      "Now here's our Student example from Part 1 where there are multiple ways to instantiate an object."
     ]
    },
    {
     "cell_type": "code",
     "collapsed": false,
     "input": [
      "class Student( object ):\n",
      "    \"\"\"This is the docstring of the Student object\"\"\"\n",
      "\n",
      "    # Class attributes go out here:\n",
      "    # This time we'll just keep track of how many Student instances there are\n",
      "    num_students = 0\n",
      "\n",
      "    def __init__( self ):\n",
      "        \"\"\"This is the initializer method.\"\"\"\n",
      "        self.lname = None\n",
      "        self.fname = None\n",
      "        self.email = None\n",
      "        self.hw1 = None\n",
      "        self.hw2 = None\n",
      "        self.hw3 = None\n",
      "        self.hw4 = None\n",
      "        self.final_proj = None\n",
      "        self.final_grade = None\n",
      "\n",
      "        Student.num_students += 1\n",
      "\n",
      "    @classmethod\n",
      "    def NewFromString( cls, the_string ):\n",
      "        the_new_student = cls()\n",
      "        the_new_student.lname, the_new_student.fname, the_new_student.email, grades =\\\n",
      "            the_string.split( ' ', 3)\n",
      "        the_new_student.hw1, the_new_student.hw2, the_new_student.hw3,\\\n",
      "            the_new_student.hw4, the_new_student.final_proj = \\\n",
      "            [ float( grade ) for grade in grades.split() ]\n",
      "        return the_new_student\n",
      "\n",
      "    @classmethod\n",
      "    def NewFromTuple( cls, the_tuple ):\n",
      "        the_new_student = cls()\n",
      "        the_new_student.lname = the_tuple[0]\n",
      "        the_new_student.fname = the_tuple[1]\n",
      "        the_new_student.email = the_tuple[2]\n",
      "        the_new_student.hw1, the_new_student.hw2, the_new_student.hw3, \\\n",
      "            the_new_student.hw4 = the_tuple[3]\t\n",
      "        the_new_student.final_proj = the_tuple[4]\n",
      "        return the_new_student\n",
      "\n",
      "\n",
      "    def CalcFinalGrade( self ):\n",
      "        \"\"\"This method calculates the final grade and saves it in self.final_grade\"\"\"\n",
      "        self.final_grade = 0.8 * ( self.hw1 + self.hw2 + self.hw3 + self.hw4 ) / 4 \\\n",
      "                           + 0.2 * self.final_proj\n",
      "\n",
      "    def EmailFinalGrade( self, email_conn ):\n",
      "        \"\"\"This takes an email connection as an argument \n",
      "        and sends the student his/her grade\"\"\"\n",
      "        message = \"{}, you got a {}!\".format( self.fname, self.final_grade )\n",
      "        email_conn.sendmail( 'chris@gmail.com', [self.stu_email], message )\n",
      "\n",
      "    def __repr__( self ):\n",
      "        return \"{} {} (final grade: {})\".format( self.fname, self.lname, self.final_grade )\n"
     ],
     "language": "python",
     "metadata": {},
     "outputs": [],
     "prompt_number": 2
    },
    {
     "cell_type": "markdown",
     "metadata": {},
     "source": [
      "### <a name=\"interface\">Data hiding and interfaces</a>\n",
      "\n",
      "Goal: create stable interface points for the different parts fo the program so that a change in one part of the program won't break the whole thing.\n",
      "\n",
      "Purpose: Code maintainability. Allows code reuse of components between projects. Testing of components. [Software architecture](http://en.wikipedia.org/wiki/Software_architecture).\n",
      "\n",
      "Value: Obamacare technical issues.\n",
      "\n",
      "![\"The basic architecture of the site ... was flawed in design, poorly tested and ultimately not functional.\"](http://www.chriscoletta.com/biof309/ObamacareTechnicalProblemsTimeArticleScreenshot.jpg)\n",
      "\n",
      "users of an object, called the *[client](http://en.wikipedia.org/wiki/Client_%28computing%29)*\n",
      "\n",
      "\n",
      "[interface](http://en.wikipedia.org/wiki/Interface_%28computing%29#Software_interfaces_in_practice) - allowing access only through well-defined entry points.\n",
      "\n",
      "[information hiding](http://en.wikipedia.org/wiki/Information_hiding) - prevent certain aspects of a class or software component from being accessible to its clients\n",
      "\n",
      "[abstraction](http://en.wikipedia.org/wiki/Abstraction_%28computer_science%29) - separating ideas from the details of how they work.\n",
      "\n",
      "[encapsulation](http://en.wikipedia.org/wiki/Encapsulation_%28object-oriented_programming%29)\n",
      "public vs. private\n",
      "\n",
      "\n",
      " \n",
      "\n",
      "Key concept: members and attributes used by the public, vs member and attributes that are meant for internal use only\n",
      "\n",
      "    by convention members starting with underscore not supposed to be used by the public \n",
      "\n",
      "python convention: don't use variables/functions that start with _, i.e., those functions aren't part of the interface "
     ]
    },
    {
     "cell_type": "markdown",
     "metadata": {},
     "source": [
      "## <a name=\"inheritance\">Inheritance</a>\n",
      "\n",
      "One way to define how your class behaves is through implementing magic methods, the other is to inherit from another class\n",
      "\n",
      "Three ways that the parent and child classes can interact: Actions on the child imply an action on the parent. Actions on the child override the action on the parent. Actions on the child alter the action on the parent.\n",
      "\n",
      "\n",
      "reasons: factor out common code\n",
      "subclass\n",
      "you can subclass built in types\n",
      "e.g., extend list object to contain methods\treturning only the odds or only the evens.\n",
      "subclass list type to return evens() and odds()"
     ]
    },
    {
     "cell_type": "code",
     "collapsed": false,
     "input": [
      "class evens(list):\n",
      "    pass"
     ],
     "language": "python",
     "metadata": {},
     "outputs": [],
     "prompt_number": 2
    },
    {
     "cell_type": "markdown",
     "metadata": {},
     "source": [
      "isa() vs hasa()\n",
      "isinstance() vs. type()\n",
      "issubclass()\n",
      "overloaded\n",
      "multiple inheritance many frown upon this\n",
      "using super()\n",
      "help() will show what methods are defined where\n",
      "compositon\n",
      "aAphrase to say that something inherits from another, as in a Salmon is-a Fish"
     ]
    },
    {
     "cell_type": "markdown",
     "metadata": {},
     "source": [
      "## <a name=\"exceptions\">Exceptions are classes, too</a>\n",
      "\n",
      "Exceptions have an inheritance pattern"
     ]
    },
    {
     "cell_type": "markdown",
     "metadata": {},
     "source": [
      "# <a name=\"ABC\">Abstract Base Classes</a>\n",
      "\n",
      "[Abstract Data Type](http://en.wikipedia.org/wiki/Abstract_data_types)\n",
      "\n",
      "A class that describes how its children classes will behave, but leaves the implementation details up to the children. \n",
      "[Design by contract](http://en.wikipedia.org/wiki/Design_by_contract):  \u2013  Any object that inherits from an abstract base class is required to implement \n",
      "Examples\n",
      "class mammal, method speak\n",
      "class shape, method area \n",
      "Opposite of Abstract class = Concrete class "
     ]
    },
    {
     "cell_type": "markdown",
     "metadata": {},
     "source": [
      "## <a name=\"hw4\">Homework 4 Discussion</a>\n",
      "\n",
      "implement"
     ]
    },
    {
     "cell_type": "code",
     "collapsed": false,
     "input": [],
     "language": "python",
     "metadata": {},
     "outputs": []
    }
   ],
   "metadata": {}
  }
 ]
}