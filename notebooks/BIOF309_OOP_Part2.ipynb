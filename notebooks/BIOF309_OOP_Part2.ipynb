{
 "metadata": {
  "name": "",
  "signature": "sha256:6072aaba3d3901ff6cbd131fb10692071d41895fc764dfa59163fad2320b47bf"
 },
 "nbformat": 3,
 "nbformat_minor": 0,
 "worksheets": [
  {
   "cells": [
    {
     "cell_type": "markdown",
     "metadata": {},
     "source": [
      "# BIOF 309 - Introduction to Python\n",
      "## Object Oriented Programming - Part 2\n",
      "\n",
      "### Table Of Contents\n",
      "1. [Review: why classes again?](#review)\n",
      "2. [Anatomy of a class](#anatomy)\n",
      "3. [The Constructor Problem](#ctor)\n",
      "4. [Data Hiding and Interfaces](#interface)\n",
      "4. [Inheritance](#inheritance)\n",
      "5. [Exceptions are classes, too](#exceptions)\n",
      "5. [Abstract Base Class](#ABC)\n",
      "6. [Homework 4: Nucleotide to Amino Acid Translator](#hw4)\n",
      "\n",
      "---"
     ]
    },
    {
     "cell_type": "markdown",
     "metadata": {},
     "source": [
      "## <a name=\"review\">Review: why classes again?</a>\n",
      "\n",
      "- Simple collections are good, but nested collections can be a pain \n",
      "- [Class](http://en.wikipedia.org/wiki/Class_%28computer_programming%29) - An extensible template for creating objects, providing initial values for state (member variables) and implementations of behavior (member functions, methods). \n"
     ]
    },
    {
     "cell_type": "markdown",
     "metadata": {},
     "source": [
      "## <a name=\"anatomy\">The anatomy of a class</a>\n",
      "\n",
      "- Predicate Methods = Return True or False\n",
      "- Access methods - get something\n",
      "- Modification methods - set something\n",
      "- action methods\n",
      "- private support methods"
     ]
    },
    {
     "cell_type": "code",
     "collapsed": false,
     "input": [
      "# !!!!!!!!!!!!!!!WARNING!!!!!!!!!!!!!!!!!!!!!!\n",
      "# THE FOLLOWING IS PSEUDOCODE AND DOES NOT\n",
      "# REPRESENT PROPER PYTHON SYNTAX!!!!!!!!!!!! \n",
      "\n",
      "class ExampleClass( object ):\n",
      "    \"\"\"This is the class docstring\"\"\"\n",
      "\n",
      "    # Some Fundamental Methods:\n",
      "\n",
      "    def __init__( self, ... ):\n",
      "        \"\"\"Initialization Method\"\"\"\n",
      "        # initialize new instance's fields\n",
      "        # no return\n",
      "        self.valueA = ...\n",
      "        self.valueB = ...\n",
      "        self._private_value = ...\n",
      "\n",
      "    def __repr__( self ):\n",
      "        \"\"\"The String used by the interpreter to print instances\"\"\"\n",
      "        return ...\n",
      "\n",
      "    def __str__( self ):\n",
      "        \"\"\"string used by print and str()\"\"\"\n",
      "        return ...\n",
      "\n",
      "    # Predicate Methods:\n",
      "    # Methods that return only True or False\n",
      "\n",
      "    def __lt__( self, other_instance ):\n",
      "        \"\"\"The method called by sorted() and list.sort() when\n",
      "           no key arument is provided.\"\"\"\n",
      "        if type( self ) != type( other_instance ):\n",
      "            raise TypeError( 'Incompatible argument to __lt__: ' + str( other_instance ) )\n",
      "        return self.get_something() < other_instance.get_something()\n",
      "\n",
      "    def is_some_characteristic( self ):\n",
      "        return # True or False\n",
      "\n",
      "    def isPassing( self ):\n",
      "        if self.final_grade >= 60:\n",
      "            return True\n",
      "        return False\n",
      "\n",
      "    # Access Methods\n",
      "\n",
      "    def get_something( self ):\n",
      "        return  # value obtained by one of:\n",
      "                # accessing a field\n",
      "                # lookup by key\n",
      "                # computation\n",
      "                # filtering a collection\n",
      "                # searching a collection\n",
      "\n",
      "    # Modification Methods\n",
      "\n",
      "    def set_something( self, ... ):\n",
      "        \"\"\"Change the value of one or more fields passed on the parameters\n",
      "        supplied in the call. Generally no return value\"\"\"\n",
      "\n",
      "    # Action Methods\n",
      "    def do_something( self, ... ):\n",
      "        \"\"\"Do something that has effects outside the class\"\"\"\n",
      "\n",
      "    # Private Support Methods\n",
      "    def _helper_method( self ):\n",
      "        \"\"\"Something used by other methods of the class only\"\"\"\n",
      "    "
     ],
     "language": "python",
     "metadata": {},
     "outputs": [
      {
       "ename": "SyntaxError",
       "evalue": "invalid syntax (<ipython-input-4-12bccd3891b2>, line 10)",
       "output_type": "pyerr",
       "traceback": [
        "\u001b[0;36m  File \u001b[0;32m\"<ipython-input-4-12bccd3891b2>\"\u001b[0;36m, line \u001b[0;32m10\u001b[0m\n\u001b[0;31m    def __init__( self, ... ):\u001b[0m\n\u001b[0m                        ^\u001b[0m\n\u001b[0;31mSyntaxError\u001b[0m\u001b[0;31m:\u001b[0m invalid syntax\n"
       ]
      }
     ],
     "prompt_number": 4
    },
    {
     "cell_type": "markdown",
     "metadata": {},
     "source": [
      "## <a name=\"ctor\">The Student class and the Constructor Problem</a>\n",
      "\n",
      "Up till now, to instantiate an object of type <code>Student</code>, we would pass to the constructor a single tab delimited string which would be parsed (because we were reading lines of input from a file):\n",
      "\n",
      "    ben = Student( \"Busby\tBen\tben@busby.com\t98\t99\t90\t100\t95\" )\n",
      "\n",
      "What if there are two or more types of inputs from which a Student could have its data attributes initialized? For example, instantiate a <code>Student</code> class, initializing its data attributes using a nested tuple of tuples\n",
      "\n",
      "    ben = Student( ('Busby', 'Ben', 'ben@busby.com', (98, 99, 90, 100), 95) )\n",
      "\n",
      "Solution: Define a method for each type of source data and use the <code>@classmethod</code> [decorator](http://simeonfranklin.com/blog/2012/jul/1/python-decorators-in-12-steps/)."
     ]
    },
    {
     "cell_type": "markdown",
     "metadata": {},
     "source": [
      "### And now, a mini-unit on decorators!\n",
      "\n",
      "Decorators: just a function wrapper!\n",
      "\n",
      "To review:\n",
      "- First, in Python functions can be nested, i.e., declare one function inside of another!"
     ]
    },
    {
     "cell_type": "code",
     "collapsed": false,
     "input": [
      "def TheOuterFunction( some_string ):\n",
      "    \"\"\"An example of a function that declares and uses a function inside its own scope\"\"\"\n",
      "    \n",
      "    def TheInnerFunction():\n",
      "        print \"Printed from the inner function:\", some_string\n",
      "\n",
      "    TheInnerFunction()\n",
      "    print \"Printed from the outer function.\"\n",
      "    \n",
      "    \n",
      "TheOuterFunction( \"What's goin on?!?\" )"
     ],
     "language": "python",
     "metadata": {},
     "outputs": [
      {
       "output_type": "stream",
       "stream": "stdout",
       "text": [
        "Printed from the inner function: What's goin on?!?\n",
        "Printed from the outer function.\n"
       ]
      }
     ],
     "prompt_number": 7
    },
    {
     "cell_type": "markdown",
     "metadata": {},
     "source": [
      "- Second, functions can also take other functions ars arguments!"
     ]
    },
    {
     "cell_type": "code",
     "collapsed": false,
     "input": [
      "def ASimpleFunction():\n",
      "    print \"This was simple\"\n",
      "\n",
      "def AFunctionWrapper( some_function ):\n",
      "    print \"Entering wrapped function\"\n",
      "    some_function()\n",
      "    print \"Finished running the wrapped function\"\n",
      "    \n",
      "AFunctionWrapper( ASimpleFunction )"
     ],
     "language": "python",
     "metadata": {},
     "outputs": [
      {
       "output_type": "stream",
       "stream": "stdout",
       "text": [
        "Entering wrapped function\n",
        "This was simple\n",
        "Finished running the wrapped function\n"
       ]
      }
     ],
     "prompt_number": 9
    },
    {
     "cell_type": "markdown",
     "metadata": {},
     "source": [
      "- Third, functions can return other functions!"
     ]
    },
    {
     "cell_type": "code",
     "collapsed": false,
     "input": [
      "def Make_Me_A_New_Function( ):\n",
      "    print \"Commin' right up!\"\n",
      "    def TheNewFunction():\n",
      "        print \"The function made me!\"\n",
      "    return TheNewFunction\n",
      "\n",
      "new_fn = Make_Me_A_New_Function()\n",
      "\n",
      "new_fn()"
     ],
     "language": "python",
     "metadata": {},
     "outputs": [
      {
       "output_type": "stream",
       "stream": "stdout",
       "text": [
        "Commin' right up!\n",
        "The function made me!\n"
       ]
      }
     ],
     "prompt_number": 11
    },
    {
     "cell_type": "markdown",
     "metadata": {},
     "source": [
      "- Put all three together and you have a decorator!"
     ]
    },
    {
     "cell_type": "code",
     "collapsed": false,
     "input": [
      "def DecorateThis( input_function ):\n",
      "    \"\"\"Runs the input function and returns its return value incremented by 1.\"\"\"\n",
      "    \n",
      "    def TheReplacementFunction():\n",
      "        print \"Now running replacement function!\"\n",
      "        ret_val = input_function()\n",
      "        return ret_val + 1\n",
      "    return TheReplacementFunction\n",
      "\n",
      "def OriginalFunction():\n",
      "    print \"Now running original function!\"\n",
      "    return 1\n",
      "\n",
      "decorated = DecorateThis( OriginalFunction )"
     ],
     "language": "python",
     "metadata": {},
     "outputs": []
    },
    {
     "cell_type": "code",
     "collapsed": false,
     "input": [
      "print OriginalFunction()"
     ],
     "language": "python",
     "metadata": {},
     "outputs": [
      {
       "output_type": "stream",
       "stream": "stdout",
       "text": [
        "Now running original function!\n",
        "1\n"
       ]
      }
     ],
     "prompt_number": 16
    },
    {
     "cell_type": "code",
     "collapsed": false,
     "input": [
      "print decorated()"
     ],
     "language": "python",
     "metadata": {},
     "outputs": [
      {
       "output_type": "stream",
       "stream": "stdout",
       "text": [
        "Now running replacement function!\n",
        "Now running original function!\n",
        "2\n"
       ]
      }
     ],
     "prompt_number": 17
    },
    {
     "cell_type": "code",
     "collapsed": false,
     "input": [
      "# Totally equivalent:\n",
      "\n"
     ],
     "language": "python",
     "metadata": {},
     "outputs": []
    },
    {
     "cell_type": "markdown",
     "metadata": {},
     "source": [
      "- Example: define a decorator which calls the decorated function 10 times"
     ]
    },
    {
     "cell_type": "code",
     "collapsed": false,
     "input": [
      "class Cheer( object ):\n",
      "\n",
      "    def __init__( self, what_to_say ):\n",
      "        print \"Initializing!!!\"\n",
      "        self.the_cheer = what_to_say\n",
      "\n",
      "    @classmethod\n",
      "    def NewHoorayCheer( cls ):\n",
      "        print \"Making a new hooray!\"\n",
      "        return cls( \"Hooray!\" )\n",
      "\n",
      "    @classmethod\n",
      "    def NewYipeeCheer( cls ):\n",
      "        print \"Making a new Yipee\"\n",
      "        return cls( \"Yipee!\" )"
     ],
     "language": "python",
     "metadata": {},
     "outputs": [],
     "prompt_number": 4
    },
    {
     "cell_type": "code",
     "collapsed": false,
     "input": [
      "first_cheer = Cheer.NewHoorayCheer()\n",
      "second_cheer = Cheer.NewYipeeCheer()"
     ],
     "language": "python",
     "metadata": {},
     "outputs": [
      {
       "output_type": "stream",
       "stream": "stdout",
       "text": [
        "Making a new hooray!\n",
        "Initializing!!!\n",
        "Making a new Yipee\n",
        "Initializing!!!\n"
       ]
      }
     ],
     "prompt_number": 6
    },
    {
     "cell_type": "markdown",
     "metadata": {},
     "source": [
      "Now here's our Student example from Part 1 where there are multiple ways to instantiate an object."
     ]
    },
    {
     "cell_type": "code",
     "collapsed": false,
     "input": [
      "class Student( object ):\n",
      "    \"\"\"This is the docstring of the Student object\"\"\"\n",
      "\n",
      "    # Class attributes go out here:\n",
      "    # This time we'll just keep track of how many Student instances there are\n",
      "    num_students = 0\n",
      "\n",
      "    def __init__( self ):\n",
      "        \"\"\"This is the initializer method.\"\"\"\n",
      "        self.lname = None\n",
      "        self.fname = None\n",
      "        self.email = None\n",
      "        self.hw1 = None\n",
      "        self.hw2 = None\n",
      "        self.hw3 = None\n",
      "        self.hw4 = None\n",
      "        self.final_proj = None\n",
      "        self.final_grade = None\n",
      "\n",
      "        Student.num_students += 1\n",
      "\n",
      "    @classmethod\n",
      "    def NewFromString( cls, the_string ):\n",
      "        the_new_student = cls()\n",
      "        the_new_student.lname, the_new_student.fname, the_new_student.email, grades =\\\n",
      "            the_string.split( ' ', 3)\n",
      "        the_new_student.hw1, the_new_student.hw2, the_new_student.hw3,\\\n",
      "            the_new_student.hw4, the_new_student.final_proj = \\\n",
      "            [ float( grade ) for grade in grades.split() ]\n",
      "        return the_new_student\n",
      "\n",
      "    @classmethod\n",
      "    def NewFromTuple( cls, the_tuple ):\n",
      "        the_new_student = cls()\n",
      "        the_new_student.lname = the_tuple[0]\n",
      "        the_new_student.fname = the_tuple[1]\n",
      "        the_new_student.email = the_tuple[2]\n",
      "        the_new_student.hw1, the_new_student.hw2, the_new_student.hw3, \\\n",
      "            the_new_student.hw4 = the_tuple[3]\n",
      "        the_new_student.final_proj = the_tuple[4]\n",
      "        return the_new_student\n",
      "\n",
      "\n",
      "    def CalcFinalGrade( self ):\n",
      "        \"\"\"This method calculates the final grade and saves it in self.final_grade\"\"\"\n",
      "        self.final_grade = 0.8 * ( self.hw1 + self.hw2 + self.hw3 + self.hw4 ) / 4 \\\n",
      "                           + 0.2 * self.final_proj\n",
      "\n",
      "    def EmailFinalGrade( self, email_conn ):\n",
      "        \"\"\"This takes an email connection as an argument \n",
      "        and sends the student his/her grade\"\"\"\n",
      "        message = \"{}, you got a {}!\".format( self.fname, self.final_grade )\n",
      "        email_conn.sendmail( 'chris@gmail.com', [self.stu_email], message )\n",
      "\n",
      "    def __repr__( self ):\n",
      "        return \"{} {} (final grade: {})\".format( self.fname, self.lname, self.final_grade )\n"
     ],
     "language": "python",
     "metadata": {},
     "outputs": [],
     "prompt_number": 2
    },
    {
     "cell_type": "markdown",
     "metadata": {},
     "source": [
      "## <a name=\"interface\">OOP using interfaces and data hiding</a>\n",
      "\n",
      "Main idea: The current dominant paradigm in [software architecture](http://en.wikipedia.org/wiki/Software_architecture) that involves create stable interface points for the different parts of the program so that a change in one part of the program won't break the entire program.\n",
      "\n",
      "Purpose:\n",
      "\n",
      "- Prevent [spaghetti code](http://en.wikipedia.org/wiki/Spaghetti_code) <-*great article!*\n",
      "- Facilitates [code maintainability](http://en.wikipedia.org/wiki/Maintainability).\n",
      "- Allows code reuse of components between projects.\n",
      "- Allows different parts of the code to be tested in isolation, a.k.a., [unit testing](http://en.wikipedia.org/wiki/Unit_testing).\n",
      "\n",
      "Value: Obamacare technical issues.\n",
      "\n",
      "![\"The basic architecture of the site ... was flawed in design, poorly tested and ultimately not functional.\"](http://www.chriscoletta.com/biof309/ObamacareTechnicalProblemsTimeArticleScreenshot.jpg)\n",
      "\"The basic architecture of the site ... was flawed in design, poorly tested and ultimately not functional.\"\n",
      "\n",
      "### More OOP buzzwords\n",
      "\n",
      "- [Client](http://en.wikipedia.org/wiki/Client_%28computing%29)- users of an object, e.g., the calling function.\n",
      "- [API](http://en.wikipedia.org/wiki/Application_programming_interface) - Application Programming Interface - Specification for how software components should interact with each other. Includes:\n",
      "    - Names of globals, e.g., math.pi, math.e\n",
      "    - Names of classes and relationships between, a.k.a. inherited, composed (see next section).\n",
      "    - For all functions and methods what are the [function signatures](http://en.wikipedia.org/wiki/Type_signature), a.k.a., function/method names, number and types of arguments, number and types of return values, types of exceptions that it might want to raise.\n",
      "- [Interface](http://en.wikipedia.org/wiki/Interface_%28computing%29#Software_interfaces_in_practice) - Kept separate from the [implementation](http://en.wikipedia.org/wiki/Implementation#Computer_Science), allowing access only through well-defined entry points.\n",
      "- [Information hiding](http://en.wikipedia.org/wiki/Information_hiding) - prevent certain aspects of a class or software component from being accessible to its clients.\n",
      "- [Abstraction](http://en.wikipedia.org/wiki/Abstraction_%28computer_science%29) - separating ideas from the details of how they work.\n",
      "- [Encapsulation](http://en.wikipedia.org/wiki/Encapsulation_%28object-oriented_programming%29) - Hiding the values or state of a structured data object inside a class, preventing unauthorized parties' direct access to them.\n",
      "\n",
      "\n",
      "### Public vs. Private attributes\n",
      "\n",
      "- Public attributes: class attributes (data members and methods) used by the client (a.k.a. public\n",
      "- Private attributes: meant for internal use only, i.e., is only the convern of the implementation, not the interface.\n",
      "- In some languages (C++, Java), an error is thrown when client tries to access private attribute, but in Python all attributes are technically public.\n",
      "- SO: Python convention is that attributes that start with an underscore aren't part of the interface."
     ]
    },
    {
     "cell_type": "markdown",
     "metadata": {},
     "source": [
      "## <a name=\"inheritance\">Inheritance</a>\n",
      "\n",
      "[Inheritance](http://en.wikipedia.org/wiki/Inheritance_%28object-oriented_programming%29) - a mechanism for code reuse. The relationships of objects or classes through inheritance give rise to a hierarchy. \n",
      "\n",
      "Last week we learned how to define class behavior via implementing the Python special methods, e.g., <code>\\_\\_len\\_\\_</code>, <code>\\_\\_contains\\_\\_</code>, etc.\n",
      "\n",
      "Another way to define how class behaves is to have your class *Inherit* from another class. Inherited class is known as the parent class or superclass, inheriting class known as the child class or subclass.\n",
      "\n",
      "Reasons for inheriting\n",
      "1. Factor out common code\n",
      "2. Extend the functionality of an existing class without reimplementing the whole class.\n",
      "\n",
      "There are three ways that the parent and child classes can interact\n",
      "\n",
      "1. Actions on the child imply an action on the parent.\n",
      "2. Actions on the child override the action on the parent.\n",
      "3. Actions on the child alter the action on the parent.\n",
      "\n",
      "- You can subclass built in types!\n",
      "    - e.g., extend list object to contain methods returning only the odds or only the evens."
     ]
    },
    {
     "cell_type": "code",
     "collapsed": false,
     "input": [
      "# In Python, to inherit a class, enclose it in parentheses in the first line\n",
      "# of the class declaration\n",
      "class EnhancedList( list ):\n",
      "    \n",
      "    def ReturnOdds( self ):\n",
      "        return self[::2]\n",
      "    \n",
      "    def ReturnEvens( self ):\n",
      "        return self[1::2]"
     ],
     "language": "python",
     "metadata": {},
     "outputs": [],
     "prompt_number": 18
    },
    {
     "cell_type": "markdown",
     "metadata": {},
     "source": [
      "- Inheritance sets up an [Is-a](http://en.wikipedia.org/wiki/Is-a) relationship between classes\n",
      "    - E.g., A salmon is a fish.\n",
      "    - Python function <code>isa( classa, classb )</code> returns <code>True</code> if <code>classa</code> inherits from <code>classb</code>\n",
      "- In contrast if your class uses another class as one of its data attributes, the relationship between the classes is known as a [Has-a](http://en.wikipedia.org/wiki/Has-a) relationship.\n",
      "    - E.g., A salmon has two gills.\n",
      "    - Idea of combining symple types into more complex ones is known as [object composition](http://en.wikipedia.org/wiki/Object_composition)\n",
      "    - Python function <code>hasa( classa, classb )</code> returns <code>True</code> if <code>classa</code> has a data member of type <code>classb</code>.\n",
      "- \n",
      "isinstance() vs. type()\n",
      "issubclass()\n",
      "overloaded\n",
      "multiple inheritance many frown upon this\n",
      "using super()\n",
      "help() will show what methods are defined where\n"
     ]
    },
    {
     "cell_type": "markdown",
     "metadata": {},
     "source": [
      "# <a name=\"ABC\">Abstract Base Classes</a>\n",
      "\n",
      "Moar OOP buzzwords:\n",
      "\n",
      "- [Abstract Data Type](http://en.wikipedia.org/wiki/Abstract_data_types) - A class that describes how its children classes will behave, but leaves the implementation details up to the children. \n",
      "- [Design by contract](http://en.wikipedia.org/wiki/Design_by_contract)  \u2013  Any object that inherits from an abstract base class is required to implement"
     ]
    },
    {
     "cell_type": "code",
     "collapsed": false,
     "input": [
      "# Examples\n",
      "class mammal, method speak\n",
      "class shape, method area \n",
      "Opposite of Abstract class = Concrete class "
     ],
     "language": "python",
     "metadata": {},
     "outputs": []
    },
    {
     "cell_type": "markdown",
     "metadata": {},
     "source": [
      "## <a name=\"hw4\">Homework 4 Discussion</a>"
     ]
    },
    {
     "cell_type": "code",
     "collapsed": false,
     "input": [
      "\"\"\"\n",
      "FAES BIOF309 Introduction To Python\n",
      "Template File for Homework 4:\n",
      "OBJECT-ORIENTED NUCLEOTIDE-TO-AMINO-ACID TRANSLATOR\n",
      "\n",
      "Anywhere you see a \"raise NotImplementedError\" in this file, you have to fill in that method's \n",
      "implementation.\n",
      "\n",
      "You are not allowed to change the method declaration lines, which are the lines with the\n",
      "\"def\" in them. In computer science terms \"the interface is fixed.\"\n",
      "However, the implementation details are totally up to you. Feel free to add any\n",
      "private helper methods (i.e., methods for internal use only, ones that start with '_')\n",
      "to any of the classes.\n",
      "\n",
      "The base class NucleotideSequence is inherited by the subclasses DNASequence\n",
      "and RNASequence. You are implementing functions in the base class which means the logic\n",
      "must work for both DNA and RNA. The instance attributes \"self._translation_table\", \n",
      "\"self._valid_nts\" are all set to their proper DNA/RNA values in each subclass'\n",
      "__init__() function, so you can make your methods work independent of \n",
      "whether they're DNA or RNA by referencing those two instance attributes \n",
      "rather than hardcoding 'G', 'A', 'C', 'T', or 'U' in anywhere. Also, it is not allowed\n",
      "to mention the subclasses in base class code. In other words, you can't use the\n",
      "words \"DNASequence\" or \"RNASequence\" anywhere in your base class code.\n",
      "\n",
      "A new genomics concept that is introduced in this assignment that was left\n",
      "out of the last assignment is the concept of choosing a desired reading frame before\n",
      "translating the sequence to AA. The template methods given below have arguments\n",
      "in which the directionality of the transcription can be specified \n",
      "( True = 5'to3', False = 3'to5' ) as well as the position of the reading frame (1, 2, or 3).\n",
      "\n",
      "I will use as input to test your implementation a mRNA sequence which contains more\n",
      "than just one coding region. If you want to get an A, your code must find and return all the \n",
      "open reading frames (coding regions) in my input sequence (see the function \n",
      "OpenReadingFrames() below).\n",
      "\"\"\"\n",
      "import sys\n",
      "import re\n",
      "\n",
      "#==================================================================\n",
      "class NucleotideSequence( object ):\n",
      "    \"\"\"Abstract base class to be inherited by subclasses DNASequence and RNASequence.\n",
      "\n",
      "    Your assignment is to replace each \"raise NotImplementedError\" line with your\n",
      "    implementation of that method.\n",
      "    \n",
      "    This class is not meant to be used in the wild, meaning you wouldn't ever \n",
      "    instantiate an object of class NucleotideSequence, but rather you would only ever\n",
      "    instantiate an object of DNASequence or RNASequence, and that the functionality\n",
      "    you're about to implement here in the base class would be \"inherited\" by the subclasses.\n",
      "    \"\"\"\n",
      "\n",
      "    # Class attributes\n",
      "    _translation_table = None\n",
      "    _valid_nts = None\n",
      "    \n",
      "    def __init__( self, sequence=None ):\n",
      "        self._data = sequence\n",
      "\n",
      "    # YOU MUST IMPLEMENT THE FOLLOWING METHODS FOR A MAXIMUM GRADE OF C:\n",
      "\n",
      "    def __len__( self ):\n",
      "        \"\"\"This is the method Python will run when the user calls len() on this instance.\n",
      "        Return the total number of ucleotides in the sequence contained in self._data.\"\"\"\n",
      "        raise NotImplementedError\n",
      "\n",
      "    def __str__( self ):\n",
      "        \"\"\"This is the method Python will run when the user calls str() on this instance\"\"\"\n",
      "        raise NotImplementedError\n",
      "\n",
      "    def __repr__( self ):\n",
      "        \"\"\"This is the method Python will run when the user types the name of the\n",
      "        instance in a Python interpreter.\"\"\"\n",
      "        raise NotImplementedError\n",
      "\n",
      "    def __contains__( self, substr ):\n",
      "        \"\"\"This is the method Python will run when the user wants to use the keyword \"in\",\n",
      "        e.g., \"TAG\" in my_sequence.\"\"\"\n",
      "        raise NotImplementedError\n",
      "\n",
      "    def count( self, substring, start=0, end=sys.maxint ):\n",
      "        \"\"\"Return the number of times the substring appears in the sequence.\n",
      "        This function should work just like str.count.\"\"\"\n",
      "        raise NotImplementedError\n",
      "\n",
      "    def IsValidSequence( self ):\n",
      "        \"\"\"This function should raise a ValueError if it detects a character\n",
      "        which is not a valid nucleotide character for its molecule type.\"\"\"\n",
      "        raise NotImplementedError\n",
      "\n",
      "    def GCContent( self ):\n",
      "        \"\"\"Return the fraction of nucleotides in this sequence that are Cytosine and Guanine\"\"\"\n",
      "        raise NotImplementedError\n",
      "\n",
      "\n",
      "    #==================================================================\n",
      "    # YOU MUST IMPLEMENT THE FOLLOWING METHODS FOR A MAXIMUM GRADE OF B\n",
      "\n",
      "    @classmethod\n",
      "    def NewFromFastaFile( cls, path_to_fasta_file ):\n",
      "        \"\"\"This function should read a nucleotide sequence from a fasta file,\n",
      "        parse it, check if the nucleotide sequence is valid by calling IsValidSequence(),\n",
      "        instantiate a new object, populate its instance attribute \"_data\" with the sequence,\n",
      "        and finally return the new instance.\"\"\"\n",
      "        raise NotImplementedError\n",
      "\n",
      "    #==================================================================\n",
      "    def TranslateToAA( self, directionality5to3=True, reading_frame=1 ):\n",
      "        \"\"\"Return the sequence translated into amino acids. The user is able to specify\n",
      "        the direction of translation (5'->3' or vice versa) and the reading frame offset,\n",
      "        either 1, 2, or 3\"\"\"\n",
      "        raise NotImplementedError\n",
      "\n",
      "    #==================================================================\n",
      "    # YOU MUST IMPLEMENT THE FOLLOWING METHOD FOR A MAXIMUM GRADE OF A\n",
      "\n",
      "    def OpenReadingFrames( self, directionality5to3=True, reading_frame=1 ):\n",
      "        \"\"\"This function should return a list of tuples which contain, for the given \n",
      "        directionality and reading frame, 1. the aa start position, 2. aa end position, and \n",
      "        3. amino acid sequence of every open reading frame in the sequence. Remember,\n",
      "        ORFs start with a Methionine (generally) and end with a stop codon. Hint:\n",
      "        use a regular expression.\"\"\"\n",
      "        raise NotImplementedError\n",
      "\n",
      "    # end class NucleotideSequence definition\n",
      "    #==================================================================\n",
      "\n",
      "dna_codon_dict = { \"TTT\" : \"F\", \"TCT\" : \"S\", \"TAT\" : \"Y\", \"TGT\" : \"C\", \\\n",
      "\"TTC\" : \"F\", \"TCC\" : \"S\", \"TAC\" : \"Y\", \"TGC\" : \"C\", \\\n",
      "\"TTA\" : \"L\", \"TCA\" : \"S\", \"TAA\" : \".\", \"TGA\" : \".\", \\\n",
      "\"TTG\" : \"L\", \"TCG\" : \"S\", \"TAG\" : \".\", \"TGG\" : \"W\", \\\n",
      "\"CTT\" : \"L\", \"CCT\" : \"P\", \"CAT\" : \"H\", \"CGT\" : \"R\", \\\n",
      "\"CTC\" : \"L\", \"CCC\" : \"P\", \"CAC\" : \"H\", \"CGC\" : \"R\", \\\n",
      "\"CTA\" : \"L\", \"CCA\" : \"P\", \"CAA\" : \"Q\", \"CGA\" : \"R\", \\\n",
      "\"CTG\" : \"L\", \"CCG\" : \"P\", \"CAG\" : \"Q\", \"CGG\" : \"R\", \\\n",
      "\"ATT\" : \"I\", \"ACT\" : \"T\", \"AAT\" : \"N\", \"AGT\" : \"S\", \\\n",
      "\"ATC\" : \"I\", \"ACC\" : \"T\", \"AAC\" : \"N\", \"AGC\" : \"S\", \\\n",
      "\"ATA\" : \"I\", \"ACA\" : \"T\", \"AAA\" : \"K\", \"AGA\" : \"R\", \\\n",
      "\"ATG\" : \"M\", \"ACG\" : \"T\", \"AAG\" : \"K\", \"AGG\" : \"R\", \\\n",
      "\"GTT\" : \"V\", \"GCT\" : \"A\", \"GAT\" : \"D\", \"GGT\" : \"G\", \\\n",
      "\"GTC\" : \"V\", \"GCC\" : \"A\", \"GAC\" : \"D\", \"GGC\" : \"G\", \\\n",
      "\"GTA\" : \"V\", \"GCA\" : \"A\", \"GAA\" : \"E\", \"GGA\" : \"G\", \\\n",
      "\"GTG\" : \"V\", \"GCG\" : \"A\", \"GAG\" : \"E\", \"GGG\" : \"G\" }\n",
      "\n",
      "rna_codon_dict = { \"UUU\" : \"F\", \"UCU\" : \"S\", \"UAU\" : \"Y\", \"UGU\" : \"C\", \\\n",
      "\"UUC\" : \"F\", \"UCC\" : \"S\", \"UAC\" : \"Y\", \"UGC\" : \"C\", \\\n",
      "\"UUA\" : \"L\", \"UCA\" : \"S\", \"UAA\" : \".\", \"UGA\" : \".\", \\\n",
      "\"UUG\" : \"L\", \"UCG\" : \"S\", \"UAG\" : \".\", \"UGG\" : \"W\", \\\n",
      "\"CUU\" : \"L\", \"CCU\" : \"P\", \"CAU\" : \"H\", \"CGU\" : \"R\", \\\n",
      "\"CUC\" : \"L\", \"CCC\" : \"P\", \"CAC\" : \"H\", \"CGC\" : \"R\", \\\n",
      "\"CUA\" : \"L\", \"CCA\" : \"P\", \"CAA\" : \"Q\", \"CGA\" : \"R\", \\\n",
      "\"CUG\" : \"L\", \"CCG\" : \"P\", \"CAG\" : \"Q\", \"CGG\" : \"R\", \\\n",
      "\"AUU\" : \"I\", \"ACU\" : \"T\", \"AAU\" : \"N\", \"AGU\" : \"S\", \\\n",
      "\"AUC\" : \"I\", \"ACC\" : \"T\", \"AAC\" : \"N\", \"AGC\" : \"S\", \\\n",
      "\"AUA\" : \"I\", \"ACA\" : \"T\", \"AAA\" : \"K\", \"AGA\" : \"R\", \\\n",
      "\"AUG\" : \"M\", \"ACG\" : \"T\", \"AAG\" : \"K\", \"AGG\" : \"R\", \\\n",
      "\"GUU\" : \"V\", \"GCU\" : \"A\", \"GAU\" : \"D\", \"GGU\" : \"G\", \\\n",
      "\"GUC\" : \"V\", \"GCC\" : \"A\", \"GAC\" : \"D\", \"GGC\" : \"G\", \\\n",
      "\"GUA\" : \"V\", \"GCA\" : \"A\", \"GAA\" : \"E\", \"GGA\" : \"G\", \\\n",
      "\"GUG\" : \"V\", \"GCG\" : \"A\", \"GAG\" : \"E\", \"GGG\" : \"G\" }\n",
      "\n",
      "class DNASequence( NucleotideSequence ):\n",
      "\n",
      "    # Class attributes\n",
      "    _translation_table = dna_codon_dict\n",
      "    _valid_nts = \"AGCT\"\n",
      "\n",
      "    # All other attributes inherited from base class\n",
      "\n",
      "class RNASequence( NucleotideSequence ):\n",
      "\n",
      "    # Class Attributes\n",
      "    _translation_table = rna_codon_dict\n",
      "    _valid_nts = \"AGCU\"\n",
      "\n",
      "    # All other attributes inherited from base class\n",
      "\n",
      "if __name__ == '__main__':\n",
      "\n",
      "    DNAseq = DNASequence.NewFromFastaFile( 'zscan4.fasta' )\n",
      "\n",
      "    reading_frames = ( (True, 1), (True, 2), (True, 3), (False, 1), (False, 2), (False, 3) )\n",
      "\n",
      "    for direction, reading_frame in reading_frames:\n",
      "        print \"{} direction, reading frame {}:\".format( \"5'to3'\" if direction else \"3'to5'\", reading_frame )\n",
      "        print DNAseq.OpenReadingFrames( direction, reading_frame )"
     ],
     "language": "python",
     "metadata": {},
     "outputs": [
      {
       "ename": "NotImplementedError",
       "evalue": "",
       "output_type": "pyerr",
       "traceback": [
        "\u001b[0;31m---------------------------------------------------------------------------\u001b[0m\n\u001b[0;31mNotImplementedError\u001b[0m                       Traceback (most recent call last)",
        "\u001b[0;32m<ipython-input-2-6ec0baaca28e>\u001b[0m in \u001b[0;36m<module>\u001b[0;34m()\u001b[0m\n\u001b[1;32m    143\u001b[0m \u001b[0;32mif\u001b[0m \u001b[0m__name__\u001b[0m \u001b[0;34m==\u001b[0m \u001b[0;34m'__main__'\u001b[0m\u001b[0;34m:\u001b[0m\u001b[0;34m\u001b[0m\u001b[0m\n\u001b[1;32m    144\u001b[0m \u001b[0;34m\u001b[0m\u001b[0m\n\u001b[0;32m--> 145\u001b[0;31m     \u001b[0mDNAseq\u001b[0m \u001b[0;34m=\u001b[0m \u001b[0mDNASequence\u001b[0m\u001b[0;34m.\u001b[0m\u001b[0mNewFromFastaFile\u001b[0m\u001b[0;34m(\u001b[0m \u001b[0;34m'zscan4.fasta'\u001b[0m \u001b[0;34m)\u001b[0m\u001b[0;34m\u001b[0m\u001b[0m\n\u001b[0m\u001b[1;32m    146\u001b[0m \u001b[0;34m\u001b[0m\u001b[0m\n\u001b[1;32m    147\u001b[0m     \u001b[0mreading_frames\u001b[0m \u001b[0;34m=\u001b[0m \u001b[0;34m(\u001b[0m \u001b[0;34m(\u001b[0m\u001b[0mTrue\u001b[0m\u001b[0;34m,\u001b[0m \u001b[0;36m1\u001b[0m\u001b[0;34m)\u001b[0m\u001b[0;34m,\u001b[0m \u001b[0;34m(\u001b[0m\u001b[0mTrue\u001b[0m\u001b[0;34m,\u001b[0m \u001b[0;36m2\u001b[0m\u001b[0;34m)\u001b[0m\u001b[0;34m,\u001b[0m \u001b[0;34m(\u001b[0m\u001b[0mTrue\u001b[0m\u001b[0;34m,\u001b[0m \u001b[0;36m3\u001b[0m\u001b[0;34m)\u001b[0m\u001b[0;34m,\u001b[0m \u001b[0;34m(\u001b[0m\u001b[0mFalse\u001b[0m\u001b[0;34m,\u001b[0m \u001b[0;36m1\u001b[0m\u001b[0;34m)\u001b[0m\u001b[0;34m,\u001b[0m \u001b[0;34m(\u001b[0m\u001b[0mFalse\u001b[0m\u001b[0;34m,\u001b[0m \u001b[0;36m2\u001b[0m\u001b[0;34m)\u001b[0m\u001b[0;34m,\u001b[0m \u001b[0;34m(\u001b[0m\u001b[0mFalse\u001b[0m\u001b[0;34m,\u001b[0m \u001b[0;36m3\u001b[0m\u001b[0;34m)\u001b[0m \u001b[0;34m)\u001b[0m\u001b[0;34m\u001b[0m\u001b[0m\n",
        "\u001b[0;32m<ipython-input-2-6ec0baaca28e>\u001b[0m in \u001b[0;36mNewFromFastaFile\u001b[0;34m(cls, path_to_fasta_file)\u001b[0m\n\u001b[1;32m     98\u001b[0m         \u001b[0minstantiate\u001b[0m \u001b[0ma\u001b[0m \u001b[0mnew\u001b[0m \u001b[0mobject\u001b[0m\u001b[0;34m,\u001b[0m \u001b[0mpopulate\u001b[0m \u001b[0mits\u001b[0m \u001b[0minstance\u001b[0m \u001b[0mattribute\u001b[0m \u001b[0;34m\"_data\"\u001b[0m \u001b[0;32mwith\u001b[0m \u001b[0mthe\u001b[0m \u001b[0msequence\u001b[0m\u001b[0;34m,\u001b[0m\u001b[0;34m\u001b[0m\u001b[0m\n\u001b[1;32m     99\u001b[0m         and finally return the new instance.\"\"\"\n\u001b[0;32m--> 100\u001b[0;31m         \u001b[0;32mraise\u001b[0m \u001b[0mNotImplementedError\u001b[0m\u001b[0;34m\u001b[0m\u001b[0m\n\u001b[0m\u001b[1;32m    101\u001b[0m \u001b[0;34m\u001b[0m\u001b[0m\n\u001b[1;32m    102\u001b[0m     \u001b[0;31m#==================================================================\u001b[0m\u001b[0;34m\u001b[0m\u001b[0;34m\u001b[0m\u001b[0m\n",
        "\u001b[0;31mNotImplementedError\u001b[0m: "
       ]
      }
     ],
     "prompt_number": 2
    },
    {
     "cell_type": "code",
     "collapsed": false,
     "input": [],
     "language": "python",
     "metadata": {},
     "outputs": []
    }
   ],
   "metadata": {}
  }
 ]
}