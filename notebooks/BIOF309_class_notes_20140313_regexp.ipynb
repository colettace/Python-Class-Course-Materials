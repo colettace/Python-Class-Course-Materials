{
 "metadata": {
  "name": ""
 },
 "nbformat": 3,
 "nbformat_minor": 0,
 "worksheets": [
  {
   "cells": [
    {
     "cell_type": "code",
     "collapsed": false,
     "input": [
      "sentence = \"It's beautiful in Baltimore harbor.\""
     ],
     "language": "python",
     "metadata": {},
     "outputs": [],
     "prompt_number": 1
    },
    {
     "cell_type": "code",
     "collapsed": false,
     "input": [
      "\"harbor\" in sentence"
     ],
     "language": "python",
     "metadata": {},
     "outputs": [
      {
       "metadata": {},
       "output_type": "pyout",
       "prompt_number": 2,
       "text": [
        "True"
       ]
      }
     ],
     "prompt_number": 2
    },
    {
     "cell_type": "code",
     "collapsed": false,
     "input": [
      "\"harbor\" in sentence or \"harbour\" in sentence or \"Harbor\" in sentence or \"Harbour\" in sentence"
     ],
     "language": "python",
     "metadata": {},
     "outputs": [
      {
       "metadata": {},
       "output_type": "pyout",
       "prompt_number": 4,
       "text": [
        "True"
       ]
      }
     ],
     "prompt_number": 4
    },
    {
     "cell_type": "code",
     "collapsed": false,
     "input": [
      "import re"
     ],
     "language": "python",
     "metadata": {},
     "outputs": [],
     "prompt_number": 5
    },
    {
     "cell_type": "code",
     "collapsed": false,
     "input": [
      "p = re.compile('hello')"
     ],
     "language": "python",
     "metadata": {},
     "outputs": [],
     "prompt_number": 6
    },
    {
     "cell_type": "code",
     "collapsed": false,
     "input": [
      "p = re.compile('harbor')"
     ],
     "language": "python",
     "metadata": {},
     "outputs": [],
     "prompt_number": 7
    },
    {
     "cell_type": "code",
     "collapsed": false,
     "input": [
      "p.match( \"beautiful in the harbor\" )"
     ],
     "language": "python",
     "metadata": {},
     "outputs": [],
     "prompt_number": 12
    },
    {
     "cell_type": "code",
     "collapsed": false,
     "input": [
      "p.search( \"beautiful in the harbor\" )"
     ],
     "language": "python",
     "metadata": {},
     "outputs": [
      {
       "metadata": {},
       "output_type": "pyout",
       "prompt_number": 11,
       "text": [
        "<_sre.SRE_Match at 0x102127ac0>"
       ]
      }
     ],
     "prompt_number": 11
    },
    {
     "cell_type": "code",
     "collapsed": false,
     "input": [
      "p = re.compile( 'gr[^a]y' )"
     ],
     "language": "python",
     "metadata": {},
     "outputs": [],
     "prompt_number": 17
    },
    {
     "cell_type": "code",
     "collapsed": false,
     "input": [
      "p.match( \"grey\" )"
     ],
     "language": "python",
     "metadata": {},
     "outputs": [
      {
       "metadata": {},
       "output_type": "pyout",
       "prompt_number": 15,
       "text": [
        "<_sre.SRE_Match at 0x102e36988>"
       ]
      }
     ],
     "prompt_number": 15
    },
    {
     "cell_type": "code",
     "collapsed": false,
     "input": [
      "p.match( \"gray\" )"
     ],
     "language": "python",
     "metadata": {},
     "outputs": [],
     "prompt_number": 16
    },
    {
     "cell_type": "code",
     "collapsed": false,
     "input": [
      "p.match( \"grfy\" )"
     ],
     "language": "python",
     "metadata": {},
     "outputs": [
      {
       "metadata": {},
       "output_type": "pyout",
       "prompt_number": 18,
       "text": [
        "<_sre.SRE_Match at 0x102e36b90>"
       ]
      }
     ],
     "prompt_number": 18
    },
    {
     "cell_type": "code",
     "collapsed": false,
     "input": [
      "p.match( \"gr0y\" )"
     ],
     "language": "python",
     "metadata": {},
     "outputs": [
      {
       "metadata": {},
       "output_type": "pyout",
       "prompt_number": 20,
       "text": [
        "<_sre.SRE_Match at 0x102e36cc8>"
       ]
      }
     ],
     "prompt_number": 20
    },
    {
     "cell_type": "code",
     "collapsed": false,
     "input": [
      "p = re.compile( 'gr\\d\\dy' )"
     ],
     "language": "python",
     "metadata": {},
     "outputs": [],
     "prompt_number": 39
    },
    {
     "cell_type": "code",
     "collapsed": false,
     "input": [
      "p.match( \"gr00y\" )"
     ],
     "language": "python",
     "metadata": {},
     "outputs": [
      {
       "metadata": {},
       "output_type": "pyout",
       "prompt_number": 40,
       "text": [
        "<_sre.SRE_Match at 0x102e5b780>"
       ]
      }
     ],
     "prompt_number": 40
    },
    {
     "cell_type": "code",
     "collapsed": false,
     "input": [
      "re.match( 'gr\\d\\dy', \"gr00y\" )"
     ],
     "language": "python",
     "metadata": {},
     "outputs": [
      {
       "metadata": {},
       "output_type": "pyout",
       "prompt_number": 41,
       "text": [
        "<_sre.SRE_Match at 0x102e5b850>"
       ]
      }
     ],
     "prompt_number": 41
    },
    {
     "cell_type": "code",
     "collapsed": false,
     "input": [
      "re.match( \"h.....r\", \"harbor\" )"
     ],
     "language": "python",
     "metadata": {},
     "outputs": [],
     "prompt_number": 47
    },
    {
     "cell_type": "code",
     "collapsed": false,
     "input": [
      "moretext = \"\"\"I am the very model of a modern major general\n",
      "I've information vegetable animal and mineral\n",
      "I know the kings of England and I quote the fights hitorical\n",
      "from marathon to warterloo in order categorical\"\"\""
     ],
     "language": "python",
     "metadata": {},
     "outputs": [],
     "prompt_number": 70
    },
    {
     "cell_type": "code",
     "collapsed": false,
     "input": [
      "moretext"
     ],
     "language": "python",
     "metadata": {},
     "outputs": [
      {
       "metadata": {},
       "output_type": "pyout",
       "prompt_number": 49,
       "text": [
        "\"I am the very model of a modern major general\\nI've information vegetable animal and mineral\""
       ]
      }
     ],
     "prompt_number": 49
    },
    {
     "cell_type": "code",
     "collapsed": false,
     "input": [
      "re.match( \"^I've\", moretext, re.MULTILINE )"
     ],
     "language": "python",
     "metadata": {},
     "outputs": [],
     "prompt_number": 54
    },
    {
     "cell_type": "code",
     "collapsed": false,
     "input": [
      "p = re.compile( \"eral$\" , re.MULTILINE)"
     ],
     "language": "python",
     "metadata": {},
     "outputs": [],
     "prompt_number": 64
    },
    {
     "cell_type": "code",
     "collapsed": false,
     "input": [
      "p.search( moretext)"
     ],
     "language": "python",
     "metadata": {},
     "outputs": [
      {
       "metadata": {},
       "output_type": "pyout",
       "prompt_number": 72,
       "text": [
        "<_sre.SRE_Match at 0x102e5ecc8>"
       ]
      }
     ],
     "prompt_number": 72
    },
    {
     "cell_type": "code",
     "collapsed": false,
     "input": [
      "dir( p.search( moretext) )"
     ],
     "language": "python",
     "metadata": {},
     "outputs": [
      {
       "metadata": {},
       "output_type": "pyout",
       "prompt_number": 73,
       "text": [
        "['__class__',\n",
        " '__copy__',\n",
        " '__deepcopy__',\n",
        " '__delattr__',\n",
        " '__doc__',\n",
        " '__format__',\n",
        " '__getattribute__',\n",
        " '__hash__',\n",
        " '__init__',\n",
        " '__new__',\n",
        " '__reduce__',\n",
        " '__reduce_ex__',\n",
        " '__repr__',\n",
        " '__setattr__',\n",
        " '__sizeof__',\n",
        " '__str__',\n",
        " '__subclasshook__',\n",
        " 'end',\n",
        " 'endpos',\n",
        " 'expand',\n",
        " 'group',\n",
        " 'groupdict',\n",
        " 'groups',\n",
        " 'lastgroup',\n",
        " 'lastindex',\n",
        " 'pos',\n",
        " 're',\n",
        " 'regs',\n",
        " 'span',\n",
        " 'start',\n",
        " 'string']"
       ]
      }
     ],
     "prompt_number": 73
    },
    {
     "cell_type": "code",
     "collapsed": false,
     "input": [
      "m = p.search( moretext)"
     ],
     "language": "python",
     "metadata": {},
     "outputs": [],
     "prompt_number": 74
    },
    {
     "cell_type": "code",
     "collapsed": false,
     "input": [
      "type( m )"
     ],
     "language": "python",
     "metadata": {},
     "outputs": [
      {
       "metadata": {},
       "output_type": "pyout",
       "prompt_number": 75,
       "text": [
        "_sre.SRE_Match"
       ]
      }
     ],
     "prompt_number": 75
    },
    {
     "cell_type": "code",
     "collapsed": false,
     "input": [
      "m.start() "
     ],
     "language": "python",
     "metadata": {},
     "outputs": [
      {
       "metadata": {},
       "output_type": "pyout",
       "prompt_number": 77,
       "text": [
        "41"
       ]
      }
     ],
     "prompt_number": 77
    },
    {
     "cell_type": "code",
     "collapsed": false,
     "input": [
      "m.endpos"
     ],
     "language": "python",
     "metadata": {},
     "outputs": [
      {
       "metadata": {},
       "output_type": "pyout",
       "prompt_number": 82,
       "text": [
        "200"
       ]
      }
     ],
     "prompt_number": 82
    },
    {
     "cell_type": "code",
     "collapsed": false,
     "input": [
      "type(m)"
     ],
     "language": "python",
     "metadata": {},
     "outputs": [
      {
       "metadata": {},
       "output_type": "pyout",
       "prompt_number": 83,
       "text": [
        "_sre.SRE_Match"
       ]
      }
     ],
     "prompt_number": 83
    },
    {
     "cell_type": "code",
     "collapsed": false,
     "input": [
      "m= re.match( \"AA[UA]\", \"AAAA\")"
     ],
     "language": "python",
     "metadata": {},
     "outputs": [],
     "prompt_number": 96
    },
    {
     "cell_type": "code",
     "collapsed": false,
     "input": [
      "m.start()"
     ],
     "language": "python",
     "metadata": {},
     "outputs": [
      {
       "metadata": {},
       "output_type": "pyout",
       "prompt_number": 97,
       "text": [
        "0"
       ]
      }
     ],
     "prompt_number": 97
    },
    {
     "cell_type": "code",
     "collapsed": false,
     "input": [
      "m.end()"
     ],
     "language": "python",
     "metadata": {},
     "outputs": [
      {
       "metadata": {},
       "output_type": "pyout",
       "prompt_number": 98,
       "text": [
        "3"
       ]
      }
     ],
     "prompt_number": 98
    },
    {
     "cell_type": "code",
     "collapsed": false,
     "input": [
      "seq = \"GATTACAG.ATTACAGATTACA\""
     ],
     "language": "python",
     "metadata": {},
     "outputs": [],
     "prompt_number": 124
    },
    {
     "cell_type": "code",
     "collapsed": false,
     "input": [
      "m = re.search( \"\\w+\" , seq)"
     ],
     "language": "python",
     "metadata": {},
     "outputs": [],
     "prompt_number": 136
    },
    {
     "cell_type": "code",
     "collapsed": false,
     "input": [
      "m.group()"
     ],
     "language": "python",
     "metadata": {},
     "outputs": [
      {
       "metadata": {},
       "output_type": "pyout",
       "prompt_number": 137,
       "text": [
        "'GATTACAG'"
       ]
      }
     ],
     "prompt_number": 137
    },
    {
     "cell_type": "code",
     "collapsed": false,
     "input": [
      "list_of_codons = []"
     ],
     "language": "python",
     "metadata": {},
     "outputs": [],
     "prompt_number": 138
    },
    {
     "cell_type": "code",
     "collapsed": false,
     "input": [
      "all_codons  = [ x+y+z for x in \"GAUC\" for y in \"GAUC\" for z in \"GAUC\" ]"
     ],
     "language": "python",
     "metadata": {},
     "outputs": [],
     "prompt_number": 140
    },
    {
     "cell_type": "code",
     "collapsed": false,
     "input": [
      "one_big_str = \"\".join( all_codons )"
     ],
     "language": "python",
     "metadata": {},
     "outputs": [],
     "prompt_number": 141
    },
    {
     "cell_type": "code",
     "collapsed": false,
     "input": [
      "one_big_str"
     ],
     "language": "python",
     "metadata": {},
     "outputs": [
      {
       "metadata": {},
       "output_type": "pyout",
       "prompt_number": 142,
       "text": [
        "'GGGGGAGGUGGCGAGGAAGAUGACGUGGUAGUUGUCGCGGCAGCUGCCAGGAGAAGUAGCAAGAAAAAUAACAUGAUAAUUAUCACGACAACUACCUGGUGAUGUUGCUAGUAAUAUUACUUGUUAUUUUUCUCGUCAUCUUCCCGGCGACGUCGCCAGCAACAUCACCUGCUACUUCUCCCGCCACCUCCC'"
       ]
      }
     ],
     "prompt_number": 142
    },
    {
     "cell_type": "code",
     "collapsed": false,
     "input": [
      "re.findall( \"UU[GA]|CU[GAUC]\", one_big_str )"
     ],
     "language": "python",
     "metadata": {},
     "outputs": [
      {
       "metadata": {},
       "output_type": "pyout",
       "prompt_number": 145,
       "text": [
        "['UUG',\n",
        " 'CUG',\n",
        " 'UUA',\n",
        " 'CUA',\n",
        " 'CUG',\n",
        " 'UUG',\n",
        " 'CUA',\n",
        " 'UUA',\n",
        " 'CUU',\n",
        " 'UUA',\n",
        " 'CUC',\n",
        " 'CUU',\n",
        " 'CUG',\n",
        " 'CUA',\n",
        " 'CUU',\n",
        " 'CUC',\n",
        " 'CUC']"
       ]
      }
     ],
     "prompt_number": 145
    },
    {
     "cell_type": "code",
     "collapsed": false,
     "input": [
      "all_codons"
     ],
     "language": "python",
     "metadata": {},
     "outputs": [
      {
       "metadata": {},
       "output_type": "pyout",
       "prompt_number": 146,
       "text": [
        "['GGG',\n",
        " 'GGA',\n",
        " 'GGU',\n",
        " 'GGC',\n",
        " 'GAG',\n",
        " 'GAA',\n",
        " 'GAU',\n",
        " 'GAC',\n",
        " 'GUG',\n",
        " 'GUA',\n",
        " 'GUU',\n",
        " 'GUC',\n",
        " 'GCG',\n",
        " 'GCA',\n",
        " 'GCU',\n",
        " 'GCC',\n",
        " 'AGG',\n",
        " 'AGA',\n",
        " 'AGU',\n",
        " 'AGC',\n",
        " 'AAG',\n",
        " 'AAA',\n",
        " 'AAU',\n",
        " 'AAC',\n",
        " 'AUG',\n",
        " 'AUA',\n",
        " 'AUU',\n",
        " 'AUC',\n",
        " 'ACG',\n",
        " 'ACA',\n",
        " 'ACU',\n",
        " 'ACC',\n",
        " 'UGG',\n",
        " 'UGA',\n",
        " 'UGU',\n",
        " 'UGC',\n",
        " 'UAG',\n",
        " 'UAA',\n",
        " 'UAU',\n",
        " 'UAC',\n",
        " 'UUG',\n",
        " 'UUA',\n",
        " 'UUU',\n",
        " 'UUC',\n",
        " 'UCG',\n",
        " 'UCA',\n",
        " 'UCU',\n",
        " 'UCC',\n",
        " 'CGG',\n",
        " 'CGA',\n",
        " 'CGU',\n",
        " 'CGC',\n",
        " 'CAG',\n",
        " 'CAA',\n",
        " 'CAU',\n",
        " 'CAC',\n",
        " 'CUG',\n",
        " 'CUA',\n",
        " 'CUU',\n",
        " 'CUC',\n",
        " 'CCG',\n",
        " 'CCA',\n",
        " 'CCU',\n",
        " 'CCC']"
       ]
      }
     ],
     "prompt_number": 146
    },
    {
     "cell_type": "code",
     "collapsed": false,
     "input": [
      "for codon in all_codons:\n",
      "    m = re.match( \"UU[GA]|CU[GAUC]\", codon)\n",
      "    if m:\n",
      "        print m.group()"
     ],
     "language": "python",
     "metadata": {},
     "outputs": [
      {
       "output_type": "stream",
       "stream": "stdout",
       "text": [
        "UUG\n",
        "UUA\n",
        "CUG\n",
        "CUA\n",
        "CUU\n",
        "CUC\n"
       ]
      }
     ],
     "prompt_number": 153
    },
    {
     "cell_type": "code",
     "collapsed": false,
     "input": [
      "m = re.match( \"UU[GA]|CU[GAUC]\", \"UUG\")"
     ],
     "language": "python",
     "metadata": {},
     "outputs": [],
     "prompt_number": 149
    },
    {
     "cell_type": "code",
     "collapsed": false,
     "input": [
      "m.group()"
     ],
     "language": "python",
     "metadata": {},
     "outputs": [
      {
       "metadata": {},
       "output_type": "pyout",
       "prompt_number": 150,
       "text": [
        "'UUG'"
       ]
      }
     ],
     "prompt_number": 150
    },
    {
     "cell_type": "code",
     "collapsed": false,
     "input": [],
     "language": "python",
     "metadata": {},
     "outputs": []
    }
   ],
   "metadata": {}
  }
 ]
}