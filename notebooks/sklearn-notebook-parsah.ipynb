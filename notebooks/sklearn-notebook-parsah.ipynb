{
 "metadata": {
  "name": ""
 },
 "nbformat": 3,
 "nbformat_minor": 0,
 "worksheets": [
  {
   "cells": [
    {
     "cell_type": "markdown",
     "metadata": {},
     "source": [
      "# Machine-learning in Python using scikit-learn\n",
      "## What is scikit-learn\n",
      "* A comprehensive, concise machine learning (ML) and data-mining (DM) library.\n",
      "  * Data-set generators.\n",
      "  * Clustering.\n",
      "  * Classification / prediction, cross-validation.\n",
      "  * Dimensionality reduction.\n",
      "  * Ensemble methods (Boosting, Random Forests).\n",
      "  * ...\n",
      "* Open-source, excellent documentation."
     ]
    },
    {
     "cell_type": "code",
     "collapsed": true,
     "input": [
      "from IPython.core.display import Image\n",
      "Image(url=\"http://scikit-learn.org/stable/_static/ml_map.png\", width=1300)"
     ],
     "language": "python",
     "metadata": {},
     "outputs": [
      {
       "html": [
        "<img src=\"http://scikit-learn.org/stable/_static/ml_map.png\" width=\"1300\"/>"
       ],
       "metadata": {},
       "output_type": "pyout",
       "prompt_number": 4,
       "text": [
        "<IPython.core.display.Image at 0x103776390>"
       ]
      }
     ],
     "prompt_number": 4
    },
    {
     "cell_type": "markdown",
     "metadata": {},
     "source": [
      "## Topics\n",
      "* Installation.\n",
      "* Building, testing, and quantifying a classifier.\n",
      "   1. Generating a classifiable dataset.\n",
      "   2. Training and testing a classifier.\n",
      "   3. Quantifying classification robustness.\n",
      "   4. Identifying significant features."
     ]
    },
    {
     "cell_type": "markdown",
     "metadata": {},
     "source": [
      "## Installation\n",
      "scikit-learn requires numerous prerequisite libraries:\n",
      "\n",
      "* [numpy](http://www.numpy.org/)\n",
      "* [scipy](http://www.scipy.org/)\n",
      "* [matplotlib](http://matplotlib.org/index.html).\n",
      "\n",
      "Though not required, the [pandas](http://pandas.pydata.org/) library is recommended if frequently working for tabular data-handling).\n",
      "\n",
      "If you wish to have Python distributions with many libraries pre-installed for you (including scikit-learn), [Anaconda Python](http://docs.continuum.io/anaconda/index.html) would be a great choice.\n",
      "\n",
      "Now, we can begin exploring its capabilities."
     ]
    },
    {
     "cell_type": "code",
     "collapsed": false,
     "input": [
      "import sklearn\n",
      "print(sklearn.__version__)\n",
      "print(sklearn.__doc__)"
     ],
     "language": "python",
     "metadata": {},
     "outputs": [
      {
       "output_type": "stream",
       "stream": "stdout",
       "text": [
        "0.14.1\n",
        "\n",
        "Machine learning module for Python\n",
        "==================================\n",
        "\n",
        "sklearn is a Python module integrating classical machine\n",
        "learning algorithms in the tightly-knit world of scientific Python\n",
        "packages (numpy, scipy, matplotlib).\n",
        "\n",
        "It aims to provide simple and efficient solutions to learning problems\n",
        "that are accessible to everybody and reusable in various contexts:\n",
        "machine-learning as a versatile tool for science and engineering.\n",
        "\n",
        "See http://scikit-learn.org for complete documentation.\n",
        "\n"
       ]
      }
     ],
     "prompt_number": 5
    },
    {
     "cell_type": "markdown",
     "metadata": {},
     "source": [
      "## Building, testing, and quantifying a classifier.\n",
      "\n",
      "* Suppose you have a matrix derived from experimentation.\n",
      "* We define column names as **features, attributes** and row names as **observations**.\n",
      "* We also have experimentation for **negative controls**.\n",
      "* We create a binary **target vector** that indicates whether the observation is/is not a negative control.\n",
      "* **Classification enables examination whether our features are more enriched in observations or our control.**\n"
     ]
    },
    {
     "cell_type": "code",
     "collapsed": false,
     "input": [
      "import pandas\n",
      "import numpy\n",
      "from sklearn import datasets\n",
      "x, y = datasets.make_classification(n_samples=5, n_features=6, n_classes=2)\n",
      "matrix = pandas.DataFrame(data=x, columns=['A', 'B', 'C', 'D', 'E', 'F'])\n",
      "print matrix  # print results representing observations and controls."
     ],
     "language": "python",
     "metadata": {},
     "outputs": [
      {
       "output_type": "stream",
       "stream": "stdout",
       "text": [
        "          A         B         C         D         E         F\n",
        "0  1.115703 -1.012206 -0.892101 -0.854561 -0.675650  0.585359\n",
        "1  0.100017  1.188556  0.911898 -0.137961  0.725881  1.072707\n",
        "2 -3.522209  0.634121  0.830426  1.104247  0.558388  0.034511\n",
        "3 -0.300044 -1.610883 -1.220101 -1.325381 -0.975936  1.715463\n",
        "4 -2.108464  1.826168  1.618673  1.956304  1.223545 -1.785996\n",
        "\n",
        "[5 rows x 6 columns]\n"
       ]
      },
      {
       "output_type": "stream",
       "stream": "stderr",
       "text": [
        "/Users/hossein2/anaconda/lib/python2.7/site-packages/numexpr/cpuinfo.py:71: UserWarning: [Errno 2] No such file or directory\n",
        "  stacklevel=stacklevel+1):\n"
       ]
      }
     ],
     "prompt_number": 6
    },
    {
     "cell_type": "code",
     "collapsed": false,
     "input": [
      "target = pandas.DataFrame(data=y, columns=['Target'])\n",
      "print target  # each observation has a concordant target; 1 if observation, 0 otherwise."
     ],
     "language": "python",
     "metadata": {},
     "outputs": [
      {
       "output_type": "stream",
       "stream": "stdout",
       "text": [
        "   Target\n",
        "0       0\n",
        "1       1\n",
        "2       0\n",
        "3       1\n",
        "4       0\n",
        "\n",
        "[5 rows x 1 columns]\n"
       ]
      }
     ],
     "prompt_number": 7
    },
    {
     "cell_type": "markdown",
     "metadata": {},
     "source": [
      "**Let us now build a much larger matrix for use in our classification initiatives.**"
     ]
    },
    {
     "cell_type": "code",
     "collapsed": false,
     "input": [
      "# 20,000 x 20 matrix, therefore 10,000 observations and 10,000 controls.\n",
      "x, y = datasets.make_classification(n_samples=20000, n_features=20, n_classes=2, n_informative=15)\n",
      "\n",
      "# contrast distribution of query and control datasets.\n",
      "print numpy.percentile(x[y == 1 ],  [0, 25, 50, 75, 100])\n",
      "print numpy.percentile(x[y == 0 ],  [0, 25, 50, 75, 100])"
     ],
     "language": "python",
     "metadata": {},
     "outputs": [
      {
       "output_type": "stream",
       "stream": "stdout",
       "text": [
        "[-22.911947032930588, -1.3214952511974263, 0.12728307477999101, 1.6302426403512671, 19.2247366553683]\n",
        "[-24.451914993023031, -1.6170484788712298, -0.10327829257433777, 1.3557632972283202, 24.238026749648604]\n"
       ]
      }
     ],
     "prompt_number": 15
    },
    {
     "cell_type": "markdown",
     "metadata": {},
     "source": [
      "### Cross-validation\n",
      "**Classification and prediction go hand-in-hand. Without going into too much detail, finding the best parameters such that predictive error is most minimal is paramount to building a robust classifier. After all, a classifier built using parameters appreciating low error rates is key to sound classification. Deriving such parameters is made possible using cross-validation (CV). We use CV and use its outputs to build a LASSO classifier. Many classifiers exist ([SVM](http://en.wikipedia.org/wiki/Support_vector_machine), [Logistic Regression](http://en.wikipedia.org/wiki/Logistic_regression), [LASSO](http://statweb.stanford.edu/~tibs/lasso.html), etc). **\n",
      "\n",
      "**Big picture: CV splits a matrix into smaller chunks; one chunk is for training a classifier, the other for testing. Repeating this many times helps produce a classifier trained and tested on different parts of the matrix**"
     ]
    },
    {
     "cell_type": "code",
     "collapsed": false,
     "input": [
      "from sklearn import linear_model\n",
      "from sklearn import cross_validation\n",
      "\n",
      "# cross-validate our matrix\n",
      "# n => number of rows; 4/5 of matrix is for training.\n",
      "cv_object = cross_validation.KFold(n=x.shape[0], n_folds=5, random_state=0)\n",
      "\n",
      "# per iteration, classifier training is independent of testing.\n",
      "for i, (train_index, test_index) in enumerate(cv_object):\n",
      "    print 'Iteration', i+1\n",
      "    x_train, x_test = x[train_index], x[test_index]\n",
      "    y_train, y_test = y[train_index], y[test_index]\n",
      "    print '  training, testing sizes:', x_train.shape[0], x_test.shape[0]\n",
      "    print '  training, testing medians:', numpy.median(x_train), numpy.median(x_test), '\\n'"
     ],
     "language": "python",
     "metadata": {},
     "outputs": [
      {
       "output_type": "stream",
       "stream": "stdout",
       "text": [
        "Iteration 1\n",
        "  training, testing sizes: 16000 4000\n",
        "  training, testing medians: -0.0116628184917 -0.00707937745853 \n",
        "\n",
        "Iteration 2\n",
        "  training, testing sizes: 16000 4000\n",
        "  training, testing medians: -0.00918881000673 -0.0164140121966 \n",
        "\n",
        "Iteration 3\n",
        "  training, testing sizes: 16000 4000\n",
        "  training, testing medians: -0.00894023391386 -0.0165946824802 \n",
        "\n",
        "Iteration"
       ]
      },
      {
       "output_type": "stream",
       "stream": "stdout",
       "text": [
        " 4\n",
        "  training, testing sizes: 16000 4000\n",
        "  training, testing medians: -0.0125886460733 -0.00534676343965 \n",
        "\n",
        "Iteration 5\n",
        "  training, testing sizes: 16000 4000\n",
        "  training, testing medians: -0.0113567367599 -0.00866053853834 \n",
        "\n"
       ]
      }
     ],
     "prompt_number": 9
    },
    {
     "cell_type": "markdown",
     "metadata": {},
     "source": [
      "**Without CV, you would be training and testing on the same data; skewing results (overfitting). Upon completion of such iterations, you can extract parameters that minimize predictive error; critical to maximizing predictive robustness. Let us now use CV to identify such parameters.**"
     ]
    },
    {
     "cell_type": "code",
     "collapsed": false,
     "input": [
      "# CV aims to find optimal parameters which decrease predictive error.\n",
      "# Such a parameter, alpha (or lambda) is produced following CV.\n",
      "alphas = []\n",
      "\n",
      "cv_object = cross_validation.KFold(n=x.shape[0], n_folds=5, random_state=0)\n",
      "for i, (train_index, test_index) in enumerate(cv_object):\n",
      "    print 'Iteration', i+1\n",
      "    x_train, x_test = x[train_index], x[test_index]\n",
      "    y_train, y_test = y[train_index], y[test_index]\n",
      "    classifier = linear_model.LassoCV(cv=5) \n",
      "    classifier.fit(x_train, y_train)  # train a classifier\n",
      "    predictions = classifier.predict(x_test) # test the classifier\n",
      "    alphas.append(classifier.alpha_)\n",
      "    print classifier.alpha_, '\\n'"
     ],
     "language": "python",
     "metadata": {},
     "outputs": [
      {
       "output_type": "stream",
       "stream": "stdout",
       "text": [
        "Iteration 1\n",
        "0.00198635289332"
       ]
      },
      {
       "output_type": "stream",
       "stream": "stdout",
       "text": [
        " \n",
        "\n",
        "Iteration 2\n",
        "0.00214969098504"
       ]
      },
      {
       "output_type": "stream",
       "stream": "stdout",
       "text": [
        " \n",
        "\n",
        "Iteration 3\n",
        "0.00230751343542"
       ]
      },
      {
       "output_type": "stream",
       "stream": "stdout",
       "text": [
        " \n",
        "\n",
        "Iteration 4\n",
        "0.000613111083138"
       ]
      },
      {
       "output_type": "stream",
       "stream": "stdout",
       "text": [
        " \n",
        "\n",
        "Iteration 5\n",
        "0.00124810355586"
       ]
      },
      {
       "output_type": "stream",
       "stream": "stdout",
       "text": [
        " \n",
        "\n"
       ]
      },
      {
       "output_type": "stream",
       "stream": "stderr",
       "text": [
        "/Users/hossein2/anaconda/lib/python2.7/site-packages/sklearn/linear_model/coordinate_descent.py:418: UserWarning: Objective did not converge. You might want to increase the number of iterations\n",
        "  ' to increase the number of iterations')\n"
       ]
      }
     ],
     "prompt_number": 10
    },
    {
     "cell_type": "markdown",
     "metadata": {},
     "source": [
      "**You can quantify predictive robustness by enumerating false-positive and true-positive predictions, visualized using a Receiver Operating Characteistic (ROC) curve.**"
     ]
    },
    {
     "cell_type": "code",
     "collapsed": false,
     "input": [
      "from sklearn import metrics\n",
      "from matplotlib import pyplot\n",
      "\n",
      "%matplotlib inline\n",
      "pyplot.rcParams['figure.figsize'] = (13.0, 7.0)  # image size\n",
      "\n",
      "for i, (train_index, test_index) in enumerate(cv_object):\n",
      "    x_train, x_test = x[train_index], x[test_index]\n",
      "    y_train, y_test = y[train_index], y[test_index]\n",
      "    classifier = linear_model.LassoCV(cv=5) \n",
      "    classifier.fit(x_train, y_train)  # train a classifier\n",
      "    predictions = classifier.predict(x_test) # test the classifier\n",
      "    \n",
      "    # let us compute a false-positive rate (FPR) and true-positive rate(TPR) given our predictions, \n",
      "    fpr, tpr, thresholds = metrics.roc_curve(y_test, predictions)\n",
      "    auc = round(metrics.auc(fpr, tpr), 4)\n",
      "    pyplot.plot(fpr, tpr, label='Area:' + str(auc))\n",
      "\n",
      "pyplot.xlabel('False Positive Rate')  # measures FPR\n",
      "pyplot.ylabel('True Positive Rate')  # measures TPR\n",
      "pyplot.legend(loc=\"lower left\")\n",
      "pyplot.show()"
     ],
     "language": "python",
     "metadata": {},
     "outputs": [
      {
       "metadata": {},
       "output_type": "display_data",
       "png": "[encoded data removed]",
       "text": [
        "<matplotlib.figure.Figure at 0x103776150>"
       ]
      }
     ],
     "prompt_number": 14
    },
    {
     "cell_type": "markdown",
     "metadata": {},
     "source": [
      "**As we can see, there are numerous classifiers; each performing very well. One classifier, however, yields parameters that maximize predictive robustness. CV enables identification of this parameter, alpha (or lambda)**"
     ]
    },
    {
     "cell_type": "code",
     "collapsed": false,
     "input": [
      "best_alpha = numpy.median(alphas)  # we choose the median alpha.\n",
      "\n",
      "# we can now build a classifier given the original matrix and its target.\n",
      "classifier = linear_model.Lasso(alpha=best_alpha)\n",
      "classifier.fit(x, y)\n",
      "\n",
      "# features classified in group 1 (observations) will have positive weight.\n",
      "results = pandas.DataFrame()\n",
      "results['Weights'] = classifier.coef_\n",
      "print results"
     ],
     "language": "python",
     "metadata": {},
     "outputs": [
      {
       "output_type": "stream",
       "stream": "stdout",
       "text": [
        "     Weights\n",
        "0   0.026836\n",
        "1   0.039007\n",
        "2   0.038161\n",
        "3  -0.016444\n",
        "4  -0.039198\n",
        "5   0.008296\n",
        "6   0.012845\n",
        "7   0.019527\n",
        "8  -0.027632\n",
        "9  -0.000000\n",
        "10  0.008639\n",
        "11  0.058691\n",
        "12  0.007749\n",
        "13 -0.000000\n",
        "14  0.000000\n",
        "15 -0.000549\n",
        "16 -0.041223\n",
        "17 -0.043183\n",
        "18  0.000232\n",
        "19  0.022041\n",
        "\n",
        "[20 rows x 1 columns]\n"
       ]
      }
     ],
     "prompt_number": 12
    },
    {
     "cell_type": "markdown",
     "metadata": {},
     "source": [
      "### Conclusions\n",
      "**We built a binary classifier for a randomly-generated dataset. Using the LASSO classification algorithm and cross-validation, we trained numerous classifier and chose an optimal parameter, alpha, to decrease predictive error-rates.**"
     ]
    },
    {
     "cell_type": "markdown",
     "metadata": {},
     "source": [
      "### What we left out\n",
      "* Homogenization: Removing observations that have properties similar to controls.\n",
      "* Feature selection: Namely boosting and random forests.\n",
      "* Multi-nomial targets: Instances whereby your target is not binary."
     ]
    }
   ],
   "metadata": {}
  }
 ]
}